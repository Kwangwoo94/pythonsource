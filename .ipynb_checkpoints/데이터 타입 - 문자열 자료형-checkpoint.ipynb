{
 "cells": [
  {
   "cell_type": "markdown",
   "id": "a6991497",
   "metadata": {},
   "source": [
    "- 문자열(String) : 큰따옴표(\"\") / 작은따옴표('') / 큰따옴표 3개 연속(\"\"\" \"\"\") / 작은따옴표 3개 연속(''' ''')"
   ]
  },
  {
   "cell_type": "code",
   "execution_count": 1,
   "id": "9bf2345f",
   "metadata": {},
   "outputs": [
    {
     "name": "stdout",
     "output_type": "stream",
     "text": [
      "Python's favorite food is perl\n"
     ]
    }
   ],
   "source": [
    "print(\"Python's favorite food is perl\")"
   ]
  },
  {
   "cell_type": "code",
   "execution_count": 2,
   "id": "63e9b8d6",
   "metadata": {},
   "outputs": [
    {
     "name": "stdout",
     "output_type": "stream",
     "text": [
      "\n",
      "Life is too short\n",
      "You need python\n",
      "\n"
     ]
    }
   ],
   "source": [
    "multiline = '''\n",
    "Life is too short\n",
    "You need python\n",
    "'''\n",
    "\n",
    "print(multiline)"
   ]
  },
  {
   "cell_type": "markdown",
   "id": "015cfadf",
   "metadata": {},
   "source": [
    "1. 문자열 연산"
   ]
  },
  {
   "cell_type": "code",
   "execution_count": 3,
   "id": "6aa8c934",
   "metadata": {},
   "outputs": [
    {
     "name": "stdout",
     "output_type": "stream",
     "text": [
      "pythonis fun\n"
     ]
    }
   ],
   "source": [
    "# + : 결합\n",
    "\n",
    "print(\"python\"+\"is fun\")"
   ]
  },
  {
   "cell_type": "code",
   "execution_count": 4,
   "id": "82b459ae",
   "metadata": {},
   "outputs": [
    {
     "name": "stdout",
     "output_type": "stream",
     "text": [
      "파이썬파이썬\n"
     ]
    }
   ],
   "source": [
    "# * : 반복\n",
    "\n",
    "print(\"파이썬\"*2)"
   ]
  },
  {
   "cell_type": "code",
   "execution_count": 5,
   "id": "820a7a33",
   "metadata": {},
   "outputs": [
    {
     "name": "stdout",
     "output_type": "stream",
     "text": [
      "**************************************************\n",
      "My Program\n",
      "**************************************************\n"
     ]
    }
   ],
   "source": [
    "print(\"*\"*50)\n",
    "print(\"My Program\")\n",
    "print(\"*\"*50)"
   ]
  },
  {
   "cell_type": "markdown",
   "id": "8238bf69",
   "metadata": {},
   "source": [
    "2. 문자열 인덱싱과 슬라이싱"
   ]
  },
  {
   "cell_type": "code",
   "execution_count": 8,
   "id": "f80fa995",
   "metadata": {},
   "outputs": [
    {
     "name": "stdout",
     "output_type": "stream",
     "text": [
      "e\n",
      "t\n",
      "e\n"
     ]
    }
   ],
   "source": [
    "str1 = \"Life is too short\"\n",
    "print(str1[3])\n",
    "print(str1[-1])\n",
    "print(str1[-14])"
   ]
  },
  {
   "cell_type": "code",
   "execution_count": 9,
   "id": "b8394efd",
   "metadata": {},
   "outputs": [
    {
     "data": {
      "text/plain": [
       "'Life'"
      ]
     },
     "execution_count": 9,
     "metadata": {},
     "output_type": "execute_result"
    }
   ],
   "source": [
    "str1[0:4] # 마지막 숫자 포함 안함"
   ]
  },
  {
   "cell_type": "code",
   "execution_count": 10,
   "id": "d77948b6",
   "metadata": {},
   "outputs": [
    {
     "data": {
      "text/plain": [
       "' is '"
      ]
     },
     "execution_count": 10,
     "metadata": {},
     "output_type": "execute_result"
    }
   ],
   "source": [
    "str1[4:8]"
   ]
  },
  {
   "cell_type": "code",
   "execution_count": 11,
   "id": "9fc8a07c",
   "metadata": {},
   "outputs": [
    {
     "data": {
      "text/plain": [
       "'oo short'"
      ]
     },
     "execution_count": 11,
     "metadata": {},
     "output_type": "execute_result"
    }
   ],
   "source": [
    "str1[9:]"
   ]
  },
  {
   "cell_type": "code",
   "execution_count": 12,
   "id": "6fc3e99d",
   "metadata": {},
   "outputs": [
    {
     "data": {
      "text/plain": [
       "'Life is too sho'"
      ]
     },
     "execution_count": 12,
     "metadata": {},
     "output_type": "execute_result"
    }
   ],
   "source": [
    "str1[:15]"
   ]
  },
  {
   "cell_type": "code",
   "execution_count": 13,
   "id": "735fd2fd",
   "metadata": {},
   "outputs": [
    {
     "data": {
      "text/plain": [
       "'Life is too s'"
      ]
     },
     "execution_count": 13,
     "metadata": {},
     "output_type": "execute_result"
    }
   ],
   "source": [
    "str1[0:-4]"
   ]
  },
  {
   "cell_type": "code",
   "execution_count": 21,
   "id": "9416c425",
   "metadata": {},
   "outputs": [
    {
     "name": "stdout",
     "output_type": "stream",
     "text": [
      "20210629 sunny\n"
     ]
    }
   ],
   "source": [
    "str2 = \"20210629sunny\"\n",
    "\n",
    "#년 월 일\n",
    "date = str2[:8]\n",
    "#날씨\n",
    "weather = str2[8:]\n",
    "\n",
    "print(date,weather)"
   ]
  },
  {
   "cell_type": "code",
   "execution_count": 22,
   "id": "a8edd086",
   "metadata": {},
   "outputs": [
    {
     "name": "stdout",
     "output_type": "stream",
     "text": [
      "2021-06-29\n"
     ]
    }
   ],
   "source": [
    "# date 를 2021-06-29로 출력\n",
    "\n",
    "year = date[:4]\n",
    "month = date[4:6]\n",
    "day = date[6:]\n",
    "\n",
    "print(year,month,day, sep=\"-\")"
   ]
  },
  {
   "cell_type": "code",
   "execution_count": 41,
   "id": "bca45bee",
   "metadata": {},
   "outputs": [
    {
     "name": "stdout",
     "output_type": "stream",
     "text": [
      "남자 입니다.\n"
     ]
    }
   ],
   "source": [
    "# 주민번호의 8번째 자리수를 사용해서 남,여 판별(1,3 : 남자 2,4: 여자)\n",
    "\n",
    "str3 = \"901204-1234567\"\n",
    "\n",
    "gender = int(str3[7])\n",
    "\n",
    "if(gender == 1):\n",
    "    print(\"남자 입니다.\")\n",
    "elif(gender == 3):\n",
    "    print(\"남자 입니다.\")\n",
    "elif(gender == 2):\n",
    "    print(\"여자 입니다.\")\n",
    "elif(gender == 4):\n",
    "    print(\"여자 입니다.\")\n",
    "else:\n",
    "    print(\"잘못된 번호입니다.\")"
   ]
  },
  {
   "cell_type": "code",
   "execution_count": 40,
   "id": "89af039c",
   "metadata": {},
   "outputs": [
    {
     "name": "stdout",
     "output_type": "stream",
     "text": [
      "여자\n"
     ]
    }
   ],
   "source": [
    "no = str[7]\n",
    "\n",
    "if no == \"1\" or no == \"3\":\n",
    "    print(\"남자\")\n",
    "else:\n",
    "    print(\"여자\")"
   ]
  },
  {
   "cell_type": "code",
   "execution_count": 35,
   "id": "ecc35190",
   "metadata": {},
   "outputs": [
    {
     "name": "stdout",
     "output_type": "stream",
     "text": [
      "남자\n"
     ]
    }
   ],
   "source": [
    "if int(str3[7]) % 2 == 1:\n",
    "    print(\"남자\")\n",
    "else:\n",
    "    print(\"여자\")"
   ]
  },
  {
   "cell_type": "code",
   "execution_count": 42,
   "id": "2821a4f9",
   "metadata": {},
   "outputs": [
    {
     "name": "stdout",
     "output_type": "stream",
     "text": [
      "대$한$민$국$"
     ]
    }
   ],
   "source": [
    "str4 = \"대한민국\"\n",
    "\n",
    "for s in str4:\n",
    "    print(s+\"$\",end=\"\")"
   ]
  },
  {
   "cell_type": "code",
   "execution_count": 54,
   "id": "26b13bc5",
   "metadata": {},
   "outputs": [
    {
     "name": "stdout",
     "output_type": "stream",
     "text": [
      "숫자를 입력하세요 : 1234321\n",
      "♥ \n",
      "♥ ♥ \n",
      "♥ ♥ ♥ \n",
      "♥ ♥ ♥ ♥ \n",
      "♥ ♥ ♥ \n",
      "♥ ♥ \n",
      "♥ \n"
     ]
    }
   ],
   "source": [
    "# 사용자한테 숫자를 입력받은 후 숫자만큼 하트를 출력\n",
    "# 54321\n",
    "\n",
    "# ♥♥♥♥♥\n",
    "# ♥♥♥♥\n",
    "# ♥♥♥\n",
    "# ♥♥\n",
    "# ♥\n",
    "\n",
    "hstr = input(\"숫자를 입력하세요 : \")\n",
    "\n",
    "for i in range(0, len(hstr)):\n",
    "    for s in range(0, int(hstr[i])):\n",
    "        print(\"♥\", end=\" \")\n",
    "    print()"
   ]
  },
  {
   "cell_type": "code",
   "execution_count": null,
   "id": "0cd1dd80",
   "metadata": {},
   "outputs": [],
   "source": []
  },
  {
   "cell_type": "markdown",
   "id": "34df848d",
   "metadata": {},
   "source": [
    "3.문자열 함수"
   ]
  },
  {
   "cell_type": "code",
   "execution_count": 43,
   "id": "030278fe",
   "metadata": {},
   "outputs": [
    {
     "name": "stdout",
     "output_type": "stream",
     "text": [
      "17\n"
     ]
    }
   ],
   "source": [
    "# len() : 문자열 길이\n",
    "\n",
    "print(len(str1))"
   ]
  },
  {
   "cell_type": "code",
   "execution_count": 56,
   "id": "8b91fcda",
   "metadata": {},
   "outputs": [
    {
     "name": "stdout",
     "output_type": "stream",
     "text": [
      "a 문자열에 포함된 b 개수 : 2\n",
      "a 문자열에 포함된 b 개수 : 2\n",
      "a 문자열에 포함된 b 개수 : 2\n"
     ]
    }
   ],
   "source": [
    "# count() : 문자열에 포함된 특정 문자열 개수\n",
    "\n",
    "a = \"hobby\"\n",
    "\n",
    "print(\"a 문자열에 포함된 b 개수 :\",a.count(\"b\"))\n",
    "print(\"a 문자열에 포함된 b 개수 : %d\" % a.count(\"b\"))\n",
    "print(\"a 문자열에 포함된 b 개수 : {}\".format(a.count(\"b\")))"
   ]
  },
  {
   "cell_type": "code",
   "execution_count": 65,
   "id": "971564e4",
   "metadata": {},
   "outputs": [
    {
     "name": "stdout",
     "output_type": "stream",
     "text": [
      "b 가 시작되는 첫번째 위치 :  10\n",
      "k 가 시작되는 첫번째 위치 :  -1\n"
     ]
    }
   ],
   "source": [
    "# find() : 문자가 시작되는 위치 찾기\n",
    "\n",
    "str1 = \"Python is best choice\"\n",
    "print(\"b 가 시작되는 첫번째 위치 : \",str1.find(\"b\"))\n",
    "print(\"k 가 시작되는 첫번째 위치 : \",str1.find(\"k\")) #없는 값을 찾으려 하면 -1"
   ]
  },
  {
   "cell_type": "code",
   "execution_count": 69,
   "id": "c6457031",
   "metadata": {},
   "outputs": [
    {
     "name": "stdout",
     "output_type": "stream",
     "text": [
      "b 가 시작되는 첫번째 위치 :  10\n"
     ]
    }
   ],
   "source": [
    "# index() : find() 같은 역할 단, 찾는 문자열이 없는 경우 ValueError\n",
    "\n",
    "print(\"b 가 시작되는 첫번째 위치 : \",str1.index(\"b\"))\n",
    "#print(\"k 가 시작되는 첫번째 위치 : \",str1.index(\"k\"))"
   ]
  },
  {
   "cell_type": "code",
   "execution_count": 70,
   "id": "93ce0984",
   "metadata": {},
   "outputs": [
    {
     "name": "stdout",
     "output_type": "stream",
     "text": [
      "True\n",
      "False\n"
     ]
    }
   ],
   "source": [
    "# startswith() : 해당 문자열로 시작하는지 여부\n",
    "# endswith() : 해당문자열로 종료하는지 여부\n",
    "\n",
    "str1 = \"Python is Easy programming\"\n",
    "print(str1.startswith(\"P\"))\n",
    "\n",
    "print(str1.endswith(\"P\"))"
   ]
  },
  {
   "cell_type": "code",
   "execution_count": 71,
   "id": "ad64390b",
   "metadata": {},
   "outputs": [
    {
     "data": {
      "text/plain": [
       "'a,b,c,d'"
      ]
     },
     "execution_count": 71,
     "metadata": {},
     "output_type": "execute_result"
    }
   ],
   "source": [
    "# join() : 문자열 삽입\n",
    "\n",
    "a = \",\"\n",
    "\n",
    "a.join(\"abcd\")"
   ]
  },
  {
   "cell_type": "code",
   "execution_count": 74,
   "id": "9b6be2c8",
   "metadata": {},
   "outputs": [
    {
     "name": "stdout",
     "output_type": "stream",
     "text": [
      "ABCDE\n",
      "abcde\n"
     ]
    }
   ],
   "source": [
    "# upper() : 대문자로 변경\n",
    "# lower() : 소문자로 변경\n",
    "\n",
    "a = \"abcde\"\n",
    "print(a.upper())\n",
    "\n",
    "b = \"ABCDE\"\n",
    "print(b.lower())"
   ]
  },
  {
   "cell_type": "code",
   "execution_count": 76,
   "id": "756efadd",
   "metadata": {},
   "outputs": [
    {
     "name": "stdout",
     "output_type": "stream",
     "text": [
      "hi\n",
      "hi\n",
      "hi\n"
     ]
    }
   ],
   "source": [
    "# strip() - 양쪽 공백 제거 / rstrip() - 오른쪽 공백 제거 /lstrip() - 왼쪽 공백 제거\n",
    "\n",
    "str1 = \"      hi\"\n",
    "print(str1.lstrip())\n",
    "\n",
    "str2 = \"hi       \"\n",
    "print(str2.rstrip())\n",
    "\n",
    "str3 = \"     hi     \"\n",
    "print(str3.strip())"
   ]
  },
  {
   "cell_type": "code",
   "execution_count": 77,
   "id": "18702d87",
   "metadata": {},
   "outputs": [
    {
     "name": "stdout",
     "output_type": "stream",
     "text": [
      "Your leg is too short\n"
     ]
    }
   ],
   "source": [
    "# replace() : 문자열 변경\n",
    "\n",
    "str1 = \"Life is too short\"\n",
    "print(str1.replace(\"Life\",\"Your leg\"))"
   ]
  },
  {
   "cell_type": "code",
   "execution_count": 80,
   "id": "920fad5b",
   "metadata": {},
   "outputs": [
    {
     "name": "stdout",
     "output_type": "stream",
     "text": [
      "['Life', 'is', 'too', 'short']\n",
      "['a', 'b', 'c', 'd']\n",
      "['하나', '둘', '셋']\n"
     ]
    }
   ],
   "source": [
    "# split() : 문자열 나누기\n",
    "\n",
    "print(str1.split()) #공백 기준으로 문자열 나눔(list 구조로 반환)\n",
    "\n",
    "str2 = \"a:b:c:d\"\n",
    "\n",
    "print(str2.split(\":\"))\n",
    "\n",
    "str3 = \"하나\\n둘\\n셋\"\n",
    "print(str3.splitlines()) # str3.split(\"\\n\")"
   ]
  },
  {
   "cell_type": "code",
   "execution_count": null,
   "id": "399b74a5",
   "metadata": {},
   "outputs": [],
   "source": []
  },
  {
   "cell_type": "code",
   "execution_count": null,
   "id": "a8fde7c9",
   "metadata": {},
   "outputs": [],
   "source": []
  },
  {
   "cell_type": "code",
   "execution_count": null,
   "id": "386162e0",
   "metadata": {},
   "outputs": [],
   "source": []
  },
  {
   "cell_type": "code",
   "execution_count": null,
   "id": "a6f29556",
   "metadata": {},
   "outputs": [],
   "source": []
  }
 ],
 "metadata": {
  "kernelspec": {
   "display_name": "Python 3",
   "language": "python",
   "name": "python3"
  },
  "language_info": {
   "codemirror_mode": {
    "name": "ipython",
    "version": 3
   },
   "file_extension": ".py",
   "mimetype": "text/x-python",
   "name": "python",
   "nbconvert_exporter": "python",
   "pygments_lexer": "ipython3",
   "version": "3.8.8"
  }
 },
 "nbformat": 4,
 "nbformat_minor": 5
}
