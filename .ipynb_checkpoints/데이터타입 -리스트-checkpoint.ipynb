{
 "cells": [
  {
   "cell_type": "markdown",
   "id": "4e8045f2",
   "metadata": {},
   "source": [
    "### 리스트 생성"
   ]
  },
  {
   "cell_type": "code",
   "execution_count": 1,
   "id": "1fc6541e",
   "metadata": {},
   "outputs": [],
   "source": [
    "# 비어 있는 리스트 생성\n",
    "\n",
    "list1 = []"
   ]
  },
  {
   "cell_type": "code",
   "execution_count": 2,
   "id": "a5df74f5",
   "metadata": {},
   "outputs": [],
   "source": [
    "# 요소가 들어 있는 리스트 생성\n",
    "\n",
    "list2 = ['a','b','c']\n",
    "list3 = ['a','b','c',1,2]\n",
    "list4 = [1,2,3,4,5,6]\n",
    "list5 = [1,2,['life','is','short']]"
   ]
  },
  {
   "cell_type": "code",
   "execution_count": 3,
   "id": "8039818d",
   "metadata": {},
   "outputs": [
    {
     "data": {
      "text/plain": [
       "['a', 'b', 'c']"
      ]
     },
     "execution_count": 3,
     "metadata": {},
     "output_type": "execute_result"
    }
   ],
   "source": [
    "list2"
   ]
  },
  {
   "cell_type": "code",
   "execution_count": 4,
   "id": "eab9e5f0",
   "metadata": {},
   "outputs": [
    {
     "data": {
      "text/plain": [
       "[1, 2, ['life', 'is', 'short']]"
      ]
     },
     "execution_count": 4,
     "metadata": {},
     "output_type": "execute_result"
    }
   ],
   "source": [
    "list5"
   ]
  },
  {
   "cell_type": "markdown",
   "id": "ed46b549",
   "metadata": {},
   "source": [
    "### 리스트 인덱싱"
   ]
  },
  {
   "cell_type": "code",
   "execution_count": 5,
   "id": "b9bf4426",
   "metadata": {},
   "outputs": [
    {
     "name": "stdout",
     "output_type": "stream",
     "text": [
      "b\n"
     ]
    }
   ],
   "source": [
    "print(list2[1])"
   ]
  },
  {
   "cell_type": "code",
   "execution_count": 6,
   "id": "827e82ed",
   "metadata": {},
   "outputs": [
    {
     "name": "stdout",
     "output_type": "stream",
     "text": [
      "['life', 'is', 'short']\n"
     ]
    }
   ],
   "source": [
    "print(list5[2])"
   ]
  },
  {
   "cell_type": "code",
   "execution_count": 7,
   "id": "cd662c0e",
   "metadata": {},
   "outputs": [
    {
     "name": "stdout",
     "output_type": "stream",
     "text": [
      "is\n"
     ]
    }
   ],
   "source": [
    "print(list5[2][1])"
   ]
  },
  {
   "cell_type": "code",
   "execution_count": 8,
   "id": "8245acd1",
   "metadata": {},
   "outputs": [
    {
     "name": "stdout",
     "output_type": "stream",
     "text": [
      "short\n"
     ]
    }
   ],
   "source": [
    "print(list5[-1][2])"
   ]
  },
  {
   "cell_type": "code",
   "execution_count": 11,
   "id": "c69e2877",
   "metadata": {},
   "outputs": [
    {
     "name": "stdout",
     "output_type": "stream",
     "text": [
      "is\n",
      "is\n",
      "is\n"
     ]
    }
   ],
   "source": [
    "list6 = [1,2,['a','b',['life','is']]]\n",
    "\n",
    "# is 출력\n",
    "\n",
    "print(list6[2][2][1])\n",
    "print(list6[-1][-1][-1])\n",
    "print(list6[-1][2][-1])"
   ]
  },
  {
   "cell_type": "markdown",
   "id": "e71fee1c",
   "metadata": {},
   "source": [
    "### 리스트 슬라이싱"
   ]
  },
  {
   "cell_type": "code",
   "execution_count": 14,
   "id": "e24cf0b9",
   "metadata": {},
   "outputs": [
    {
     "name": "stdout",
     "output_type": "stream",
     "text": [
      "['a', 'b']\n",
      "['a', 'b']\n",
      "['a', 'b', 'c', 1]\n"
     ]
    }
   ],
   "source": [
    "print(list3[0:2])\n",
    "print(list3[:2])\n",
    "print(list3[:-1])"
   ]
  },
  {
   "cell_type": "code",
   "execution_count": 15,
   "id": "6fe7464d",
   "metadata": {},
   "outputs": [
    {
     "name": "stdout",
     "output_type": "stream",
     "text": [
      "[['life', 'is', 'short']]\n"
     ]
    }
   ],
   "source": [
    "print(list5[2:])"
   ]
  },
  {
   "cell_type": "code",
   "execution_count": 16,
   "id": "a35d5550",
   "metadata": {},
   "outputs": [
    {
     "name": "stdout",
     "output_type": "stream",
     "text": [
      "['life', 'is']\n"
     ]
    }
   ],
   "source": [
    "print(list5[2][:2])"
   ]
  },
  {
   "cell_type": "code",
   "execution_count": 18,
   "id": "7a9b72f5",
   "metadata": {},
   "outputs": [
    {
     "name": "stdout",
     "output_type": "stream",
     "text": [
      "[3, 4, 5]\n",
      "[3, 4, 5]\n"
     ]
    }
   ],
   "source": [
    "# list4 => [3,4,5]\n",
    "\n",
    "print(list4[2:5])\n",
    "print(list4[2:-1])"
   ]
  },
  {
   "cell_type": "markdown",
   "id": "c96a1a15",
   "metadata": {},
   "source": [
    "### 리스트 연산자\n",
    "\n",
    "```\n",
    "+ : 연결(인덱싱의 경우 더하기 개념)\n",
    "```"
   ]
  },
  {
   "cell_type": "code",
   "execution_count": 20,
   "id": "8811bc8f",
   "metadata": {},
   "outputs": [
    {
     "name": "stdout",
     "output_type": "stream",
     "text": [
      "[1, 2, 3, 4, 5, 6]\n",
      "[1, 2, 3, 'a', 'b', 'c']\n",
      "6\n"
     ]
    }
   ],
   "source": [
    "a = [1,2,3]\n",
    "b = [4,5,6]\n",
    "c = ['a','b','c']\n",
    "\n",
    "print(a+b) # + : 연결\n",
    "print(a+c)\n",
    "print(a[0] + b[1]) # 인덱싱에 적용하는 + 산술연산 개념"
   ]
  },
  {
   "cell_type": "markdown",
   "id": "48ebc3f1",
   "metadata": {},
   "source": [
    "```\n",
    "* : 반복 \n",
    "```"
   ]
  },
  {
   "cell_type": "code",
   "execution_count": 21,
   "id": "bcea5324",
   "metadata": {},
   "outputs": [
    {
     "name": "stdout",
     "output_type": "stream",
     "text": [
      "[1, 2, 3, 1, 2, 3, 1, 2, 3]\n"
     ]
    }
   ],
   "source": [
    "print(a * 3)"
   ]
  },
  {
   "cell_type": "code",
   "execution_count": 23,
   "id": "10b09518",
   "metadata": {},
   "outputs": [
    {
     "name": "stdout",
     "output_type": "stream",
     "text": [
      "3\n"
     ]
    }
   ],
   "source": [
    "print(a[0]*3)"
   ]
  },
  {
   "cell_type": "markdown",
   "id": "d1b3f0bb",
   "metadata": {},
   "source": [
    "### 리스트 수정,변경,삭제"
   ]
  },
  {
   "cell_type": "code",
   "execution_count": 24,
   "id": "697c9081",
   "metadata": {},
   "outputs": [
    {
     "name": "stdout",
     "output_type": "stream",
     "text": [
      "[1, 2, 4]\n"
     ]
    }
   ],
   "source": [
    "a[2] = 4\n",
    "print(a)"
   ]
  },
  {
   "cell_type": "code",
   "execution_count": 25,
   "id": "1805b4e0",
   "metadata": {},
   "outputs": [
    {
     "name": "stdout",
     "output_type": "stream",
     "text": [
      "[1, 2, 'Life']\n"
     ]
    }
   ],
   "source": [
    "a[2] = 'Life'\n",
    "print(a)"
   ]
  },
  {
   "cell_type": "code",
   "execution_count": 26,
   "id": "061e4bcb",
   "metadata": {},
   "outputs": [
    {
     "data": {
      "text/plain": [
       "[1, 2, 'Life']"
      ]
     },
     "execution_count": 26,
     "metadata": {},
     "output_type": "execute_result"
    }
   ],
   "source": [
    "a"
   ]
  },
  {
   "cell_type": "code",
   "execution_count": 27,
   "id": "024f5254",
   "metadata": {},
   "outputs": [
    {
     "data": {
      "text/plain": [
       "[1, 'a', 'b', 'c', 'Life']"
      ]
     },
     "execution_count": 27,
     "metadata": {},
     "output_type": "execute_result"
    }
   ],
   "source": [
    "a[1:2] = ['a','b','c']\n",
    "a"
   ]
  },
  {
   "cell_type": "code",
   "execution_count": 28,
   "id": "06de07e1",
   "metadata": {},
   "outputs": [
    {
     "data": {
      "text/plain": [
       "[1, [15, 16, 17], 'b', 'c', 'Life']"
      ]
     },
     "execution_count": 28,
     "metadata": {},
     "output_type": "execute_result"
    }
   ],
   "source": [
    "a[1] = [15,16,17]\n",
    "a"
   ]
  },
  {
   "cell_type": "code",
   "execution_count": 29,
   "id": "7890a512",
   "metadata": {},
   "outputs": [
    {
     "data": {
      "text/plain": [
       "[1, 'c', 'Life']"
      ]
     },
     "execution_count": 29,
     "metadata": {},
     "output_type": "execute_result"
    }
   ],
   "source": [
    "a[1:3] = []\n",
    "a"
   ]
  },
  {
   "cell_type": "code",
   "execution_count": 30,
   "id": "496e0dc3",
   "metadata": {},
   "outputs": [
    {
     "data": {
      "text/plain": [
       "[1, 'Life']"
      ]
     },
     "execution_count": 30,
     "metadata": {},
     "output_type": "execute_result"
    }
   ],
   "source": [
    "del a[1]\n",
    "a"
   ]
  },
  {
   "cell_type": "markdown",
   "id": "18a2264c",
   "metadata": {},
   "source": [
    "### 실습문제"
   ]
  },
  {
   "cell_type": "code",
   "execution_count": 37,
   "id": "26646669",
   "metadata": {},
   "outputs": [
    {
     "name": "stdout",
     "output_type": "stream",
     "text": [
      "273\n",
      "103\n",
      "800\n"
     ]
    }
   ],
   "source": [
    "# for 문을 사용하여 100이상의 숫자만 출력하기\n",
    "\n",
    "numbers = [273,103,5,32,65,9,72,800,99]\n",
    "\n",
    "for num in numbers:\n",
    "    if num >= 100:\n",
    "        print(num)"
   ]
  },
  {
   "cell_type": "code",
   "execution_count": 39,
   "id": "f4545c0b",
   "metadata": {},
   "outputs": [
    {
     "name": "stdout",
     "output_type": "stream",
     "text": [
      "273(은)는 홀수입니다\n",
      "103(은)는 홀수입니다\n",
      "5(은)는 홀수입니다\n",
      "32(은)는 짝수입니다\n",
      "65(은)는 홀수입니다\n",
      "9(은)는 홀수입니다\n",
      "72(은)는 짝수입니다\n",
      "800(은)는 짝수입니다\n",
      "99(은)는 홀수입니다\n"
     ]
    }
   ],
   "source": [
    "# numbers 안에 들어 있는 각 숫자들이 짝수인지 홀수인지 출력하기\n",
    "# 273은 홀수입니다\n",
    "\n",
    "for num in numbers:\n",
    "    if num % 2 == 0:\n",
    "        print(\"%d(은)는 짝수입니다\" %num)\n",
    "    else:\n",
    "        print(\"%d(은)는 홀수입니다\" %num)"
   ]
  },
  {
   "cell_type": "code",
   "execution_count": 44,
   "id": "1ddc1fda",
   "metadata": {},
   "outputs": [
    {
     "name": "stdout",
     "output_type": "stream",
     "text": [
      "273는 3자리 수입니다.\n",
      "103는 3자리 수입니다.\n",
      "5는 1자리 수입니다.\n",
      "32는 2자리 수입니다.\n",
      "65는 2자리 수입니다.\n",
      "9는 1자리 수입니다.\n",
      "72는 2자리 수입니다.\n",
      "800는 3자리 수입니다.\n",
      "99는 2자리 수입니다.\n"
     ]
    }
   ],
   "source": [
    "#주어진 숫자의 자릿수를 출력하기\n",
    "#273은 3자리수입니다.\n",
    "\n",
    "for num in numbers:\n",
    "    print(\"{}는 {}자리 수입니다.\".format(num,len(str(num))))\n",
    "    \n",
    "    "
   ]
  },
  {
   "cell_type": "code",
   "execution_count": 45,
   "id": "66af1621",
   "metadata": {},
   "outputs": [
    {
     "data": {
      "text/plain": [
       "[[1, 2, 3], [4, 5, 6], [7, 8, 9]]"
      ]
     },
     "execution_count": 45,
     "metadata": {},
     "output_type": "execute_result"
    }
   ],
   "source": [
    "list_of_list = [[1,2,3],[4,5,6],[7,8,9]]\n",
    "\n",
    "list_of_list"
   ]
  },
  {
   "cell_type": "code",
   "execution_count": 46,
   "id": "cce5ec01",
   "metadata": {},
   "outputs": [
    {
     "name": "stdout",
     "output_type": "stream",
     "text": [
      "1 2 3 4 5 6 7 8 9 "
     ]
    }
   ],
   "source": [
    "# 1 2 3 4 5 6 7 8 9 출력\n",
    "\n",
    "for list in list_of_list:\n",
    "    for num in list:\n",
    "        print(num, end=\" \")"
   ]
  },
  {
   "cell_type": "markdown",
   "id": "1078e9ff",
   "metadata": {},
   "source": [
    "### 리스트 관련 함수"
   ]
  },
  {
   "cell_type": "markdown",
   "id": "e1325f9e",
   "metadata": {},
   "source": [
    "- append : 리스트에 요소 추가"
   ]
  },
  {
   "cell_type": "code",
   "execution_count": 47,
   "id": "f1e04fb0",
   "metadata": {},
   "outputs": [
    {
     "data": {
      "text/plain": [
       "[1, 2, 3, 4]"
      ]
     },
     "execution_count": 47,
     "metadata": {},
     "output_type": "execute_result"
    }
   ],
   "source": [
    "a = [1,2,3]\n",
    "\n",
    "a.append(4)\n",
    "a"
   ]
  },
  {
   "cell_type": "code",
   "execution_count": 48,
   "id": "6aaeff7f",
   "metadata": {},
   "outputs": [
    {
     "data": {
      "text/plain": [
       "[1, 2, 3, 4, [5, 6]]"
      ]
     },
     "execution_count": 48,
     "metadata": {},
     "output_type": "execute_result"
    }
   ],
   "source": [
    "a.append([5,6])\n",
    "a"
   ]
  },
  {
   "cell_type": "code",
   "execution_count": 49,
   "id": "c72adcb5",
   "metadata": {},
   "outputs": [
    {
     "ename": "TypeError",
     "evalue": "append() takes exactly one argument (3 given)",
     "output_type": "error",
     "traceback": [
      "\u001b[1;31m---------------------------------------------------------------------------\u001b[0m",
      "\u001b[1;31mTypeError\u001b[0m                                 Traceback (most recent call last)",
      "\u001b[1;32m<ipython-input-49-283b4f9da5ef>\u001b[0m in \u001b[0;36m<module>\u001b[1;34m\u001b[0m\n\u001b[1;32m----> 1\u001b[1;33m \u001b[0ma\u001b[0m\u001b[1;33m.\u001b[0m\u001b[0mappend\u001b[0m\u001b[1;33m(\u001b[0m\u001b[1;36m7\u001b[0m\u001b[1;33m,\u001b[0m\u001b[1;36m8\u001b[0m\u001b[1;33m,\u001b[0m\u001b[1;36m9\u001b[0m\u001b[1;33m)\u001b[0m\u001b[1;33m\u001b[0m\u001b[1;33m\u001b[0m\u001b[0m\n\u001b[0m\u001b[0;32m      2\u001b[0m \u001b[0ma\u001b[0m\u001b[1;33m\u001b[0m\u001b[1;33m\u001b[0m\u001b[0m\n",
      "\u001b[1;31mTypeError\u001b[0m: append() takes exactly one argument (3 given)"
     ]
    }
   ],
   "source": [
    "a.append(7,8,9)\n",
    "a"
   ]
  },
  {
   "cell_type": "markdown",
   "id": "1586c04a",
   "metadata": {},
   "source": [
    "- sort : 리스트 정렬"
   ]
  },
  {
   "cell_type": "code",
   "execution_count": 50,
   "id": "4ce1b1a7",
   "metadata": {},
   "outputs": [
    {
     "data": {
      "text/plain": [
       "[25, 75, 15, 9, 6, 3, 36]"
      ]
     },
     "execution_count": 50,
     "metadata": {},
     "output_type": "execute_result"
    }
   ],
   "source": [
    "list1 = [25,75,15,9,6,3,36]\n",
    "list1"
   ]
  },
  {
   "cell_type": "code",
   "execution_count": 51,
   "id": "3a7596cd",
   "metadata": {},
   "outputs": [
    {
     "data": {
      "text/plain": [
       "[3, 6, 9, 15, 25, 36, 75]"
      ]
     },
     "execution_count": 51,
     "metadata": {},
     "output_type": "execute_result"
    }
   ],
   "source": [
    "list1.sort() # 오름차순 정렬\n",
    "list1"
   ]
  },
  {
   "cell_type": "code",
   "execution_count": 52,
   "id": "050b2c12",
   "metadata": {},
   "outputs": [
    {
     "data": {
      "text/plain": [
       "['a', 'k', 'q', 'r', 'z']"
      ]
     },
     "execution_count": 52,
     "metadata": {},
     "output_type": "execute_result"
    }
   ],
   "source": [
    "list2 = ['k','z','a','q','r']\n",
    "list2.sort()\n",
    "list2"
   ]
  },
  {
   "cell_type": "code",
   "execution_count": 54,
   "id": "d15e7248",
   "metadata": {},
   "outputs": [
    {
     "data": {
      "text/plain": [
       "['A', 'C', 'k', 'q', 'r', 'z']"
      ]
     },
     "execution_count": 54,
     "metadata": {},
     "output_type": "execute_result"
    }
   ],
   "source": [
    "list3 = ['k','z','A','q','r','C']\n",
    "list3.sort()\n",
    "list3"
   ]
  },
  {
   "cell_type": "code",
   "execution_count": 55,
   "id": "c79cee62",
   "metadata": {},
   "outputs": [
    {
     "data": {
      "text/plain": [
       "['ㄱ', 'ㄴ', 'ㄷ', 'ㅋ', 'ㅍ', 'ㅎ']"
      ]
     },
     "execution_count": 55,
     "metadata": {},
     "output_type": "execute_result"
    }
   ],
   "source": [
    "list4 = ['ㄷ','ㄱ','ㅎ','ㅋ','ㅍ','ㄴ']\n",
    "list4.sort()\n",
    "list4"
   ]
  },
  {
   "cell_type": "code",
   "execution_count": 56,
   "id": "56fcc250",
   "metadata": {},
   "outputs": [
    {
     "data": {
      "text/plain": [
       "['abc', 'animal', 'bcd', 'korea', 'tail', 'test']"
      ]
     },
     "execution_count": 56,
     "metadata": {},
     "output_type": "execute_result"
    }
   ],
   "source": [
    "list5 = [\"abc\",\"tail\",\"bcd\",\"test\",\"animal\",\"korea\"]\n",
    "list5.sort()\n",
    "list5"
   ]
  },
  {
   "cell_type": "code",
   "execution_count": 58,
   "id": "9dbd78a7",
   "metadata": {},
   "outputs": [
    {
     "data": {
      "text/plain": [
       "['z', 'r', 'q', 'k', 'C', 'A']"
      ]
     },
     "execution_count": 58,
     "metadata": {},
     "output_type": "execute_result"
    }
   ],
   "source": [
    "list3 = ['k','z','A','q','r','C']\n",
    "list3.sort(reverse=True)\n",
    "list3"
   ]
  },
  {
   "cell_type": "markdown",
   "id": "c3b9cf5f",
   "metadata": {},
   "source": [
    "- reverse : 리스트 뒤집기"
   ]
  },
  {
   "cell_type": "code",
   "execution_count": 59,
   "id": "d76ab242",
   "metadata": {},
   "outputs": [
    {
     "data": {
      "text/plain": [
       "['b', 'c', 'a']"
      ]
     },
     "execution_count": 59,
     "metadata": {},
     "output_type": "execute_result"
    }
   ],
   "source": [
    "list1 = ['a','c','b']\n",
    "list1.reverse()\n",
    "list1"
   ]
  },
  {
   "cell_type": "markdown",
   "id": "a43a3c1b",
   "metadata": {},
   "source": [
    "- index : 위치 반환"
   ]
  },
  {
   "cell_type": "code",
   "execution_count": 60,
   "id": "e68de218",
   "metadata": {},
   "outputs": [
    {
     "data": {
      "text/plain": [
       "2"
      ]
     },
     "execution_count": 60,
     "metadata": {},
     "output_type": "execute_result"
    }
   ],
   "source": [
    "list1 = [1,2,3,4]\n",
    "list1.index(3)"
   ]
  },
  {
   "cell_type": "markdown",
   "id": "b2fa9252",
   "metadata": {},
   "source": [
    "- insert : 특정 위치에 요소삽입"
   ]
  },
  {
   "cell_type": "code",
   "execution_count": 61,
   "id": "bdccbd95",
   "metadata": {},
   "outputs": [
    {
     "data": {
      "text/plain": [
       "[17, 1, 2, 3, 4]"
      ]
     },
     "execution_count": 61,
     "metadata": {},
     "output_type": "execute_result"
    }
   ],
   "source": [
    "list1.insert(0,17)\n",
    "list1"
   ]
  },
  {
   "cell_type": "markdown",
   "id": "16e45851",
   "metadata": {},
   "source": [
    "- remove : 리스트 요소 제거"
   ]
  },
  {
   "cell_type": "code",
   "execution_count": 62,
   "id": "bf393733",
   "metadata": {},
   "outputs": [
    {
     "data": {
      "text/plain": [
       "[1, 2, 1, 2, 3]"
      ]
     },
     "execution_count": 62,
     "metadata": {},
     "output_type": "execute_result"
    }
   ],
   "source": [
    "list1 = [1,2,3,1,2,3]\n",
    "list1.remove(3)\n",
    "list1"
   ]
  },
  {
   "cell_type": "markdown",
   "id": "6131060f",
   "metadata": {},
   "source": [
    "- pop() : 리스트 맨 마지막 요소 끄집어 내기\n",
    "- pop(위치) : 리스트의 위치 요소 끄집어 내기"
   ]
  },
  {
   "cell_type": "code",
   "execution_count": 63,
   "id": "b95780dc",
   "metadata": {},
   "outputs": [
    {
     "data": {
      "text/plain": [
       "17"
      ]
     },
     "execution_count": 63,
     "metadata": {},
     "output_type": "execute_result"
    }
   ],
   "source": [
    "list1 = [12,13,14,15,16,17]\n",
    "list1.pop()"
   ]
  },
  {
   "cell_type": "code",
   "execution_count": 64,
   "id": "10c1b171",
   "metadata": {},
   "outputs": [
    {
     "data": {
      "text/plain": [
       "[12, 13, 14, 15, 16]"
      ]
     },
     "execution_count": 64,
     "metadata": {},
     "output_type": "execute_result"
    }
   ],
   "source": [
    "list1"
   ]
  },
  {
   "cell_type": "code",
   "execution_count": 65,
   "id": "b05972d1",
   "metadata": {},
   "outputs": [
    {
     "data": {
      "text/plain": [
       "13"
      ]
     },
     "execution_count": 65,
     "metadata": {},
     "output_type": "execute_result"
    }
   ],
   "source": [
    "list1.pop(1)"
   ]
  },
  {
   "cell_type": "code",
   "execution_count": 66,
   "id": "bb451e51",
   "metadata": {},
   "outputs": [
    {
     "data": {
      "text/plain": [
       "[12, 14, 15, 16]"
      ]
     },
     "execution_count": 66,
     "metadata": {},
     "output_type": "execute_result"
    }
   ],
   "source": [
    "list1"
   ]
  },
  {
   "cell_type": "markdown",
   "id": "ce16d1d9",
   "metadata": {},
   "source": [
    "- count : 리스트에 포함된 요소 x의 개수 세기"
   ]
  },
  {
   "cell_type": "code",
   "execution_count": 67,
   "id": "536f3884",
   "metadata": {},
   "outputs": [
    {
     "data": {
      "text/plain": [
       "1"
      ]
     },
     "execution_count": 67,
     "metadata": {},
     "output_type": "execute_result"
    }
   ],
   "source": [
    "list1.count(12)"
   ]
  },
  {
   "cell_type": "markdown",
   "id": "f91ef797",
   "metadata": {},
   "source": [
    "- clear() : 리스트 요소 모두 삭제"
   ]
  },
  {
   "cell_type": "code",
   "execution_count": 68,
   "id": "e5488def",
   "metadata": {},
   "outputs": [
    {
     "data": {
      "text/plain": [
       "[]"
      ]
     },
     "execution_count": 68,
     "metadata": {},
     "output_type": "execute_result"
    }
   ],
   "source": [
    "list1.clear()\n",
    "list1"
   ]
  },
  {
   "cell_type": "markdown",
   "id": "7e5d1519",
   "metadata": {},
   "source": [
    "- extend : 확장"
   ]
  },
  {
   "cell_type": "code",
   "execution_count": 69,
   "id": "d62870b6",
   "metadata": {},
   "outputs": [
    {
     "data": {
      "text/plain": [
       "[1, 2, 3, 4, 5, 6]"
      ]
     },
     "execution_count": 69,
     "metadata": {},
     "output_type": "execute_result"
    }
   ],
   "source": [
    "a = [1,2,3]\n",
    "b = [4,5,6]\n",
    "a+b"
   ]
  },
  {
   "cell_type": "code",
   "execution_count": 70,
   "id": "51aa4494",
   "metadata": {},
   "outputs": [
    {
     "data": {
      "text/plain": [
       "[1, 2, 3, 4, 5, 6]"
      ]
     },
     "execution_count": 70,
     "metadata": {},
     "output_type": "execute_result"
    }
   ],
   "source": [
    "a.extend([4,5,6])\n",
    "a"
   ]
  },
  {
   "cell_type": "markdown",
   "id": "3d7cf500",
   "metadata": {},
   "source": [
    "### 연습문제"
   ]
  },
  {
   "cell_type": "code",
   "execution_count": 83,
   "id": "3e493665",
   "metadata": {},
   "outputs": [
    {
     "name": "stdout",
     "output_type": "stream",
     "text": [
      "[2, 4, 6, 8, 10, 12, 14, 16, 18, 20, 22, 24, 26, 28, 30, 32, 34, 36, 38, 40, 42, 44, 46, 48, 50, 52, 54, 56, 58, 60, 62, 64, 66, 68, 70, 72, 74, 76, 78, 80, 82, 84, 86, 88, 90, 92, 94, 96, 98, 100] "
     ]
    }
   ],
   "source": [
    "#1~100까지의 숫자중에서 짝수만 들어있는 리스트 생성\n",
    "\n",
    "a = []\n",
    "\n",
    "# for i in range(2,101,2):\n",
    "for i in range(101):\n",
    "    if i % 2 == 0:\n",
    "        a.append(i)\n",
    "a.remove(0)\n",
    "print(a, end=\" \")"
   ]
  },
  {
   "cell_type": "code",
   "execution_count": 85,
   "id": "b50ba573",
   "metadata": {},
   "outputs": [
    {
     "name": "stdout",
     "output_type": "stream",
     "text": [
      "A 학급 평균 : 78.89\n"
     ]
    }
   ],
   "source": [
    "# A 학급에 총 9명의 학생들이 있다. 이 학생들의 중간고사 점수는 다음과 같다\n",
    "# [70,60,55,75,95,90,80,85,100]\n",
    "# A학급의 평균을 구하시오\n",
    "\n",
    "a_class = [70,60,55,75,95,90,80,85,100]\n",
    "\n",
    "total = 0\n",
    "\n",
    "for i in a_class:\n",
    "    total += i\n",
    "    \n",
    "print(\"A 학급 평균 : %.2f\" % (total/len(a_class)))"
   ]
  },
  {
   "cell_type": "code",
   "execution_count": 86,
   "id": "532708c3",
   "metadata": {},
   "outputs": [
    {
     "name": "stdout",
     "output_type": "stream",
     "text": [
      "['Banana', 'Orange', 'Grape']\n"
     ]
    }
   ],
   "source": [
    "# 다음 리스트에서 \"Apple\" 항목만 삭제하고 출력하기\n",
    "fruit = [\"Banana\",\"Apple\",\"Orange\",\"Grape\"]\n",
    "\n",
    "fruit.remove(\"Apple\")\n",
    "\n",
    "print(fruit)"
   ]
  },
  {
   "cell_type": "code",
   "execution_count": 89,
   "id": "7901f147",
   "metadata": {},
   "outputs": [
    {
     "name": "stdout",
     "output_type": "stream",
     "text": [
      "['갑', '을', '병']\n"
     ]
    }
   ],
   "source": [
    "# 다음 리스트에서 \"정\" 항목만 삭제하고 출력하기\n",
    "per = [\"갑\",\"을\",\"병\",\"정\"]\n",
    "\n",
    "per.pop()\n",
    "\n",
    "print(per)"
   ]
  },
  {
   "cell_type": "code",
   "execution_count": null,
   "id": "6488ebae",
   "metadata": {},
   "outputs": [],
   "source": []
  },
  {
   "cell_type": "code",
   "execution_count": 90,
   "id": "cf7913d9",
   "metadata": {},
   "outputs": [
    {
     "name": "stdout",
     "output_type": "stream",
     "text": [
      "False\n"
     ]
    }
   ],
   "source": [
    "list1 = []\n",
    "\n",
    "if list1:\n",
    "    print(\"True\")\n",
    "else:\n",
    "    print(\"False\")"
   ]
  },
  {
   "cell_type": "code",
   "execution_count": 91,
   "id": "0dc8607f",
   "metadata": {},
   "outputs": [
    {
     "name": "stdout",
     "output_type": "stream",
     "text": [
      "True\n"
     ]
    }
   ],
   "source": [
    "list1 = [1,2,3]\n",
    "\n",
    "if list1:\n",
    "    print(\"True\")\n",
    "else:\n",
    "    print(\"False\")"
   ]
  },
  {
   "cell_type": "code",
   "execution_count": 92,
   "id": "177f0857",
   "metadata": {},
   "outputs": [
    {
     "name": "stdout",
     "output_type": "stream",
     "text": [
      "딸기가 있음\n"
     ]
    }
   ],
   "source": [
    "fruit = [\"사과\",\"배\",\"딸기\",\"수박\",\"바나나\"]\n",
    "\n",
    "if '딸기' in fruit:\n",
    "    print(\"딸기가 있음\")\n",
    "else:\n",
    "    print(\"딸기가 없음\")"
   ]
  },
  {
   "cell_type": "code",
   "execution_count": 93,
   "id": "478cd9ce",
   "metadata": {},
   "outputs": [
    {
     "name": "stdout",
     "output_type": "stream",
     "text": [
      "False\n"
     ]
    }
   ],
   "source": [
    "print('딸기' not in fruit)"
   ]
  },
  {
   "cell_type": "code",
   "execution_count": 94,
   "id": "c88dbed6",
   "metadata": {},
   "outputs": [
    {
     "name": "stdout",
     "output_type": "stream",
     "text": [
      "True\n"
     ]
    }
   ],
   "source": [
    "print('딸기' in fruit)"
   ]
  },
  {
   "cell_type": "code",
   "execution_count": 95,
   "id": "a55409e9",
   "metadata": {},
   "outputs": [
    {
     "name": "stdout",
     "output_type": "stream",
     "text": [
      "(0, 23)\n",
      "(1, 12)\n",
      "(2, 36)\n",
      "(3, 53)\n",
      "(4, 19)\n"
     ]
    }
   ],
   "source": [
    "list = [23,12,36,53,19]\n",
    "\n",
    "for i in enumerate(list):\n",
    "    print(i)"
   ]
  },
  {
   "cell_type": "code",
   "execution_count": 96,
   "id": "9d731716",
   "metadata": {},
   "outputs": [
    {
     "name": "stdout",
     "output_type": "stream",
     "text": [
      "0 : 23\n",
      "1 : 12\n",
      "2 : 36\n",
      "3 : 53\n",
      "4 : 19\n"
     ]
    }
   ],
   "source": [
    "for idx,value in enumerate(list):\n",
    "    print(\"%d : %d\" % (idx,value))"
   ]
  },
  {
   "cell_type": "code",
   "execution_count": 97,
   "id": "30741917",
   "metadata": {},
   "outputs": [
    {
     "name": "stdout",
     "output_type": "stream",
     "text": [
      "1 : 23\n",
      "2 : 12\n",
      "3 : 36\n",
      "4 : 53\n",
      "5 : 19\n"
     ]
    }
   ],
   "source": [
    "for idx,value in enumerate(list,start=1):\n",
    "    print(\"%d : %d\" % (idx,value))"
   ]
  },
  {
   "cell_type": "code",
   "execution_count": null,
   "id": "8486c464",
   "metadata": {},
   "outputs": [],
   "source": [
    "# 주차장 프로그램\n",
    "\n",
    "parking_lot = []\n",
    "top, car_name = 0,\"A\"\n",
    "\n",
    "while True:\n",
    "    no = int(input(\"[1]자동차 넣기 | [2]자동차 빼기 | [3]종료\"))\n",
    "    \n",
    "    if no <=3:\n",
    "        if no ==1:\n",
    "            if top >=5:\n",
    "                print(\"주차장 꽉 찼음\")\n",
    "            else:\n",
    "                parking_lot.append(car_name)\n",
    "                print(\"%s 자동차 들어감. 주차장 상태 ==> %s\" % (car_name,parking_lot))\n",
    "                top += 1\n",
    "                car_name = chr(ord(car_name) + 1)\n",
    "        elif no ==2:\n",
    "            if top > 0:\n",
    "                outCar = parking_lot.pop()\n",
    "                print(\"%s 자동차 나감. 주차장 상태 ==> %s\" % (outCar,parking_lot))\n",
    "                top -= 1\n",
    "                car_name = chr(ord(car_name) + 1)\n",
    "            else:\n",
    "                print(\"빠져나갈 자동차 없음\")\n",
    "        else:\n",
    "            print(\"프로그램 종료\")\n",
    "            break"
   ]
  },
  {
   "cell_type": "code",
   "execution_count": null,
   "id": "9dbf7581",
   "metadata": {},
   "outputs": [],
   "source": []
  },
  {
   "cell_type": "code",
   "execution_count": null,
   "id": "c8dc7ffa",
   "metadata": {},
   "outputs": [],
   "source": []
  }
 ],
 "metadata": {
  "kernelspec": {
   "display_name": "Python 3",
   "language": "python",
   "name": "python3"
  },
  "language_info": {
   "codemirror_mode": {
    "name": "ipython",
    "version": 3
   },
   "file_extension": ".py",
   "mimetype": "text/x-python",
   "name": "python",
   "nbconvert_exporter": "python",
   "pygments_lexer": "ipython3",
   "version": "3.8.8"
  }
 },
 "nbformat": 4,
 "nbformat_minor": 5
}
