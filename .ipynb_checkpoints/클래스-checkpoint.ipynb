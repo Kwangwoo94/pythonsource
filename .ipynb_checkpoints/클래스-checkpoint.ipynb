{
 "cells": [
  {
   "cell_type": "markdown",
   "id": "b2529457",
   "metadata": {},
   "source": [
    "### 클래스가 필요한 이유"
   ]
  },
  {
   "cell_type": "code",
   "execution_count": 1,
   "id": "e0494bf3",
   "metadata": {},
   "outputs": [],
   "source": [
    "# 학생 정보 - 이름,번호,학년,성별,영어,수학\n",
    "\n",
    "# 학생1\n",
    "student_name1 = \"Kim\"\n",
    "student_number1 = 1\n",
    "student_grade1 = 1\n",
    "student_detail1 = [{'gender':\"male\"},{\"score1\":98},{\"score2\":95}]\n",
    "\n",
    "# 학생2\n",
    "student_name2 = \"Park\"\n",
    "student_number2 = 2\n",
    "student_grade2 = 2\n",
    "student_detail2 = [{'gender':\"female\"},{\"score1\":88},{\"score2\":98}]\n",
    "\n",
    "# 학생3\n",
    "student_name3 = \"Cho\"\n",
    "student_number3 = 3\n",
    "student_grade3 = 3\n",
    "student_detail3 = [{'gender':\"male\"},{\"score1\":78},{\"score2\":68}]"
   ]
  },
  {
   "cell_type": "code",
   "execution_count": 4,
   "id": "c2acb441",
   "metadata": {},
   "outputs": [
    {
     "name": "stdout",
     "output_type": "stream",
     "text": [
      "이름 : Kim, 학번 : 1, 학년 : 1, 학생정보 : [{'gender': 'male'}, {'score1': 98}, {'score2': 95}]\n",
      "이름 : Park, 학번 : 2, 학년 : 2, 학생정보 : [{'gender': 'female'}, {'score1': 88}, {'score2': 98}]\n",
      "이름 : Cho, 학번 : 3, 학년 : 3, 학생정보 : [{'gender': 'male'}, {'score1': 78}, {'score2': 68}]\n"
     ]
    }
   ],
   "source": [
    "# 학생 정보 출력\n",
    "\n",
    "print(\"이름 : %s, 학번 : %d, 학년 : %d, 학생정보 : %s\" % (student_name1,student_number1,student_grade1,student_detail1))\n",
    "print(\"이름 : %s, 학번 : %d, 학년 : %d, 학생정보 : %s\" % (student_name2,student_number2,student_grade2,student_detail2))\n",
    "print(\"이름 : %s, 학번 : %d, 학년 : %d, 학생정보 : %s\" % (student_name3,student_number3,student_grade3,student_detail3))"
   ]
  },
  {
   "cell_type": "code",
   "execution_count": null,
   "id": "39646c13",
   "metadata": {},
   "outputs": [],
   "source": []
  },
  {
   "cell_type": "code",
   "execution_count": 5,
   "id": "edac2794",
   "metadata": {},
   "outputs": [],
   "source": [
    "# 리스트 구조?\n",
    "\n",
    "student_names_list = ['Kim','Park','Cho']\n",
    "student_numbers_list = [1,2,3]\n",
    "student_grade_list = [1,2,3]\n",
    "student_details_list = [\n",
    "    {'gender':\"male\",\"score1\":98,\"score2\":95},\n",
    "    {'gender':\"female\",\"score1\":88,\"score2\":98},\n",
    "    {'gender':\"male\",\"score1\":78,\"score2\":68}\n",
    "]"
   ]
  },
  {
   "cell_type": "code",
   "execution_count": 6,
   "id": "a1aa7af5",
   "metadata": {},
   "outputs": [],
   "source": [
    "# 학생 한 명 삭제\n",
    "\n",
    "del student_names_list[1]\n",
    "del student_numbers_list[1]\n",
    "del student_grade_list[1]\n",
    "del student_details_list[1]"
   ]
  },
  {
   "cell_type": "code",
   "execution_count": 7,
   "id": "f5e73b05",
   "metadata": {},
   "outputs": [
    {
     "name": "stdout",
     "output_type": "stream",
     "text": [
      "['Kim', 'Cho']\n",
      "[1, 3]\n",
      "[1, 3]\n",
      "[{'gender': 'male', 'score1': 98, 'score2': 95}, {'gender': 'male', 'score1': 78, 'score2': 68}]\n"
     ]
    }
   ],
   "source": [
    "print(student_names_list)\n",
    "print(student_numbers_list)\n",
    "print(student_grade_list)\n",
    "print(student_details_list)"
   ]
  },
  {
   "cell_type": "code",
   "execution_count": null,
   "id": "7553a065",
   "metadata": {},
   "outputs": [],
   "source": [
    "# dlct 구조\n",
    "\n",
    "student_dicts = [\n",
    "    {\n",
    "        \"student_name\":'Kim',\n",
    "        \"student_number\":1,\n",
    "        \"student_grade\":1,\n",
    "        \"student_detail\":{'gender':\"male\",\"score1\":98,\"score2\":95}\n",
    "    },\n",
    "    {\n",
    "        \"student_name\":'Park',\n",
    "        \"student_number\":2,\n",
    "        \"student_grade\":2,\n",
    "        \"student_detail\":{'gender':\"female\",\"score1\":88,\"score2\":98}\n",
    "    },\n",
    "    {\n",
    "        \"student_name\":'Cho',\n",
    "        \"student_number\":3,\n",
    "        \"student_grade\":3,\n",
    "        \"student_detail\":{'gender':\"male\",\"score1\":78,\"score2\":68}\n",
    "    }\n",
    "]\n",
    "\n"
   ]
  },
  {
   "cell_type": "code",
   "execution_count": null,
   "id": "9657b35c",
   "metadata": {},
   "outputs": [],
   "source": []
  },
  {
   "cell_type": "markdown",
   "id": "fdb5b7b0",
   "metadata": {},
   "source": [
    "### 클래스 작성"
   ]
  },
  {
   "cell_type": "code",
   "execution_count": 18,
   "id": "6ca94682",
   "metadata": {},
   "outputs": [],
   "source": [
    "# 클래스 설계\n",
    "\n",
    "class Student:   \n",
    "    def __init__(self,name,number,grade,details):\n",
    "        self.name = name\n",
    "        self.number = number\n",
    "        self.grade = grade\n",
    "        self.details = details\n",
    "        \n",
    "    def __str__(self):\n",
    "        return \"name:{}, number:{}, grade:{}, details:{}\".format(self.name,self.number,self.grade,self.details)"
   ]
  },
  {
   "cell_type": "code",
   "execution_count": 19,
   "id": "0c165508",
   "metadata": {},
   "outputs": [],
   "source": [
    "# 인스턴스(객체) 생성\n",
    "\n",
    "# 첫번째 학생\n",
    "student1 = Student('Kim',1,1,{'gender':\"male\",\"score1\":98,\"score2\":95})"
   ]
  },
  {
   "cell_type": "code",
   "execution_count": 20,
   "id": "6a4b49d4",
   "metadata": {},
   "outputs": [
    {
     "name": "stdout",
     "output_type": "stream",
     "text": [
      "name:Kim, number:1, grade:1, details:{'gender': 'male', 'score1': 98, 'score2': 95}\n"
     ]
    }
   ],
   "source": [
    "print(student1)"
   ]
  },
  {
   "cell_type": "markdown",
   "id": "bc07b496",
   "metadata": {},
   "source": [
    "### 클래스 작성 - 1) instance method\n",
    "- 멤버 메소드(get/set 와 같은 개념)\n",
    "- self 라는 키워드가 맨 처음에 있어야 함"
   ]
  },
  {
   "cell_type": "code",
   "execution_count": 24,
   "id": "18d727de",
   "metadata": {},
   "outputs": [],
   "source": [
    "class UserInfo:\n",
    "    \"\"\"\n",
    "    UserInfo class\n",
    "    Author : Hong\n",
    "    Date : 2021.07.06\n",
    "    Description : 클래스 작성법\n",
    "    \"\"\"\n",
    "    \n",
    "    def user_info(self):   # self == this\n",
    "        print(\"메소드 실행\")"
   ]
  },
  {
   "cell_type": "code",
   "execution_count": 25,
   "id": "583dd0d9",
   "metadata": {},
   "outputs": [],
   "source": [
    "user1 = UserInfo()"
   ]
  },
  {
   "cell_type": "code",
   "execution_count": 26,
   "id": "774c7094",
   "metadata": {},
   "outputs": [
    {
     "name": "stdout",
     "output_type": "stream",
     "text": [
      "메소드 실행\n"
     ]
    }
   ],
   "source": [
    "user1.user_info()"
   ]
  },
  {
   "cell_type": "code",
   "execution_count": null,
   "id": "abf85840",
   "metadata": {},
   "outputs": [],
   "source": []
  },
  {
   "cell_type": "code",
   "execution_count": 27,
   "id": "8629f11d",
   "metadata": {},
   "outputs": [],
   "source": [
    "class Car:\n",
    "    def upSpeed(self,value):\n",
    "        self.speed += value\n",
    "        \n",
    "    def downSpeed(self,value):\n",
    "        self.speed -= value"
   ]
  },
  {
   "cell_type": "code",
   "execution_count": 28,
   "id": "d67eab07",
   "metadata": {},
   "outputs": [],
   "source": [
    "myCar1 = Car()\n",
    "myCar1.speed = 0\n",
    "\n",
    "myCar2 = Car()\n",
    "myCar2.speed = 0\n",
    "\n",
    "\n",
    "myCar3 = Car()\n",
    "myCar3.speed = 0"
   ]
  },
  {
   "cell_type": "code",
   "execution_count": 29,
   "id": "3751432b",
   "metadata": {},
   "outputs": [],
   "source": [
    "myCar1.upSpeed(100)\n",
    "myCar2.upSpeed(50)\n",
    "myCar3.upSpeed(70)"
   ]
  },
  {
   "cell_type": "code",
   "execution_count": 30,
   "id": "f3cb0e97",
   "metadata": {},
   "outputs": [
    {
     "name": "stdout",
     "output_type": "stream",
     "text": [
      "자동차 1 의 속도는 100 km\n",
      "자동차 2 의 속도는 50 km\n",
      "자동차 3 의 속도는 70 km\n"
     ]
    }
   ],
   "source": [
    "print(\"자동차 1 의 속도는 %d km\" % myCar1.speed)\n",
    "print(\"자동차 2 의 속도는 %d km\" % myCar2.speed)\n",
    "print(\"자동차 3 의 속도는 %d km\" % myCar3.speed)"
   ]
  },
  {
   "cell_type": "code",
   "execution_count": null,
   "id": "8930fee9",
   "metadata": {},
   "outputs": [],
   "source": []
  },
  {
   "cell_type": "markdown",
   "id": "61d319fb",
   "metadata": {},
   "source": [
    "### 클래스 작성 - 2) 생성자"
   ]
  },
  {
   "cell_type": "code",
   "execution_count": 33,
   "id": "f797c3b5",
   "metadata": {},
   "outputs": [],
   "source": [
    "class UserInfo:\n",
    "    \"\"\"\n",
    "    UserInfo class\n",
    "    Author : Hong\n",
    "    Date : 2021.07.06\n",
    "    Description : 클래스 작성법\n",
    "    \"\"\"    \n",
    "    \n",
    "    def __init__(self):\n",
    "        self.name = \"홍길동\"\n",
    "        self.age = 25\n",
    "    \n",
    "    \n",
    "    def user_info(self):   # self == this\n",
    "        return \"name : {}, age : {}\".format(self.name,self.age)"
   ]
  },
  {
   "cell_type": "code",
   "execution_count": 34,
   "id": "bd9ecd69",
   "metadata": {},
   "outputs": [
    {
     "name": "stdout",
     "output_type": "stream",
     "text": [
      "name : 홍길동, age: 25\n"
     ]
    }
   ],
   "source": [
    "user1 = UserInfo()\n",
    "print(user1.user_info())"
   ]
  },
  {
   "cell_type": "code",
   "execution_count": null,
   "id": "90bbd4db",
   "metadata": {},
   "outputs": [],
   "source": []
  },
  {
   "cell_type": "code",
   "execution_count": 35,
   "id": "d5d8cfe6",
   "metadata": {},
   "outputs": [],
   "source": [
    "class Calculator:\n",
    "    def __init__(self):\n",
    "        self.result = 0\n",
    "        \n",
    "    def adder(self,num):\n",
    "        self.result += num\n",
    "        return self.result"
   ]
  },
  {
   "cell_type": "code",
   "execution_count": 36,
   "id": "e6e0fb56",
   "metadata": {},
   "outputs": [],
   "source": [
    "cal1 = Calculator()\n",
    "cal2 = Calculator()"
   ]
  },
  {
   "cell_type": "code",
   "execution_count": 37,
   "id": "284e57c2",
   "metadata": {},
   "outputs": [
    {
     "name": "stdout",
     "output_type": "stream",
     "text": [
      "cal1 : 10\n",
      "cal2 : 100\n"
     ]
    }
   ],
   "source": [
    "print(\"cal1 : {}\".format(cal1.adder(10)))\n",
    "print(\"cal2 : {}\".format(cal2.adder(100)))"
   ]
  },
  {
   "cell_type": "markdown",
   "id": "426ab6c7",
   "metadata": {},
   "source": [
    "### 클래스 작성 - 3) 인수를 받는 생성자"
   ]
  },
  {
   "cell_type": "code",
   "execution_count": 38,
   "id": "5a9dd0da",
   "metadata": {},
   "outputs": [],
   "source": [
    "class UserInfo:\n",
    "    \"\"\"\n",
    "    UserInfo class\n",
    "    Author : Hong\n",
    "    Date : 2021.07.06\n",
    "    Description : 클래스 작성법\n",
    "    \"\"\"    \n",
    "    \n",
    "    def __init__(self,name,age):\n",
    "        self.name = name\n",
    "        self.age = age\n",
    "    \n",
    "    \n",
    "    def user_info(self):   # self == this\n",
    "        return \"name : {}, age : {}\".format(self.name,self.age)"
   ]
  },
  {
   "cell_type": "code",
   "execution_count": 39,
   "id": "7ed09f71",
   "metadata": {},
   "outputs": [],
   "source": [
    "user1 = UserInfo(\"홍길동\",25)\n",
    "user2 = UserInfo(\"김중원\",27)\n",
    "user3 = UserInfo(\"송혜교\",30)"
   ]
  },
  {
   "cell_type": "code",
   "execution_count": 40,
   "id": "186cb810",
   "metadata": {},
   "outputs": [
    {
     "name": "stdout",
     "output_type": "stream",
     "text": [
      "name : 홍길동, age : 25\n",
      "name : 김중원, age : 27\n",
      "name : 송혜교, age : 30\n"
     ]
    }
   ],
   "source": [
    "print(user1.user_info())\n",
    "print(user2.user_info())\n",
    "print(user3.user_info())"
   ]
  },
  {
   "cell_type": "code",
   "execution_count": null,
   "id": "8032268d",
   "metadata": {},
   "outputs": [],
   "source": []
  },
  {
   "cell_type": "code",
   "execution_count": 41,
   "id": "ba949dc0",
   "metadata": {},
   "outputs": [],
   "source": [
    "class Car:\n",
    "    \n",
    "    def __init__(self,color,speed):\n",
    "        self.color = color\n",
    "        self.speed = speed    \n",
    "    \n",
    "    def upSpeed(self,value):\n",
    "        self.speed += value\n",
    "        \n",
    "    def downSpeed(self,value):\n",
    "        self.speed -= value"
   ]
  },
  {
   "cell_type": "code",
   "execution_count": 42,
   "id": "46cffc72",
   "metadata": {},
   "outputs": [],
   "source": [
    "car1 = Car(\"Red\",50)\n",
    "car2 = Car(\"Black\",70)\n",
    "car3 = Car(\"Blue\",0)"
   ]
  },
  {
   "cell_type": "code",
   "execution_count": 44,
   "id": "b666c3dd",
   "metadata": {},
   "outputs": [
    {
     "name": "stdout",
     "output_type": "stream",
     "text": [
      "자동차 1 색상 : Red, 속도 : 90\n"
     ]
    }
   ],
   "source": [
    "car1.upSpeed(20)\n",
    "print(\"자동차 1 색상 : {}, 속도 : {}\".format(car1.color,car1.speed))"
   ]
  },
  {
   "cell_type": "code",
   "execution_count": null,
   "id": "9fff5633",
   "metadata": {},
   "outputs": [],
   "source": []
  },
  {
   "cell_type": "markdown",
   "id": "9d6f2fae",
   "metadata": {},
   "source": [
    "### 연습문제"
   ]
  },
  {
   "cell_type": "code",
   "execution_count": 45,
   "id": "3f23235b",
   "metadata": {},
   "outputs": [],
   "source": [
    "# 클래스 이름은 FourCal 로 작성\n",
    "# 두개의 멤버 변수가 존재 - num1, num2\n",
    "# 생성자 작성 - num1, num2 초기화\n",
    "\n",
    "# 4개의 인스턴스 메소드 작성 : 더하기(add), 빼기(sub), 곱하기(mul), 나누기(div)\n",
    "\n",
    "\n",
    "class FourCal:\n",
    "    def __init__(self,num1,num2):\n",
    "        self.num1 = num1\n",
    "        self.num2 = num2\n",
    "        \n",
    "    def add(self):\n",
    "        return self.num1 + self.num2\n",
    "    \n",
    "    \n",
    "    def sub(self):\n",
    "        return self.num1 - self.num2\n",
    "    \n",
    "    def mul(self):\n",
    "        return self.num1 * self.num2\n",
    "    \n",
    "    def div(self):\n",
    "        return self.num1 / self.num2"
   ]
  },
  {
   "cell_type": "code",
   "execution_count": 46,
   "id": "87555295",
   "metadata": {},
   "outputs": [
    {
     "name": "stdout",
     "output_type": "stream",
     "text": [
      "10 + 5 = 15\n",
      "10 - 5 = 5\n",
      "10 * 5 = 50\n",
      "10 / 5 = 2\n"
     ]
    }
   ],
   "source": [
    "num1,num2 = 10,5\n",
    "\n",
    "calc = FourCal(num1,num2)\n",
    "print(\"%d + %d = %d\" % (num1,num2,calc.add()))\n",
    "print(\"%d - %d = %d\" % (num1,num2,calc.sub()))\n",
    "print(\"%d * %d = %d\" % (num1,num2,calc.mul()))\n",
    "print(\"%d / %d = %d\" % (num1,num2,calc.div()))"
   ]
  },
  {
   "cell_type": "code",
   "execution_count": null,
   "id": "0e9634ff",
   "metadata": {},
   "outputs": [],
   "source": []
  },
  {
   "cell_type": "code",
   "execution_count": 51,
   "id": "acc6053f",
   "metadata": {},
   "outputs": [],
   "source": [
    "# Account 클래스 작성\n",
    "# 인스턴스 변수 - 계좌번호 : ano, 계좌주 : owner, 잔액 : balance (초기화는 생성자로)\n",
    "# 인스턴스 메소드 - 예금하다(deposit), 출금하다(withdraw)\n",
    "\n",
    "\n",
    "class Account:\n",
    "    def __init__(self,ano,owner,balance):\n",
    "        self.ano = ano\n",
    "        self.owner = owner\n",
    "        self.balance = balance\n",
    "        \n",
    "    def withdraw(self,amount):\n",
    "        self.balance -= amount        \n",
    "        \n",
    "    def deposit(self,amount):\n",
    "        self.balance += amount\n",
    "        \n",
    "        \n",
    "    def __str__(self):\n",
    "        return \"예금주 : {}, 잔액 : {}\".format(self.owner,self.balance)\n",
    "        "
   ]
  },
  {
   "cell_type": "code",
   "execution_count": 52,
   "id": "712cfeda",
   "metadata": {},
   "outputs": [],
   "source": [
    "account1 = Account(\"111-22-1111\",\"홍길동\",100000)"
   ]
  },
  {
   "cell_type": "code",
   "execution_count": 53,
   "id": "0dad612d",
   "metadata": {},
   "outputs": [],
   "source": [
    "account1.deposit(10000)\n",
    "account1.withdraw(50000)"
   ]
  },
  {
   "cell_type": "code",
   "execution_count": 54,
   "id": "58d25875",
   "metadata": {},
   "outputs": [
    {
     "name": "stdout",
     "output_type": "stream",
     "text": [
      "예금주 : 홍길동, 잔액 : 60000\n"
     ]
    }
   ],
   "source": [
    "print(\"예금주 : {}, 잔액 : {}\".format(account1.owner,account1.balance))"
   ]
  },
  {
   "cell_type": "code",
   "execution_count": 55,
   "id": "f16da7be",
   "metadata": {},
   "outputs": [],
   "source": [
    "account2 = Account(\"111-22-3333\",\"성춘향\",200000)\n",
    "account2.withdraw(75000)"
   ]
  },
  {
   "cell_type": "code",
   "execution_count": 56,
   "id": "dc29e04a",
   "metadata": {},
   "outputs": [
    {
     "name": "stdout",
     "output_type": "stream",
     "text": [
      "예금주 : 성춘향, 잔액 : 125000\n"
     ]
    }
   ],
   "source": [
    "print(account2)"
   ]
  },
  {
   "cell_type": "code",
   "execution_count": null,
   "id": "9f230d5c",
   "metadata": {},
   "outputs": [],
   "source": []
  },
  {
   "cell_type": "code",
   "execution_count": 57,
   "id": "6b137bf7",
   "metadata": {},
   "outputs": [],
   "source": [
    "# Audio 클래스\n",
    "\n",
    "# 인스턴스 변수 - power, volume, 초기화는 생성자에서\n",
    "\n",
    "# 인스턴스 메소드 - switch() : on_off 매개변수를 받아서 power 값을 변경\n",
    "#                 - setVolume() : volume 매개변수를 받아서 volume 값을 변경\n",
    "#                 - tune() : power 의 값이 true 라면 \"La La La....\" , false라면 \"turn it on\"\n",
    "\n",
    "\n",
    "class Audio:\n",
    "    def __init__(self,power,volume):\n",
    "        self.power = power\n",
    "        self.volume = volume\n",
    "        \n",
    "    def switch(self,on_off):\n",
    "        self.power = on_off\n",
    "        \n",
    "        \n",
    "    def setVolume(self,volume):\n",
    "        self.volume = volume\n",
    "        \n",
    "    def tune(self):\n",
    "#         if self.power:\n",
    "#             print(\"La La La....\")\n",
    "#         else:\n",
    "#             print(\"turn it on\")\n",
    "        str = \"La La La....\" if self.power else \"turn it on\"\n",
    "        print(str)"
   ]
  },
  {
   "cell_type": "code",
   "execution_count": 58,
   "id": "9ed5b6ae",
   "metadata": {},
   "outputs": [
    {
     "name": "stdout",
     "output_type": "stream",
     "text": [
      "turn it on\n"
     ]
    }
   ],
   "source": [
    "audio = Audio(False, 8)\n",
    "audio.setVolume(15)\n",
    "audio.tune()"
   ]
  },
  {
   "cell_type": "code",
   "execution_count": 59,
   "id": "ec0c2e6d",
   "metadata": {},
   "outputs": [
    {
     "name": "stdout",
     "output_type": "stream",
     "text": [
      "La La La....\n"
     ]
    }
   ],
   "source": [
    "audio1 = Audio(True, 10)\n",
    "audio1.setVolume(20)\n",
    "audio1.tune()"
   ]
  },
  {
   "cell_type": "code",
   "execution_count": null,
   "id": "9c13566e",
   "metadata": {},
   "outputs": [],
   "source": []
  },
  {
   "cell_type": "markdown",
   "id": "95b5a7ed",
   "metadata": {},
   "source": [
    "### 클래스 작성 - 4) 클래스 변수"
   ]
  },
  {
   "cell_type": "code",
   "execution_count": 69,
   "id": "428b36f5",
   "metadata": {},
   "outputs": [],
   "source": [
    "class UserInfo:\n",
    "    \"\"\"\n",
    "    UserInfo class\n",
    "    Author : Hong\n",
    "    Date : 2021.07.06\n",
    "    Description : 클래스 작성법\n",
    "    \"\"\"    \n",
    "    \n",
    "    user_count = 0\n",
    "    \n",
    "    \n",
    "    def __init__(self,name,age):\n",
    "        self.name = name\n",
    "        self.age = age\n",
    "        \n",
    "        # 클래스 변수\n",
    "        UserInfo.user_count += 1\n",
    "    \n",
    "    \n",
    "    def user_info(self):   # self == this\n",
    "        return \"name : {}, age : {}\".format(self.name,self.age)    \n",
    "    \n",
    "    \n",
    "    def __del__(self):   # del 실행시 자동 호출됨\n",
    "         # 클래스 변수\n",
    "        UserInfo.user_count -= 1"
   ]
  },
  {
   "cell_type": "code",
   "execution_count": 70,
   "id": "320fb116",
   "metadata": {},
   "outputs": [],
   "source": [
    "user1 = UserInfo(\"송중기\",30)\n",
    "user2 = UserInfo(\"차태현\",40)"
   ]
  },
  {
   "cell_type": "code",
   "execution_count": 71,
   "id": "e4e431c6",
   "metadata": {},
   "outputs": [
    {
     "name": "stdout",
     "output_type": "stream",
     "text": [
      "name : 송중기, age : 30\n",
      "name : 차태현, age : 40\n"
     ]
    }
   ],
   "source": [
    "print(user1.user_info())\n",
    "print(user2.user_info())"
   ]
  },
  {
   "cell_type": "code",
   "execution_count": 72,
   "id": "0d63dcc1",
   "metadata": {},
   "outputs": [
    {
     "name": "stdout",
     "output_type": "stream",
     "text": [
      "생성된 User : 2 명\n"
     ]
    }
   ],
   "source": [
    "print(\"생성된 User : %d 명\" % UserInfo.user_count)"
   ]
  },
  {
   "cell_type": "code",
   "execution_count": 73,
   "id": "6748ab1e",
   "metadata": {},
   "outputs": [
    {
     "name": "stdout",
     "output_type": "stream",
     "text": [
      "['__class__', '__del__', '__delattr__', '__dict__', '__dir__', '__doc__', '__eq__', '__format__', '__ge__', '__getattribute__', '__gt__', '__hash__', '__init__', '__init_subclass__', '__le__', '__lt__', '__module__', '__ne__', '__new__', '__reduce__', '__reduce_ex__', '__repr__', '__setattr__', '__sizeof__', '__str__', '__subclasshook__', '__weakref__', 'age', 'name', 'user_count', 'user_info']\n"
     ]
    }
   ],
   "source": [
    "print(dir(user1))"
   ]
  },
  {
   "cell_type": "code",
   "execution_count": 74,
   "id": "9e85a3d1",
   "metadata": {},
   "outputs": [
    {
     "name": "stdout",
     "output_type": "stream",
     "text": [
      "['__class__', '__del__', '__delattr__', '__dict__', '__dir__', '__doc__', '__eq__', '__format__', '__ge__', '__getattribute__', '__gt__', '__hash__', '__init__', '__init_subclass__', '__le__', '__lt__', '__module__', '__ne__', '__new__', '__reduce__', '__reduce_ex__', '__repr__', '__setattr__', '__sizeof__', '__str__', '__subclasshook__', '__weakref__', 'user_count', 'user_info']\n"
     ]
    }
   ],
   "source": [
    "print(dir(UserInfo))"
   ]
  },
  {
   "cell_type": "code",
   "execution_count": 75,
   "id": "95c70d6c",
   "metadata": {},
   "outputs": [],
   "source": [
    "del user1"
   ]
  },
  {
   "cell_type": "code",
   "execution_count": 76,
   "id": "58220970",
   "metadata": {},
   "outputs": [
    {
     "name": "stdout",
     "output_type": "stream",
     "text": [
      "생성된 User : 1 명\n"
     ]
    }
   ],
   "source": [
    "print(\"생성된 User : %d 명\" % UserInfo.user_count)"
   ]
  },
  {
   "cell_type": "code",
   "execution_count": null,
   "id": "a7237947",
   "metadata": {},
   "outputs": [],
   "source": []
  },
  {
   "cell_type": "code",
   "execution_count": 1,
   "id": "acdce0fc",
   "metadata": {},
   "outputs": [],
   "source": [
    "class Car:\n",
    "    \n",
    "    car_count = 0  # 클래스 변수    \n",
    "    \n",
    "    def __init__(self,color,speed):  # 생성자\n",
    "        self.color = color  # 인스턴스변수\n",
    "        self.speed = speed  \n",
    "        \n",
    "        Car.car_count += 1\n",
    "    \n",
    "    def upSpeed(self,value):  # 인스턴스 메소드\n",
    "        self.speed += value\n",
    "        \n",
    "    def downSpeed(self,value):\n",
    "        self.speed -= value\n",
    "        \n",
    "        \n",
    "    def __str__(self):   # toString() 같은 개념\n",
    "        return \"속도 : {}, 색상 : {}, 생산대수 : {}\".format(self.speed,self.color,Car.car_count)\n",
    "    \n",
    "        \n",
    "    def __del__(self):   # del 함수 실행시 자동 호출\n",
    "        Car.car_count -= 1"
   ]
  },
  {
   "cell_type": "code",
   "execution_count": 2,
   "id": "b1957b1a",
   "metadata": {},
   "outputs": [
    {
     "name": "stdout",
     "output_type": "stream",
     "text": [
      "속도 : 50, 색상 : Red, 생산대수 : 1\n"
     ]
    }
   ],
   "source": [
    "car1 = Car(\"Red\",50)\n",
    "print(car1)"
   ]
  },
  {
   "cell_type": "code",
   "execution_count": 3,
   "id": "dc74d501",
   "metadata": {},
   "outputs": [
    {
     "name": "stdout",
     "output_type": "stream",
     "text": [
      "속도 : 70, 색상 : Black, 생산대수 : 2\n"
     ]
    }
   ],
   "source": [
    "car2 = Car(\"Black\",70)\n",
    "print(car2)"
   ]
  },
  {
   "cell_type": "code",
   "execution_count": 4,
   "id": "08699d74",
   "metadata": {},
   "outputs": [
    {
     "name": "stdout",
     "output_type": "stream",
     "text": [
      "속도 : 0, 색상 : Blue, 생산대수 : 3\n"
     ]
    }
   ],
   "source": [
    "car3 = Car(\"Blue\",0)\n",
    "print(car3)"
   ]
  },
  {
   "cell_type": "code",
   "execution_count": null,
   "id": "0a36b9b1",
   "metadata": {},
   "outputs": [],
   "source": []
  },
  {
   "cell_type": "markdown",
   "id": "fe3a9d40",
   "metadata": {},
   "source": [
    "### 클래스 작성 - 5) 클래스 메소드\n",
    "\n",
    "- 메소드 안에 self keyword가 맨 처음에 존재하면 멤버 메소드\n",
    "- self가 처음에 존재하지 않으면 클래스 메소드"
   ]
  },
  {
   "cell_type": "code",
   "execution_count": 4,
   "id": "29fc98cd",
   "metadata": {},
   "outputs": [],
   "source": [
    "class Test:\n",
    "    def function1():\n",
    "        print(\"function1 called\")\n",
    "    \n",
    "    def function2(self):\n",
    "        print(\"function2 called\") "
   ]
  },
  {
   "cell_type": "code",
   "execution_count": 5,
   "id": "d51d7089",
   "metadata": {},
   "outputs": [
    {
     "name": "stdout",
     "output_type": "stream",
     "text": [
      "function2 called\n"
     ]
    }
   ],
   "source": [
    "test = Test()\n",
    "test.function2()"
   ]
  },
  {
   "cell_type": "code",
   "execution_count": 7,
   "id": "ed78da13",
   "metadata": {},
   "outputs": [
    {
     "name": "stdout",
     "output_type": "stream",
     "text": [
      "function1 called\n"
     ]
    }
   ],
   "source": [
    "Test.function1()"
   ]
  },
  {
   "cell_type": "code",
   "execution_count": null,
   "id": "359a0e00",
   "metadata": {},
   "outputs": [],
   "source": []
  },
  {
   "cell_type": "code",
   "execution_count": 9,
   "id": "816eae0b",
   "metadata": {},
   "outputs": [],
   "source": [
    "class StaticTest:\n",
    "    num = 15\n",
    "    \n",
    "    @staticmethod\n",
    "    def function1(a,b):\n",
    "        print(\"Function1 called\",a+b)\n",
    "    \n",
    "    @classmethod\n",
    "    def function2(cls):\n",
    "        print(\"Function2 called\", cls.num)"
   ]
  },
  {
   "cell_type": "code",
   "execution_count": 10,
   "id": "20e9d5dd",
   "metadata": {},
   "outputs": [
    {
     "name": "stdout",
     "output_type": "stream",
     "text": [
      "Function1 called 20\n"
     ]
    }
   ],
   "source": [
    "StaticTest.function1(15,5)"
   ]
  },
  {
   "cell_type": "code",
   "execution_count": 11,
   "id": "f3004b32",
   "metadata": {},
   "outputs": [
    {
     "name": "stdout",
     "output_type": "stream",
     "text": [
      "Function2 called 15\n"
     ]
    }
   ],
   "source": [
    "StaticTest.function2()"
   ]
  },
  {
   "cell_type": "code",
   "execution_count": null,
   "id": "552d8eca",
   "metadata": {},
   "outputs": [],
   "source": []
  },
  {
   "cell_type": "markdown",
   "id": "5f8428b4",
   "metadata": {},
   "source": [
    "### 클래스 작성 - 6) 생성자 오버로딩\n",
    "\n",
    "- 오버로딩 개념은 없음"
   ]
  },
  {
   "cell_type": "code",
   "execution_count": 21,
   "id": "2e55d42a",
   "metadata": {},
   "outputs": [],
   "source": [
    "class UserInfo:\n",
    "    \"\"\"\n",
    "    UserInfo class\n",
    "    Author : Hong\n",
    "    Date : 2021.07.07\n",
    "    Description : 생성자 다양화\n",
    "    \"\"\"    \n",
    "    \n",
    "    def __init__(self,name,age,email=None):\n",
    "        self.name = name\n",
    "        self.age = age\n",
    "        self.email = email\n",
    "    \n",
    "    \n",
    "    def user_info(self):   # self == this\n",
    "        return \"name : {}, age : {} ,email : {}\".format(self.name,self.age,self.email)"
   ]
  },
  {
   "cell_type": "code",
   "execution_count": null,
   "id": "cf3ace4f",
   "metadata": {},
   "outputs": [],
   "source": []
  },
  {
   "cell_type": "code",
   "execution_count": null,
   "id": "3fa64da9",
   "metadata": {},
   "outputs": [],
   "source": []
  },
  {
   "cell_type": "code",
   "execution_count": null,
   "id": "9fb0d7fa",
   "metadata": {},
   "outputs": [],
   "source": []
  },
  {
   "cell_type": "code",
   "execution_count": null,
   "id": "9cbd73d3",
   "metadata": {},
   "outputs": [],
   "source": []
  },
  {
   "cell_type": "code",
   "execution_count": 23,
   "id": "79b431ae",
   "metadata": {},
   "outputs": [],
   "source": [
    "# 객체 생성시 email 옵션\n",
    "\n",
    "user1 = UserInfo(\"hong\",24)\n",
    "user2 = UserInfo(\"kang\",24,\"kang24@naver.com\")"
   ]
  },
  {
   "cell_type": "code",
   "execution_count": 24,
   "id": "63af652a",
   "metadata": {},
   "outputs": [
    {
     "name": "stdout",
     "output_type": "stream",
     "text": [
      "name : hong, age : 24 ,email : None\n",
      "name : kang, age : 24 ,email : kang24@naver.com\n"
     ]
    }
   ],
   "source": [
    "print(user1.user_info())\n",
    "print(user2.user_info())"
   ]
  },
  {
   "cell_type": "code",
   "execution_count": null,
   "id": "52a359fd",
   "metadata": {},
   "outputs": [],
   "source": []
  },
  {
   "cell_type": "code",
   "execution_count": 37,
   "id": "6f8daae2",
   "metadata": {},
   "outputs": [],
   "source": [
    "class Car:\n",
    "    \n",
    "    car_count = 0  # 클래스 변수    \n",
    "    \n",
    "    def __init__(self,car_count,color=\"black\",speed=0):  # 생성자\n",
    "        self.color = color  # 인스턴스변수\n",
    "        self.speed = speed  \n",
    "        \n",
    "        Car.car_count += car_count\n",
    "    \n",
    "    def upSpeed(self,value):  # 인스턴스 메소드\n",
    "        self.speed += value\n",
    "        \n",
    "    def downSpeed(self,value):\n",
    "        self.speed -= value\n",
    "        \n",
    "        \n",
    "    def __str__(self):   # toString() 같은 개념\n",
    "        return \"속도 : {}, 색상 : {}, 생산대수 : {}\".format(self.speed,self.color,Car.car_count)\n",
    "    \n",
    "        \n",
    "    def __del__(self):   # del 함수 실행시 자동 호출\n",
    "        Car.car_count -= 1"
   ]
  },
  {
   "cell_type": "code",
   "execution_count": 38,
   "id": "9a93e94c",
   "metadata": {},
   "outputs": [
    {
     "name": "stdout",
     "output_type": "stream",
     "text": [
      "속도 : 30, 색상 : black, 생산대수 : 0\n"
     ]
    }
   ],
   "source": [
    "car1 = Car(1)\n",
    "car1.upSpeed(30)\n",
    "print(car1)"
   ]
  },
  {
   "cell_type": "code",
   "execution_count": 40,
   "id": "2743f2c4",
   "metadata": {},
   "outputs": [
    {
     "name": "stdout",
     "output_type": "stream",
     "text": [
      "속도 : 0, 색상 : Red, 생산대수 : 0\n"
     ]
    }
   ],
   "source": [
    "car2 = Car(1,\"Red\")\n",
    "print(car2)"
   ]
  },
  {
   "cell_type": "code",
   "execution_count": null,
   "id": "bcdb9118",
   "metadata": {},
   "outputs": [],
   "source": []
  },
  {
   "cell_type": "markdown",
   "id": "18589350",
   "metadata": {},
   "source": [
    "### 클래스 상속"
   ]
  },
  {
   "cell_type": "code",
   "execution_count": 45,
   "id": "8b26467e",
   "metadata": {},
   "outputs": [],
   "source": [
    "class Parent:\n",
    "    def __init__(self):\n",
    "        self.value = \"테스트\"\n",
    "        print(\"Parent 클래스의 __init__ 호출\")\n",
    "    \n",
    "    def test(self):\n",
    "        print(\"Parent 클래스의 test 호출\")\n",
    "\n",
    "class Child(Parent):\n",
    "    def __init__(self):\n",
    "        Parent.__init__(self) # 이 부분이 존재해야 부모의 멤버변수에 접근 가능\n",
    "        print(\"Child 클래스의 __init__ 호출\")"
   ]
  },
  {
   "cell_type": "code",
   "execution_count": 47,
   "id": "e3f405e1",
   "metadata": {},
   "outputs": [
    {
     "name": "stdout",
     "output_type": "stream",
     "text": [
      "Parent 클래스의 __init__ 호출\n",
      "Child 클래스의 __init__ 호출\n"
     ]
    }
   ],
   "source": [
    "child = Child()"
   ]
  },
  {
   "cell_type": "code",
   "execution_count": 48,
   "id": "98c7d669",
   "metadata": {},
   "outputs": [
    {
     "name": "stdout",
     "output_type": "stream",
     "text": [
      "Parent 클래스의 test 호출\n"
     ]
    }
   ],
   "source": [
    "child.test()"
   ]
  },
  {
   "cell_type": "code",
   "execution_count": 49,
   "id": "b380fc3f",
   "metadata": {},
   "outputs": [
    {
     "name": "stdout",
     "output_type": "stream",
     "text": [
      "테스트\n"
     ]
    }
   ],
   "source": [
    "print(child.value)"
   ]
  },
  {
   "cell_type": "code",
   "execution_count": null,
   "id": "8198e43c",
   "metadata": {},
   "outputs": [],
   "source": []
  },
  {
   "cell_type": "code",
   "execution_count": 54,
   "id": "ea33f44a",
   "metadata": {},
   "outputs": [],
   "source": [
    "class Car1:\n",
    "    \n",
    "    speed = 0\n",
    "    \n",
    "    def upSpeed(self,value):  # 인스턴스 메소드\n",
    "        self.speed += value\n",
    "        \n",
    "    def downSpeed(self,value):\n",
    "        self.speed -= value"
   ]
  },
  {
   "cell_type": "code",
   "execution_count": 56,
   "id": "254d8acf",
   "metadata": {},
   "outputs": [],
   "source": [
    "class Sedan(Car1):\n",
    "    \n",
    "    seatNum = 0\n",
    "    \n",
    "    def getSeatNum(self):\n",
    "        return self.seatNum"
   ]
  },
  {
   "cell_type": "code",
   "execution_count": 55,
   "id": "afcd13fd",
   "metadata": {},
   "outputs": [],
   "source": [
    "class Truck(Car1):\n",
    "    \n",
    "    capacity = 0\n",
    "    \n",
    "    def getCapacity(self):\n",
    "        return self.capacity"
   ]
  },
  {
   "cell_type": "code",
   "execution_count": 57,
   "id": "9186b48a",
   "metadata": {},
   "outputs": [],
   "source": [
    "sedan, truck = Sedan(),Truck()"
   ]
  },
  {
   "cell_type": "code",
   "execution_count": 58,
   "id": "6dce8714",
   "metadata": {},
   "outputs": [],
   "source": [
    "sedan.upSpeed(100)\n",
    "truck.upSpeed(80)"
   ]
  },
  {
   "cell_type": "code",
   "execution_count": 59,
   "id": "77154c41",
   "metadata": {},
   "outputs": [],
   "source": [
    "sedan.seatNum = 5\n",
    "truck.capacity = 50"
   ]
  },
  {
   "cell_type": "code",
   "execution_count": 60,
   "id": "beabea6f",
   "metadata": {},
   "outputs": [
    {
     "name": "stdout",
     "output_type": "stream",
     "text": [
      "승용차의 속도는 : 100 km, 좌석수는 5 개\n",
      "트럭의 속도는 : 80 km, 총 중량은 50 톤\n"
     ]
    }
   ],
   "source": [
    "print(\"승용차의 속도는 : %d km, 좌석수는 %d 개\" % (sedan.speed,sedan.getSeatNum()))\n",
    "print(\"트럭의 속도는 : %d km, 총 중량은 %d 톤\" % (truck.speed,truck.getCapacity()))"
   ]
  },
  {
   "cell_type": "code",
   "execution_count": 61,
   "id": "9596c19a",
   "metadata": {},
   "outputs": [],
   "source": [
    "class Santafe(Sedan):\n",
    "    pass"
   ]
  },
  {
   "cell_type": "code",
   "execution_count": 62,
   "id": "f90f5560",
   "metadata": {},
   "outputs": [
    {
     "name": "stdout",
     "output_type": "stream",
     "text": [
      "산타페의 속도는 : 120 km, 좌석수는 7 개\n"
     ]
    }
   ],
   "source": [
    "santafe = Santafe()\n",
    "santafe.upSpeed(120)\n",
    "santafe.seatNum = 7\n",
    "print(\"산타페의 속도는 : %d km, 좌석수는 %d 개\" % (santafe.speed,santafe.getSeatNum()))"
   ]
  },
  {
   "cell_type": "code",
   "execution_count": null,
   "id": "0aad8e76",
   "metadata": {},
   "outputs": [],
   "source": []
  },
  {
   "cell_type": "markdown",
   "id": "d82b95da",
   "metadata": {},
   "source": [
    "```\n",
    "부모 power, volume, setVolume(method),switch(method)\n",
    "\n",
    "Audio - tune(method)\n",
    "TV - size, watch(method)\n",
    "```"
   ]
  },
  {
   "cell_type": "code",
   "execution_count": 69,
   "id": "5b8947cd",
   "metadata": {},
   "outputs": [],
   "source": [
    "class AudioVisual :\n",
    "    \n",
    "    def __init__(self,power,volume):\n",
    "        self.power = power\n",
    "        self.volume = volume\n",
    "    \n",
    "    def setVolume(self,volume):\n",
    "        self.volume = volume\n",
    "        \n",
    "    def switch(self, on_off):\n",
    "        self.power = on_off"
   ]
  },
  {
   "cell_type": "code",
   "execution_count": 70,
   "id": "170c0e44",
   "metadata": {},
   "outputs": [],
   "source": [
    "class Audio(AudioVisual):\n",
    "    \n",
    "    def __init__(self,power,volume):\n",
    "        super().__init__(power,volume)\n",
    "    \n",
    "    def tune(self):\n",
    "        str = \"La La La....\" if self.power else \"turn it on\"\n",
    "        print(str)"
   ]
  },
  {
   "cell_type": "code",
   "execution_count": 71,
   "id": "d2e81ef8",
   "metadata": {},
   "outputs": [],
   "source": [
    "class TV(AudioVisual):\n",
    "    \n",
    "    def __init__(self,power,volume,size):\n",
    "        super().__init__(power,volume)\n",
    "        self.size = size\n",
    "    \n",
    "    def watch(self):\n",
    "        str = \"have fun!!!!\" if self.power else \"switch on\"\n",
    "        print(str)"
   ]
  },
  {
   "cell_type": "code",
   "execution_count": 72,
   "id": "f255d10d",
   "metadata": {},
   "outputs": [
    {
     "name": "stdout",
     "output_type": "stream",
     "text": [
      "turn it on\n",
      "La La La....\n"
     ]
    }
   ],
   "source": [
    "audio = Audio(False,15)\n",
    "audio.setVolume(18)\n",
    "audio.tune()\n",
    "audio.switch(True)\n",
    "audio.tune()"
   ]
  },
  {
   "cell_type": "code",
   "execution_count": 74,
   "id": "94c28a7f",
   "metadata": {},
   "outputs": [
    {
     "name": "stdout",
     "output_type": "stream",
     "text": [
      "have fun!!!!\n"
     ]
    }
   ],
   "source": [
    "tv = TV(True,12,50)\n",
    "tv.setVolume(20)\n",
    "tv.watch()"
   ]
  },
  {
   "cell_type": "code",
   "execution_count": null,
   "id": "4ef45be0",
   "metadata": {},
   "outputs": [],
   "source": []
  },
  {
   "cell_type": "markdown",
   "id": "bddc2757",
   "metadata": {},
   "source": [
    "### 클래스 오버라이딩"
   ]
  },
  {
   "cell_type": "code",
   "execution_count": 75,
   "id": "0bd58700",
   "metadata": {},
   "outputs": [],
   "source": [
    "class Parent:\n",
    "    def func1(self):\n",
    "        print(\"Parent 클래스의 func1 호출\")\n",
    "    \n",
    "    def test(self):\n",
    "        print(\"Parent 클래스의 test 호출\")\n",
    "\n",
    "class Child(Parent):\n",
    "    def func1(self):\n",
    "        print(\"Child 클래스의 func1 호출\")\n",
    "        \n",
    "    def func3(self):\n",
    "        print(\"Child 클래스의 func3 호출\")"
   ]
  },
  {
   "cell_type": "code",
   "execution_count": 76,
   "id": "3e680f45",
   "metadata": {},
   "outputs": [],
   "source": [
    "child = Child()"
   ]
  },
  {
   "cell_type": "code",
   "execution_count": 77,
   "id": "3ee8212b",
   "metadata": {},
   "outputs": [
    {
     "name": "stdout",
     "output_type": "stream",
     "text": [
      "Child 클래스의 func1 호출\n",
      "Child 클래스의 func3 호출\n",
      "Parent 클래스의 test 호출\n"
     ]
    }
   ],
   "source": [
    "child.func1()\n",
    "child.func3()\n",
    "child.test()"
   ]
  },
  {
   "cell_type": "code",
   "execution_count": null,
   "id": "bf1fe47d",
   "metadata": {},
   "outputs": [],
   "source": []
  },
  {
   "cell_type": "code",
   "execution_count": 2,
   "id": "b2015c54",
   "metadata": {},
   "outputs": [],
   "source": [
    "# Car : speed, upSpeed(), downSpeed()\n",
    "\n",
    "class Car2:\n",
    "    \n",
    "    def __init__(self,speed):\n",
    "        self.speed = speed\n",
    "    \n",
    "    def upSpeed(self,value):\n",
    "        self.speed += value\n",
    "        \n",
    "    def downSpeed(self,value):\n",
    "        self.speed -= value\n",
    "        \n",
    "# Sedan(Car) : upSpeed() => 현재 속도가 150km 가 넘는다면 최고제한속도를 150으로 제한\n",
    "class Sedan(Car2):\n",
    "    \n",
    "    def __init__(self,speed):\n",
    "        super().__init__(speed)\n",
    "    \n",
    "    def upSpeed(self,value):\n",
    "        self.speed += value\n",
    "        \n",
    "        if self.speed > 150: \n",
    "            self.speed = 150\n",
    "        print(\"현재 속도 : \",self.speed)"
   ]
  },
  {
   "cell_type": "code",
   "execution_count": 5,
   "id": "5438d61c",
   "metadata": {},
   "outputs": [
    {
     "name": "stdout",
     "output_type": "stream",
     "text": [
      "현재 속도 :  100\n",
      "현재 속도 :  150\n",
      "현재 속도 :  50\n"
     ]
    }
   ],
   "source": [
    "sedan = Sedan(100)\n",
    "\n",
    "print(\"현재 속도 : \",sedan.speed)\n",
    "\n",
    "sedan.upSpeed(100)\n",
    "\n",
    "sedan.downSpeed(100)\n",
    "print(\"현재 속도 : \",sedan.speed)"
   ]
  },
  {
   "cell_type": "code",
   "execution_count": 6,
   "id": "413eaf3d",
   "metadata": {},
   "outputs": [
    {
     "name": "stdout",
     "output_type": "stream",
     "text": [
      "현재 속도 :  120\n"
     ]
    }
   ],
   "source": [
    "sedan.upSpeed(70)"
   ]
  },
  {
   "cell_type": "code",
   "execution_count": null,
   "id": "21465cf0",
   "metadata": {},
   "outputs": [],
   "source": []
  },
  {
   "cell_type": "code",
   "execution_count": null,
   "id": "3cbfb73e",
   "metadata": {},
   "outputs": [],
   "source": []
  }
 ],
 "metadata": {
  "kernelspec": {
   "display_name": "Python 3",
   "language": "python",
   "name": "python3"
  },
  "language_info": {
   "codemirror_mode": {
    "name": "ipython",
    "version": 3
   },
   "file_extension": ".py",
   "mimetype": "text/x-python",
   "name": "python",
   "nbconvert_exporter": "python",
   "pygments_lexer": "ipython3",
   "version": "3.8.8"
  }
 },
 "nbformat": 4,
 "nbformat_minor": 5
}
