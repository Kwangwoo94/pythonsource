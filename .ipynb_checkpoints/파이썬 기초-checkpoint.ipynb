{
 "cells": [
  {
   "cell_type": "code",
   "execution_count": 1,
   "id": "adb9f510",
   "metadata": {},
   "outputs": [
    {
     "name": "stdout",
     "output_type": "stream",
     "text": [
      "The Zen of Python, by Tim Peters\n",
      "\n",
      "Beautiful is better than ugly.\n",
      "Explicit is better than implicit.\n",
      "Simple is better than complex.\n",
      "Complex is better than complicated.\n",
      "Flat is better than nested.\n",
      "Sparse is better than dense.\n",
      "Readability counts.\n",
      "Special cases aren't special enough to break the rules.\n",
      "Although practicality beats purity.\n",
      "Errors should never pass silently.\n",
      "Unless explicitly silenced.\n",
      "In the face of ambiguity, refuse the temptation to guess.\n",
      "There should be one-- and preferably only one --obvious way to do it.\n",
      "Although that way may not be obvious at first unless you're Dutch.\n",
      "Now is better than never.\n",
      "Although never is often better than *right* now.\n",
      "If the implementation is hard to explain, it's a bad idea.\n",
      "If the implementation is easy to explain, it may be a good idea.\n",
      "Namespaces are one honking great idea -- let's do more of those!\n"
     ]
    }
   ],
   "source": [
    "#파이썬 철학\n",
    "import this"
   ]
  },
  {
   "cell_type": "code",
   "execution_count": 2,
   "id": "3cb2508f",
   "metadata": {},
   "outputs": [
    {
     "data": {
      "text/plain": [
       "'\\n    여러 줄 주석\\n    한 줄이 아닌 여러 줄 주석을 처리할 때\\n    사용\\n'"
      ]
     },
     "execution_count": 2,
     "metadata": {},
     "output_type": "execute_result"
    }
   ],
   "source": [
    "\"\"\"\n",
    "    여러 줄 주석\n",
    "    한 줄이 아닌 여러 줄 주석을 처리할 때\n",
    "    사용\n",
    "\"\"\""
   ]
  },
  {
   "cell_type": "code",
   "execution_count": 3,
   "id": "c8b2ff35",
   "metadata": {},
   "outputs": [
    {
     "data": {
      "text/plain": [
       "'\\n    여러 줄 주석\\n    한 줄이 아닌 여러 줄 주석을 처리할 때\\n    사용\\n'"
      ]
     },
     "execution_count": 3,
     "metadata": {},
     "output_type": "execute_result"
    }
   ],
   "source": [
    "'''\n",
    "    여러 줄 주석\n",
    "    한 줄이 아닌 여러 줄 주석을 처리할 때\n",
    "    사용\n",
    "'''"
   ]
  },
  {
   "cell_type": "code",
   "execution_count": 4,
   "id": "7b1f38e9",
   "metadata": {},
   "outputs": [
    {
     "name": "stdout",
     "output_type": "stream",
     "text": [
      "Hello Python\n"
     ]
    }
   ],
   "source": [
    "print('Hello Python')"
   ]
  },
  {
   "cell_type": "code",
   "execution_count": 5,
   "id": "9d36dc9d",
   "metadata": {},
   "outputs": [
    {
     "name": "stdout",
     "output_type": "stream",
     "text": [
      "100\n"
     ]
    }
   ],
   "source": [
    "print(100)"
   ]
  },
  {
   "cell_type": "code",
   "execution_count": 6,
   "id": "ce5b0ac1",
   "metadata": {},
   "outputs": [
    {
     "name": "stdout",
     "output_type": "stream",
     "text": [
      "100\n"
     ]
    }
   ],
   "source": [
    "print(\"100\")"
   ]
  },
  {
   "cell_type": "code",
   "execution_count": 7,
   "id": "55bb1856",
   "metadata": {},
   "outputs": [
    {
     "name": "stdout",
     "output_type": "stream",
     "text": [
      "<class 'str'>\n",
      "<class 'int'>\n",
      "<class 'float'>\n",
      "<class 'str'>\n"
     ]
    }
   ],
   "source": [
    "# type : 자료형(\"\",''=>문자)\n",
    "\n",
    "print(type(\"100\"))\n",
    "print(type(100))\n",
    "print(type(25.3))\n",
    "print(type('25.3'))"
   ]
  },
  {
   "cell_type": "code",
   "execution_count": 8,
   "id": "c9ec3e07",
   "metadata": {},
   "outputs": [
    {
     "name": "stdout",
     "output_type": "stream",
     "text": [
      "Hello Python!!\n"
     ]
    }
   ],
   "source": [
    "print(\"\"\"Hello Python!!\"\"\")"
   ]
  },
  {
   "cell_type": "code",
   "execution_count": 9,
   "id": "30ec9b8a",
   "metadata": {},
   "outputs": [
    {
     "name": "stdout",
     "output_type": "stream",
     "text": [
      "Hello Python!!\n"
     ]
    }
   ],
   "source": [
    "print('''Hello Python!!''')"
   ]
  },
  {
   "cell_type": "code",
   "execution_count": 10,
   "id": "26f7ae97",
   "metadata": {},
   "outputs": [
    {
     "name": "stdout",
     "output_type": "stream",
     "text": [
      "T E S T\n"
     ]
    }
   ],
   "source": [
    "print('T','E','S','T')"
   ]
  },
  {
   "cell_type": "code",
   "execution_count": 11,
   "id": "1f27b874",
   "metadata": {},
   "outputs": [
    {
     "name": "stdout",
     "output_type": "stream",
     "text": [
      "TEST\n"
     ]
    }
   ],
   "source": [
    "# print 옵션 : sep : 문자열 사이에 연결 문자열\n",
    "print('T','E','S','T',sep='')"
   ]
  },
  {
   "cell_type": "code",
   "execution_count": 13,
   "id": "e73675bf",
   "metadata": {},
   "outputs": [
    {
     "name": "stdout",
     "output_type": "stream",
     "text": [
      "2021-06-25\n"
     ]
    }
   ],
   "source": [
    "print('2021','06','25',sep='-')"
   ]
  },
  {
   "cell_type": "code",
   "execution_count": 14,
   "id": "bcb7061b",
   "metadata": {},
   "outputs": [
    {
     "name": "stdout",
     "output_type": "stream",
     "text": [
      "nice@google.com\n"
     ]
    }
   ],
   "source": [
    "print('nice','google.com',sep='@')"
   ]
  },
  {
   "cell_type": "code",
   "execution_count": 16,
   "id": "1fcbcb9f",
   "metadata": {},
   "outputs": [
    {
     "name": "stdout",
     "output_type": "stream",
     "text": [
      "Welcome To the black prade\n"
     ]
    }
   ],
   "source": [
    "# print 옵션 : end(문장의 끝 부분을 엔터가 아닌 다른 걸로 지정할 때 사용)\n",
    "\n",
    "print('Welcome To',end='')\n",
    "print(' the black prade')"
   ]
  },
  {
   "cell_type": "markdown",
   "id": "d6cbcbaa",
   "metadata": {},
   "source": [
    "# 마크다운 사용법\n",
    "## 마크다운 \n",
    "### 마크다운\n",
    "#### 마크다운"
   ]
  },
  {
   "cell_type": "code",
   "execution_count": 17,
   "id": "5b012507",
   "metadata": {},
   "outputs": [
    {
     "ename": "NameError",
     "evalue": "name '아아아아' is not defined",
     "output_type": "error",
     "traceback": [
      "\u001b[1;31m---------------------------------------------------------------------------\u001b[0m",
      "\u001b[1;31mNameError\u001b[0m                                 Traceback (most recent call last)",
      "\u001b[1;32m<ipython-input-17-08d63a8a4c28>\u001b[0m in \u001b[0;36m<module>\u001b[1;34m\u001b[0m\n\u001b[1;32m----> 1\u001b[1;33m \u001b[0m아아아아\u001b[0m\u001b[1;33m\u001b[0m\u001b[1;33m\u001b[0m\u001b[0m\n\u001b[0m",
      "\u001b[1;31mNameError\u001b[0m: name '아아아아' is not defined"
     ]
    }
   ],
   "source": [
    "아아아아"
   ]
  },
  {
   "cell_type": "code",
   "execution_count": null,
   "id": "08a15068",
   "metadata": {},
   "outputs": [],
   "source": []
  },
  {
   "cell_type": "markdown",
   "id": "0d908b3d",
   "metadata": {},
   "source": [
    "###  예전방법/format\n",
    "- 포매팅 연산자 : %d(정수), %s(문자), %f(실수), %c(문자하나)\n",
    "- format 함수 : python3 지원"
   ]
  },
  {
   "cell_type": "code",
   "execution_count": 19,
   "id": "23bb44f2",
   "metadata": {},
   "outputs": [
    {
     "name": "stdout",
     "output_type": "stream",
     "text": [
      "100\n",
      "  100\n",
      "00100\n"
     ]
    }
   ],
   "source": [
    "# 화면 출력을 형식에 맞춰 하기\n",
    "print(\"%d\" % 100)\n",
    "print(\"%5d\" % 100)\n",
    "print(\"%05d\" % 100)"
   ]
  },
  {
   "cell_type": "code",
   "execution_count": 20,
   "id": "87c0be0a",
   "metadata": {},
   "outputs": [
    {
     "name": "stdout",
     "output_type": "stream",
     "text": [
      "hi\n",
      "   hi\n"
     ]
    }
   ],
   "source": [
    "print(\"%s\" % \"hi\")\n",
    "print(\"%5s\" % \"hi\")"
   ]
  },
  {
   "cell_type": "code",
   "execution_count": 22,
   "id": "e16b0724",
   "metadata": {},
   "outputs": [
    {
     "name": "stdout",
     "output_type": "stream",
     "text": [
      "123.310000\n",
      "123.310000\n",
      "123.31  \n",
      "  123.31\n"
     ]
    }
   ],
   "source": [
    "print(\"%f\" % 123.31)\n",
    "print(\"%8f\" % 123.31)\n",
    "print(\"%-8.2f\" % 123.31)\n",
    "print(\"%8.2f\" % 123.3123456)"
   ]
  },
  {
   "cell_type": "code",
   "execution_count": 24,
   "id": "337b358f",
   "metadata": {},
   "outputs": [
    {
     "name": "stdout",
     "output_type": "stream",
     "text": [
      "I eat 3 apples\n",
      "I eat five apples\n"
     ]
    }
   ],
   "source": [
    "print(\"I eat %d apples\" % 3)\n",
    "print(\"I eat %s apples\" % \"five\")"
   ]
  },
  {
   "cell_type": "code",
   "execution_count": 25,
   "id": "2069222d",
   "metadata": {},
   "outputs": [
    {
     "name": "stdout",
     "output_type": "stream",
     "text": [
      "I eat 4 apples\n",
      "I eat 4 apples\n"
     ]
    }
   ],
   "source": [
    "number = 4\n",
    "print(\"I eat %d apples\" % number)\n",
    "print(\"I eat\",number,\"apples\")"
   ]
  },
  {
   "cell_type": "code",
   "execution_count": 28,
   "id": "ce5ec89a",
   "metadata": {},
   "outputs": [
    {
     "name": "stdout",
     "output_type": "stream",
     "text": [
      "1 : 홍길동\n",
      "2 : 김성호 - 93.200000\n",
      "Test1 :   776, Price : 6534.12\n"
     ]
    }
   ],
   "source": [
    "print(\"%d : %s\" % (1,\"홍길동\"))\n",
    "print(\"%d : %s - %f\" % (2,\"김성호\",93.2))\n",
    "print(\"Test1 : %5d, Price : %4.2f\" % (776,6534.123))"
   ]
  },
  {
   "cell_type": "code",
   "execution_count": 29,
   "id": "6922c014",
   "metadata": {},
   "outputs": [
    {
     "name": "stdout",
     "output_type": "stream",
     "text": [
      "I eat 3 apples\n",
      "I eat 3.156 apples\n",
      "I eat three apples\n"
     ]
    }
   ],
   "source": [
    "# %s : 어떤 형태의 값이든 문자열로 대입\n",
    "\n",
    "print(\"I eat %s apples\" % 3)\n",
    "print(\"I eat %s apples\" % 3.156)\n",
    "print(\"I eat %s apples\" % \"three\")"
   ]
  },
  {
   "cell_type": "code",
   "execution_count": 30,
   "id": "fba23237",
   "metadata": {},
   "outputs": [
    {
     "name": "stdout",
     "output_type": "stream",
     "text": [
      "Error is 98%\n"
     ]
    }
   ],
   "source": [
    "# 98% 출력\n",
    "print(\"Error is %d%%\" % 98)"
   ]
  },
  {
   "cell_type": "code",
   "execution_count": 31,
   "id": "56b94a3a",
   "metadata": {},
   "outputs": [
    {
     "name": "stdout",
     "output_type": "stream",
     "text": [
      "You and me\n"
     ]
    }
   ],
   "source": [
    "# format 함수 : {} 사용\n",
    "print(\"{} and {}\".format(\"You\",\"me\"))"
   ]
  },
  {
   "cell_type": "code",
   "execution_count": 32,
   "id": "8de8b06d",
   "metadata": {},
   "outputs": [
    {
     "name": "stdout",
     "output_type": "stream",
     "text": [
      "I eat 3 apples\n"
     ]
    }
   ],
   "source": [
    "# 3이라는 숫자가 0번에 할당됨\n",
    "print(\"I eat {0} apples\".format(3))"
   ]
  },
  {
   "cell_type": "code",
   "execution_count": 33,
   "id": "bf387b57",
   "metadata": {},
   "outputs": [
    {
     "name": "stdout",
     "output_type": "stream",
     "text": [
      "You and me and You\n"
     ]
    }
   ],
   "source": [
    "print(\"{0} and {1} and {0}\".format(\"You\",\"me\"))"
   ]
  },
  {
   "cell_type": "code",
   "execution_count": 36,
   "id": "ba6f688e",
   "metadata": {},
   "outputs": [
    {
     "name": "stdout",
     "output_type": "stream",
     "text": [
      "You and Niceman\n",
      "I ate 10 apples. so I was sick for 3 days\n"
     ]
    }
   ],
   "source": [
    "# 이름\n",
    "\n",
    "print('{var1} and {var2}'.format(var1='You',var2='Niceman'))\n",
    "print(\"I ate {number} apples. so I was sick for {day} days\".format(number=10,day=3))"
   ]
  },
  {
   "cell_type": "code",
   "execution_count": 38,
   "id": "fa54bfc6",
   "metadata": {},
   "outputs": [
    {
     "name": "stdout",
     "output_type": "stream",
     "text": [
      "I ate 10 apples. so I was sick for 3 days\n"
     ]
    }
   ],
   "source": [
    "# 혼합(인덱스, 이름)\n",
    "\n",
    "print(\"I ate {0} apples. so I was sick for {day} days\".format(10,day=3))"
   ]
  },
  {
   "cell_type": "code",
   "execution_count": 39,
   "id": "343eb366",
   "metadata": {},
   "outputs": [
    {
     "name": "stdout",
     "output_type": "stream",
     "text": [
      "Test1 :   776, Price1 : 6534.12\n",
      "Test1 :   776, Price1 : 6534.12\n"
     ]
    }
   ],
   "source": [
    "# 정수, 소수 표현\n",
    "\n",
    "print(\"Test1 : {0:5d}, Price1 : {1:4.2f}\".format(776,6534.123))\n",
    "print(\"Test1 : {a:5d}, Price1 : {b:4.2f}\".format(a=776,b=6534.123))"
   ]
  },
  {
   "cell_type": "code",
   "execution_count": 40,
   "id": "bdba463e",
   "metadata": {},
   "outputs": [
    {
     "name": "stdout",
     "output_type": "stream",
     "text": [
      "h1        \n",
      "        h1\n",
      "    h1    \n"
     ]
    }
   ],
   "source": [
    "print(\"{0:<10}\".format(\"h1\"))\n",
    "print(\"{0:>10}\".format(\"h1\"))\n",
    "print(\"{0:^10}\".format(\"h1\"))"
   ]
  },
  {
   "cell_type": "markdown",
   "id": "c6304576",
   "metadata": {},
   "source": [
    "### 이스케이프 문자\n",
    "\n",
    "- \\n, \\t,\\',\\\",\\\\"
   ]
  },
  {
   "cell_type": "code",
   "execution_count": 42,
   "id": "af5f394e",
   "metadata": {},
   "outputs": [
    {
     "name": "stdout",
     "output_type": "stream",
     "text": [
      "\n",
      "줄바꿈 연습\n",
      "\n",
      "\t탭키\t연습\n",
      "글자가 \"강조\" 되는 효과\n",
      "글자가 '강조' 되는 효과\n",
      "\\n \\t \\를 그대로 출력\n"
     ]
    }
   ],
   "source": [
    "print(\"\\n줄바꿈 연습\\n\")\n",
    "print(\"\\t탭키\\t연습\")\n",
    "print(\"글자가 \\\"강조\\\" 되는 효과\")\n",
    "print('글자가 \\'강조\\' 되는 효과')\n",
    "print(\"\\\\n \\\\t \\\\를 그대로 출력\")"
   ]
  },
  {
   "cell_type": "code",
   "execution_count": 43,
   "id": "1f12103f",
   "metadata": {},
   "outputs": [
    {
     "name": "stdout",
     "output_type": "stream",
     "text": [
      "글자가 \"강조\" 되는 효과\n",
      "글자가 '강조' 되는 효과\n"
     ]
    }
   ],
   "source": [
    "# 문자 => '' or \"\"\n",
    "print('글자가 \"강조\" 되는 효과')\n",
    "print(\"글자가 '강조' 되는 효과\")"
   ]
  },
  {
   "cell_type": "code",
   "execution_count": null,
   "id": "5ad2aa9f",
   "metadata": {},
   "outputs": [],
   "source": []
  }
 ],
 "metadata": {
  "kernelspec": {
   "display_name": "Python 3",
   "language": "python",
   "name": "python3"
  },
  "language_info": {
   "codemirror_mode": {
    "name": "ipython",
    "version": 3
   },
   "file_extension": ".py",
   "mimetype": "text/x-python",
   "name": "python",
   "nbconvert_exporter": "python",
   "pygments_lexer": "ipython3",
   "version": "3.8.8"
  }
 },
 "nbformat": 4,
 "nbformat_minor": 5
}
