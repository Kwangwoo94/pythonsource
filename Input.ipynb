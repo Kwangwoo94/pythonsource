{
 "cells": [
  {
   "cell_type": "code",
   "execution_count": 1,
   "id": "11e43c2c",
   "metadata": {},
   "outputs": [
    {
     "name": "stdout",
     "output_type": "stream",
     "text": [
      "안녕하세요\n"
     ]
    }
   ],
   "source": [
    "msg = input()"
   ]
  },
  {
   "cell_type": "code",
   "execution_count": 2,
   "id": "bb170cbb",
   "metadata": {},
   "outputs": [
    {
     "name": "stdout",
     "output_type": "stream",
     "text": [
      "이름 입력 : 홍길동\n",
      "홍길동\n"
     ]
    }
   ],
   "source": [
    "msg = input(\"이름 입력 : \")\n",
    "print(msg)"
   ]
  },
  {
   "cell_type": "code",
   "execution_count": 3,
   "id": "7d8e2417",
   "metadata": {},
   "outputs": [
    {
     "name": "stdout",
     "output_type": "stream",
     "text": [
      "숫자 입력 : 56\n",
      "56\n",
      "<class 'str'>\n"
     ]
    }
   ],
   "source": [
    "num1 = input(\"숫자 입력 : \")\n",
    "print(num1)\n",
    "print(type(num1))"
   ]
  },
  {
   "cell_type": "code",
   "execution_count": 4,
   "id": "c6c196c6",
   "metadata": {},
   "outputs": [
    {
     "name": "stdout",
     "output_type": "stream",
     "text": [
      "첫번째 숫자 입력 : 56\n",
      "두번째 숫자 입력 : 44\n",
      "5644\n"
     ]
    }
   ],
   "source": [
    "num1 = input(\"첫번째 숫자 입력 : \")\n",
    "num2 = input(\"두번째 숫자 입력 : \")\n",
    "print(num1 + num2) # 문자 + 숫자(에러), 문자 + 문자 => 연결"
   ]
  },
  {
   "cell_type": "code",
   "execution_count": 5,
   "id": "6b08b24d",
   "metadata": {},
   "outputs": [
    {
     "name": "stdout",
     "output_type": "stream",
     "text": [
      "첫번째 숫자 입력 : 56\n",
      "두번째 숫자 입력 : 44\n",
      "100\n"
     ]
    }
   ],
   "source": [
    "num1 = int(input(\"첫번째 숫자 입력 : \"))\n",
    "num2 = int(input(\"두번째 숫자 입력 : \"))\n",
    "print(num1 + num2)"
   ]
  },
  {
   "cell_type": "code",
   "execution_count": null,
   "id": "466fd75a",
   "metadata": {},
   "outputs": [],
   "source": []
  },
  {
   "cell_type": "code",
   "execution_count": null,
   "id": "6fe0ba8f",
   "metadata": {},
   "outputs": [],
   "source": []
  },
  {
   "cell_type": "code",
   "execution_count": null,
   "id": "4876668a",
   "metadata": {},
   "outputs": [],
   "source": []
  },
  {
   "cell_type": "code",
   "execution_count": null,
   "id": "27334c4a",
   "metadata": {},
   "outputs": [],
   "source": []
  },
  {
   "cell_type": "code",
   "execution_count": null,
   "id": "44ebb71a",
   "metadata": {},
   "outputs": [],
   "source": []
  }
 ],
 "metadata": {
  "kernelspec": {
   "display_name": "Python 3",
   "language": "python",
   "name": "python3"
  },
  "language_info": {
   "codemirror_mode": {
    "name": "ipython",
    "version": 3
   },
   "file_extension": ".py",
   "mimetype": "text/x-python",
   "name": "python",
   "nbconvert_exporter": "python",
   "pygments_lexer": "ipython3",
   "version": "3.8.8"
  }
 },
 "nbformat": 4,
 "nbformat_minor": 5
}
