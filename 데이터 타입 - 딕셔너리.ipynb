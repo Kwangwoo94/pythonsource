{
 "cells": [
  {
   "cell_type": "markdown",
   "id": "dae13976",
   "metadata": {},
   "source": [
    "- 키,값 형태\n",
    "- {key1 : value1,key2 : value2, key3 : value3 .....}\n"
   ]
  },
  {
   "cell_type": "code",
   "execution_count": 1,
   "id": "ab52a5d0",
   "metadata": {},
   "outputs": [
    {
     "data": {
      "text/plain": [
       "{'name': 'Hong', 'age': 12}"
      ]
     },
     "execution_count": 1,
     "metadata": {},
     "output_type": "execute_result"
    }
   ],
   "source": [
    "dic1 = {\"name\":\"Hong\",\"age\":12}\n",
    "dic1"
   ]
  },
  {
   "cell_type": "code",
   "execution_count": 3,
   "id": "43e8a193",
   "metadata": {},
   "outputs": [
    {
     "data": {
      "text/plain": [
       "{0: 'Hello Python', 1: 'Hello Coding'}"
      ]
     },
     "execution_count": 3,
     "metadata": {},
     "output_type": "execute_result"
    }
   ],
   "source": [
    "dic2 = {0:\"Hello Python\", 1:\"Hello Coding\"}\n",
    "dic2"
   ]
  },
  {
   "cell_type": "code",
   "execution_count": 4,
   "id": "e0117d61",
   "metadata": {},
   "outputs": [
    {
     "data": {
      "text/plain": [
       "{'arr': [1, 2, 3, 4, 5]}"
      ]
     },
     "execution_count": 4,
     "metadata": {},
     "output_type": "execute_result"
    }
   ],
   "source": [
    "dic3 = {\"arr\":[1,2,3,4,5]}\n",
    "dic3"
   ]
  },
  {
   "cell_type": "markdown",
   "id": "c38300d7",
   "metadata": {},
   "source": [
    "- 특정 키에 해당하는 값만 출력"
   ]
  },
  {
   "cell_type": "code",
   "execution_count": 5,
   "id": "4a3ff528",
   "metadata": {},
   "outputs": [
    {
     "data": {
      "text/plain": [
       "'Hong'"
      ]
     },
     "execution_count": 5,
     "metadata": {},
     "output_type": "execute_result"
    }
   ],
   "source": [
    "dic1[\"name\"]"
   ]
  },
  {
   "cell_type": "code",
   "execution_count": 6,
   "id": "945e8221",
   "metadata": {},
   "outputs": [
    {
     "ename": "KeyError",
     "evalue": "'addr'",
     "output_type": "error",
     "traceback": [
      "\u001b[1;31m---------------------------------------------------------------------------\u001b[0m",
      "\u001b[1;31mKeyError\u001b[0m                                  Traceback (most recent call last)",
      "\u001b[1;32m<ipython-input-6-8c525b4c70c1>\u001b[0m in \u001b[0;36m<module>\u001b[1;34m\u001b[0m\n\u001b[1;32m----> 1\u001b[1;33m \u001b[0mdic1\u001b[0m\u001b[1;33m[\u001b[0m\u001b[1;34m\"addr\"\u001b[0m\u001b[1;33m]\u001b[0m\u001b[1;33m\u001b[0m\u001b[1;33m\u001b[0m\u001b[0m\n\u001b[0m",
      "\u001b[1;31mKeyError\u001b[0m: 'addr'"
     ]
    }
   ],
   "source": [
    "dic1[\"addr\"]"
   ]
  },
  {
   "cell_type": "markdown",
   "id": "d5609fb6",
   "metadata": {},
   "source": [
    "- 딕셔너리 쌍 추가, 삭제"
   ]
  },
  {
   "cell_type": "code",
   "execution_count": 8,
   "id": "df734b09",
   "metadata": {},
   "outputs": [
    {
     "data": {
      "text/plain": [
       "{'name': 'Hong', 'age': 12, 'birth': '0701'}"
      ]
     },
     "execution_count": 8,
     "metadata": {},
     "output_type": "execute_result"
    }
   ],
   "source": [
    "dic1[\"birth\"] = '0701'\n",
    "dic1"
   ]
  },
  {
   "cell_type": "code",
   "execution_count": 9,
   "id": "b2cf6172",
   "metadata": {},
   "outputs": [
    {
     "data": {
      "text/plain": [
       "{0: 'Hello Python', 1: 'Hello Coding', 2: ['Hello Java', 'Hello Python']}"
      ]
     },
     "execution_count": 9,
     "metadata": {},
     "output_type": "execute_result"
    }
   ],
   "source": [
    "dic2[2] = ['Hello Java','Hello Python']\n",
    "dic2"
   ]
  },
  {
   "cell_type": "code",
   "execution_count": 10,
   "id": "eb69cef1",
   "metadata": {},
   "outputs": [
    {
     "data": {
      "text/plain": [
       "{'arr': [1, 2, 3, 4, 5], 'rank': (16, 17, 18)}"
      ]
     },
     "execution_count": 10,
     "metadata": {},
     "output_type": "execute_result"
    }
   ],
   "source": [
    "dic3['rank'] = (16,17,18)\n",
    "dic3"
   ]
  },
  {
   "cell_type": "code",
   "execution_count": 11,
   "id": "6cc029db",
   "metadata": {},
   "outputs": [
    {
     "data": {
      "text/plain": [
       "{'name': 'Hong', 'age': 12}"
      ]
     },
     "execution_count": 11,
     "metadata": {},
     "output_type": "execute_result"
    }
   ],
   "source": [
    "del dic1['birth']\n",
    "dic1"
   ]
  },
  {
   "cell_type": "markdown",
   "id": "1bd6a6b3",
   "metadata": {},
   "source": [
    "- 함수들"
   ]
  },
  {
   "cell_type": "code",
   "execution_count": 12,
   "id": "ce2e60e1",
   "metadata": {},
   "outputs": [
    {
     "data": {
      "text/plain": [
       "dict_keys(['name', 'age'])"
      ]
     },
     "execution_count": 12,
     "metadata": {},
     "output_type": "execute_result"
    }
   ],
   "source": [
    "# 키값 list 형태로 가져오기 \n",
    "\n",
    "dic1.keys()"
   ]
  },
  {
   "cell_type": "code",
   "execution_count": 13,
   "id": "78b79ba7",
   "metadata": {},
   "outputs": [
    {
     "data": {
      "text/plain": [
       "dict_values(['Hong', 12])"
      ]
     },
     "execution_count": 13,
     "metadata": {},
     "output_type": "execute_result"
    }
   ],
   "source": [
    "# value값 list 형태로 가져오기\n",
    "\n",
    "dic1.values()"
   ]
  },
  {
   "cell_type": "code",
   "execution_count": 14,
   "id": "e7293b78",
   "metadata": {},
   "outputs": [
    {
     "data": {
      "text/plain": [
       "dict_items([('name', 'Hong'), ('age', 12)])"
      ]
     },
     "execution_count": 14,
     "metadata": {},
     "output_type": "execute_result"
    }
   ],
   "source": [
    "# key 와 value를 쌍으로 가져오기\n",
    "\n",
    "dic1.items()"
   ]
  },
  {
   "cell_type": "code",
   "execution_count": 15,
   "id": "f102b376",
   "metadata": {},
   "outputs": [
    {
     "name": "stdout",
     "output_type": "stream",
     "text": [
      "Hong\n",
      "Hong\n"
     ]
    }
   ],
   "source": [
    "# key 와 value 열기\n",
    "\n",
    "print(dic1[\"name\"])\n",
    "\n",
    "print(dic1.get(\"name\"))"
   ]
  },
  {
   "cell_type": "code",
   "execution_count": 16,
   "id": "34bf0b61",
   "metadata": {},
   "outputs": [
    {
     "name": "stdout",
     "output_type": "stream",
     "text": [
      "None\n"
     ]
    }
   ],
   "source": [
    "# 없는 key 가져오려 할때\n",
    "\n",
    "#print(dic1[\"name\"]) 에러발생\n",
    "\n",
    "print(dic1.get(\"addr\"))"
   ]
  },
  {
   "cell_type": "code",
   "execution_count": 17,
   "id": "f1b728e8",
   "metadata": {},
   "outputs": [
    {
     "data": {
      "text/plain": [
       "True"
      ]
     },
     "execution_count": 17,
     "metadata": {},
     "output_type": "execute_result"
    }
   ],
   "source": [
    "\"name\" in dic1"
   ]
  },
  {
   "cell_type": "code",
   "execution_count": 18,
   "id": "aa5399d9",
   "metadata": {},
   "outputs": [],
   "source": [
    "# key,value  모두 지우기\n",
    "\n",
    "dic1.clear()"
   ]
  },
  {
   "cell_type": "code",
   "execution_count": 19,
   "id": "3150e14c",
   "metadata": {},
   "outputs": [
    {
     "data": {
      "text/plain": [
       "{}"
      ]
     },
     "execution_count": 19,
     "metadata": {},
     "output_type": "execute_result"
    }
   ],
   "source": [
    "dic1"
   ]
  },
  {
   "cell_type": "code",
   "execution_count": null,
   "id": "24e7a29f",
   "metadata": {},
   "outputs": [],
   "source": []
  },
  {
   "cell_type": "code",
   "execution_count": 24,
   "id": "7429e864",
   "metadata": {},
   "outputs": [
    {
     "name": "stdout",
     "output_type": "stream",
     "text": [
      "name age city \n",
      "Kim 25 seoul \n",
      "name : Kim\n",
      "age : 25\n",
      "city : seoul\n"
     ]
    }
   ],
   "source": [
    "myInfo = {\"name\":\"Kim\",\"age\":25,\"city\":\"seoul\"}\n",
    "\n",
    "# key 값만 출력\n",
    "#myInfo.keys()\n",
    "\n",
    "for k in myInfo.keys():\n",
    "    print(k,end=\" \")\n",
    "\n",
    "print()\n",
    "\n",
    "for v in myInfo.values():\n",
    "    print(v,end=\" \")\n",
    "\n",
    "print()\n",
    "\n",
    "for k,v in myInfo.items():\n",
    "    print(k,\":\",v)"
   ]
  },
  {
   "cell_type": "code",
   "execution_count": 35,
   "id": "04f7ad8f",
   "metadata": {},
   "outputs": [
    {
     "name": "stdout",
     "output_type": "stream",
     "text": [
      "{1: 3, 2: 4, 6: 1, 8: 2, 4: 2, 3: 3, 9: 2, 7: 2, 5: 1}\n"
     ]
    }
   ],
   "source": [
    "numbers = [1,2,6,8,4,3,2,1,9,7,2,1,3,5,4,8,9,7,2,3]\n",
    "\n",
    "counter = {}\n",
    "\n",
    "for num in numbers:\n",
    "    counter[num] = numbers.count(num)\n",
    "\n",
    "print(counter)"
   ]
  },
  {
   "cell_type": "code",
   "execution_count": 32,
   "id": "c3aaf889",
   "metadata": {},
   "outputs": [
    {
     "name": "stdout",
     "output_type": "stream",
     "text": [
      "{1: 3, 2: 4, 3: 3, 4: 2, 5: 1, 6: 1, 7: 2, 8: 2, 9: 2}\n"
     ]
    }
   ],
   "source": [
    "numbers = [1,2,6,8,4,3,2,1,9,7,2,1,3,5,4,8,9,7,2,3]\n",
    "\n",
    "# {1:3, 2:4, 6:1, 8:2}\n",
    "\n",
    "#dic4[1] = 3\n",
    "#dic4[2] = 4\n",
    "\n",
    "#내가 푼것\n",
    "dic4 = {}\n",
    "for i in range(1,10):\n",
    "    cnt = 0\n",
    "    for n in numbers:\n",
    "        if i == n:\n",
    "            cnt += 1\n",
    "        dic4[i] = cnt\n",
    "print(dic4)\n",
    "    "
   ]
  },
  {
   "cell_type": "code",
   "execution_count": 40,
   "id": "b59ad2b2",
   "metadata": {},
   "outputs": [
    {
     "name": "stdout",
     "output_type": "stream",
     "text": [
      "사과\n"
     ]
    }
   ],
   "source": [
    "dic2 = {\"봄\":\"딸기\",\"여름\":\"토마토\",\"가을\":\"사과\"}\n",
    "\n",
    "# 가을에 해당하는 과일 출력\n",
    "\n",
    "# print(dic2[\"가을\"])\n",
    "\n",
    "for k in dic2.keys():\n",
    "    if k == \"가을\":\n",
    "        print(dic2[k])"
   ]
  },
  {
   "cell_type": "code",
   "execution_count": 41,
   "id": "746aeaad",
   "metadata": {},
   "outputs": [
    {
     "name": "stdout",
     "output_type": "stream",
     "text": [
      "사과가 포함됨\n"
     ]
    }
   ],
   "source": [
    "#dic2에 사과가 포함되었는지 출력하기\n",
    "\n",
    "# \"사과\" in dic2.values()\n",
    "\n",
    "for v in dic2.values():\n",
    "    if v == \"사과\":\n",
    "        print(\"사과가 포함됨\")\n",
    "        break"
   ]
  },
  {
   "cell_type": "code",
   "execution_count": 42,
   "id": "3f71c55a",
   "metadata": {},
   "outputs": [
    {
     "name": "stdout",
     "output_type": "stream",
     "text": [
      "바나나가 포함되지 않음\n"
     ]
    }
   ],
   "source": [
    "for v in dic2.values():\n",
    "    if v == \"바나나\":\n",
    "        print(\"바나나가 포함됨\")\n",
    "        break\n",
    "else:\n",
    "    print(\"바나나가 포함되지 않음\")"
   ]
  },
  {
   "cell_type": "markdown",
   "id": "acfd7cd3",
   "metadata": {},
   "source": [
    "### dictionary comprehension"
   ]
  },
  {
   "cell_type": "code",
   "execution_count": 45,
   "id": "beab29f8",
   "metadata": {},
   "outputs": [
    {
     "name": "stdout",
     "output_type": "stream",
     "text": [
      "{'토마토', '딸기', '사과'}\n"
     ]
    }
   ],
   "source": [
    "print({fruit for fruit in dic2.values()})"
   ]
  },
  {
   "cell_type": "code",
   "execution_count": 46,
   "id": "84278c2d",
   "metadata": {},
   "outputs": [
    {
     "name": "stdout",
     "output_type": "stream",
     "text": [
      "{'토마토', '딸기'}\n"
     ]
    }
   ],
   "source": [
    "print({fruit for fruit in dic2.values() if fruit != \"사과\"})"
   ]
  },
  {
   "cell_type": "code",
   "execution_count": 47,
   "id": "00eb059f",
   "metadata": {},
   "outputs": [
    {
     "name": "stdout",
     "output_type": "stream",
     "text": [
      "{('가을', '사과'), ('봄', '딸기'), ('여름', '토마토')}\n"
     ]
    }
   ],
   "source": [
    "print({(k,v) for (k,v) in dic2.items()})"
   ]
  },
  {
   "cell_type": "markdown",
   "id": "0b537661",
   "metadata": {},
   "source": [
    "###  연습문제"
   ]
  },
  {
   "cell_type": "code",
   "execution_count": 49,
   "id": "3c6bbc21",
   "metadata": {},
   "outputs": [],
   "source": [
    "# 딕셔너리를 생성하시오\n",
    "# key : A,B,C value : 90,80,70 \n",
    "\n",
    "dic4 = {\"A\":90,\"B\":80,\"C\":70}"
   ]
  },
  {
   "cell_type": "code",
   "execution_count": 51,
   "id": "2db47d87",
   "metadata": {},
   "outputs": [
    {
     "name": "stdout",
     "output_type": "stream",
     "text": [
      "80\n"
     ]
    }
   ],
   "source": [
    "#위에서 생성한 딕셔너리에서 B키에 해당하는 값만 출력\n",
    "print(dic4[\"B\"])"
   ]
  },
  {
   "cell_type": "code",
   "execution_count": 54,
   "id": "5b6b1580",
   "metadata": {},
   "outputs": [],
   "source": [
    "#B 키 값을 삭제한 후 딕셔너리 출력"
   ]
  },
  {
   "cell_type": "code",
   "execution_count": 52,
   "id": "0214200b",
   "metadata": {},
   "outputs": [
    {
     "name": "stdout",
     "output_type": "stream",
     "text": [
      "{'A': 90, 'C': 70}\n"
     ]
    }
   ],
   "source": [
    "del dic4[\"B\"]\n",
    "\n",
    "print(dic4)"
   ]
  },
  {
   "cell_type": "code",
   "execution_count": 55,
   "id": "7e3cf683",
   "metadata": {},
   "outputs": [],
   "source": [
    "# 딕셔너리를 생성하시오\n",
    "# key : 성인,청소년,아동 values: 100000,70000,30000\n",
    "\n",
    "dic5 = {\"성인\":100000,\"청소년\":70000,\"아동\":30000}"
   ]
  },
  {
   "cell_type": "code",
   "execution_count": 56,
   "id": "ec45d3db",
   "metadata": {},
   "outputs": [
    {
     "name": "stdout",
     "output_type": "stream",
     "text": [
      "{'성인': 100000, '청소년': 70000, '아동': 30000, '소아': 0}\n"
     ]
    }
   ],
   "source": [
    "# 위에서 생선한 딕셔너리에 소아 : 0 을 추가하시오\n",
    "\n",
    "dic5[\"소아\"] = 0\n",
    "print(dic5)"
   ]
  },
  {
   "cell_type": "code",
   "execution_count": 61,
   "id": "86fd7fab",
   "metadata": {},
   "outputs": [
    {
     "name": "stdout",
     "output_type": "stream",
     "text": [
      "{'아동', '소아', '성인', '청소년'}\n"
     ]
    }
   ],
   "source": [
    "# 딕셔너리에서 key 값만 출력\n",
    "\n",
    "# print(dic5.keys())\n",
    "\n",
    "print({age for age in dic5.keys()})"
   ]
  },
  {
   "cell_type": "code",
   "execution_count": 64,
   "id": "6405d34f",
   "metadata": {},
   "outputs": [
    {
     "name": "stdout",
     "output_type": "stream",
     "text": [
      "{100000, 0, 30000, 70000}\n"
     ]
    }
   ],
   "source": [
    "# value 값만 출력\n",
    "\n",
    "# print(dic5.values())\n",
    "\n",
    "print({price for price in dic5.values()})"
   ]
  },
  {
   "cell_type": "code",
   "execution_count": null,
   "id": "76f9912a",
   "metadata": {},
   "outputs": [],
   "source": []
  },
  {
   "cell_type": "code",
   "execution_count": 81,
   "id": "0e3a9766",
   "metadata": {},
   "outputs": [
    {
     "name": "stdout",
     "output_type": "stream",
     "text": [
      "<class 'dict'>\n"
     ]
    }
   ],
   "source": [
    "character = {\n",
    "    \"name\":\"기사\",\n",
    "    \"level\":12,\n",
    "    \"items\":{\"sword\":\"불꽃의 검\",\"armor\":\"폴플레이트\"},\n",
    "    \"skill\":[\"베기\",\"세개 베기\",\"아주 세게 베기\"]\n",
    "}\n",
    "\n",
    "# 위와 같은 딕셔너리가 있을 대 아래와 같이 출력하기\n",
    "\n",
    "# name : 기사\n",
    "# level : 12\n",
    "# sword : 불꽃의 검\n",
    "# skill : 베기\n",
    "# skill : 세게 베기\n",
    "# skill : 아주 세게 베기\n",
    "print(type(character))"
   ]
  },
  {
   "cell_type": "code",
   "execution_count": 90,
   "id": "8f46e9aa",
   "metadata": {},
   "outputs": [
    {
     "name": "stdout",
     "output_type": "stream",
     "text": [
      "name : 기사\n",
      "level : 12\n",
      "sword : 불꽃의 검\n",
      "armor : 폴플레이트\n",
      "skill : 베기\n",
      "skill : 세개 베기\n",
      "skill : 아주 세게 베기\n"
     ]
    }
   ],
   "source": [
    "# 내가 푼것\n",
    "for k,v in character.items():\n",
    "    if str(type(v)) == \"<class 'dict'>\":\n",
    "        for k2,v2 in v.items():\n",
    "            print(k2,\":\",v2)\n",
    "    elif str(type(v)) == \"<class 'list'>\":\n",
    "        for i in range(len(v)): \n",
    "            print(k,\":\",v[i])\n",
    "    else:\n",
    "        print(k,\":\",v)\n",
    "    "
   ]
  },
  {
   "cell_type": "code",
   "execution_count": 93,
   "id": "fb7a82e3",
   "metadata": {},
   "outputs": [
    {
     "name": "stdout",
     "output_type": "stream",
     "text": [
      "name : 기사\n",
      "level : 12\n",
      "sword : 불꽃의 검\n",
      "armor : 폴플레이트\n",
      "skill : 베기\n",
      "skill : 세개 베기\n",
      "skill : 아주 세게 베기\n"
     ]
    }
   ],
   "source": [
    "for key in character:\n",
    "    #딕셔너리 구조 파악\n",
    "    #print(character[key],type(character[key]))\n",
    "    \n",
    "    type1 = type(character[key])\n",
    "    \n",
    "    if type1 != dict:\n",
    "        if (type1 == str) | (type1 == int):\n",
    "            print(\"{} : {}\".format(key,character[key]))\n",
    "        else: #리스트일때\n",
    "            for item in character[key]:\n",
    "                print(\"{} : {}\".format(key,item))\n",
    "    else: # dict\n",
    "        for subkey in character[key]:\n",
    "            print(subkey,\":\",character[key][subkey])"
   ]
  },
  {
   "cell_type": "code",
   "execution_count": null,
   "id": "78663967",
   "metadata": {},
   "outputs": [],
   "source": []
  }
 ],
 "metadata": {
  "kernelspec": {
   "display_name": "Python 3",
   "language": "python",
   "name": "python3"
  },
  "language_info": {
   "codemirror_mode": {
    "name": "ipython",
    "version": 3
   },
   "file_extension": ".py",
   "mimetype": "text/x-python",
   "name": "python",
   "nbconvert_exporter": "python",
   "pygments_lexer": "ipython3",
   "version": "3.8.8"
  }
 },
 "nbformat": 4,
 "nbformat_minor": 5
}
