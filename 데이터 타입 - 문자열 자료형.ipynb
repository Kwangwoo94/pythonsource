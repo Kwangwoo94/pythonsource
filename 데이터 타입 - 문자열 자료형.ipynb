{
 "cells": [
  {
   "cell_type": "markdown",
   "id": "6377bc90",
   "metadata": {},
   "source": [
    "- 문자열(String) : 큰따옴표(\"\") / 작은따옴표('') / 큰따옴표 3개 연속(\"\"\" \"\"\") / 작은따옴표 3개 연속(''' ''')"
   ]
  },
  {
   "cell_type": "code",
   "execution_count": 1,
   "id": "1005e4c8",
   "metadata": {},
   "outputs": [
    {
     "name": "stdout",
     "output_type": "stream",
     "text": [
      "Python's favorite food is perl\n"
     ]
    }
   ],
   "source": [
    "print(\"Python's favorite food is perl\")"
   ]
  },
  {
   "cell_type": "code",
   "execution_count": 2,
   "id": "67f2302e",
   "metadata": {},
   "outputs": [
    {
     "name": "stdout",
     "output_type": "stream",
     "text": [
      "\n",
      "Life is too short\n",
      "You need python\n",
      "\n"
     ]
    }
   ],
   "source": [
    "multiline = '''\n",
    "Life is too short\n",
    "You need python\n",
    "'''\n",
    "\n",
    "print(multiline)"
   ]
  },
  {
   "cell_type": "markdown",
   "id": "b18d1440",
   "metadata": {},
   "source": [
    "1. 문자열 연산"
   ]
  },
  {
   "cell_type": "code",
   "execution_count": 3,
   "id": "ebb30807",
   "metadata": {},
   "outputs": [
    {
     "name": "stdout",
     "output_type": "stream",
     "text": [
      "pythonis fun\n"
     ]
    }
   ],
   "source": [
    "# + : 결합\n",
    "\n",
    "print(\"python\"+\"is fun\")"
   ]
  },
  {
   "cell_type": "code",
   "execution_count": 4,
   "id": "e4ea0c07",
   "metadata": {},
   "outputs": [
    {
     "name": "stdout",
     "output_type": "stream",
     "text": [
      "파이썬파이썬\n"
     ]
    }
   ],
   "source": [
    "# * : 반복\n",
    "\n",
    "print(\"파이썬\"*2)"
   ]
  },
  {
   "cell_type": "code",
   "execution_count": 5,
   "id": "cfe02592",
   "metadata": {},
   "outputs": [
    {
     "name": "stdout",
     "output_type": "stream",
     "text": [
      "**************************************************\n",
      "My Program\n",
      "**************************************************\n"
     ]
    }
   ],
   "source": [
    "print(\"*\"*50)\n",
    "print(\"My Program\")\n",
    "print(\"*\"*50)"
   ]
  },
  {
   "cell_type": "markdown",
   "id": "b635692a",
   "metadata": {},
   "source": [
    "2. 문자열 인덱싱과 슬라이싱"
   ]
  },
  {
   "cell_type": "code",
   "execution_count": 8,
   "id": "6f564d93",
   "metadata": {},
   "outputs": [
    {
     "name": "stdout",
     "output_type": "stream",
     "text": [
      "e\n",
      "t\n",
      "e\n"
     ]
    }
   ],
   "source": [
    "str1 = \"Life is too short\"\n",
    "print(str1[3])\n",
    "print(str1[-1])\n",
    "print(str1[-14])"
   ]
  },
  {
   "cell_type": "code",
   "execution_count": 9,
   "id": "112abe5a",
   "metadata": {},
   "outputs": [
    {
     "data": {
      "text/plain": [
       "'Life'"
      ]
     },
     "execution_count": 9,
     "metadata": {},
     "output_type": "execute_result"
    }
   ],
   "source": [
    "str1[0:4] # 마지막 숫자 포함 안함"
   ]
  },
  {
   "cell_type": "code",
   "execution_count": 10,
   "id": "ee0273c3",
   "metadata": {},
   "outputs": [
    {
     "data": {
      "text/plain": [
       "' is '"
      ]
     },
     "execution_count": 10,
     "metadata": {},
     "output_type": "execute_result"
    }
   ],
   "source": [
    "str1[4:8]"
   ]
  },
  {
   "cell_type": "code",
   "execution_count": 11,
   "id": "9b68e49c",
   "metadata": {},
   "outputs": [
    {
     "data": {
      "text/plain": [
       "'oo short'"
      ]
     },
     "execution_count": 11,
     "metadata": {},
     "output_type": "execute_result"
    }
   ],
   "source": [
    "str1[9:]"
   ]
  },
  {
   "cell_type": "code",
   "execution_count": 12,
   "id": "c09ab24d",
   "metadata": {},
   "outputs": [
    {
     "data": {
      "text/plain": [
       "'Life is too sho'"
      ]
     },
     "execution_count": 12,
     "metadata": {},
     "output_type": "execute_result"
    }
   ],
   "source": [
    "str1[:15]"
   ]
  },
  {
   "cell_type": "code",
   "execution_count": 13,
   "id": "8a27adbb",
   "metadata": {},
   "outputs": [
    {
     "data": {
      "text/plain": [
       "'Life is too s'"
      ]
     },
     "execution_count": 13,
     "metadata": {},
     "output_type": "execute_result"
    }
   ],
   "source": [
    "str1[0:-4]"
   ]
  },
  {
   "cell_type": "code",
   "execution_count": 21,
   "id": "e447f5c6",
   "metadata": {},
   "outputs": [
    {
     "name": "stdout",
     "output_type": "stream",
     "text": [
      "20210629 sunny\n"
     ]
    }
   ],
   "source": [
    "str2 = \"20210629sunny\"\n",
    "\n",
    "#년 월 일\n",
    "date = str2[:8]\n",
    "#날씨\n",
    "weather = str2[8:]\n",
    "\n",
    "print(date,weather)"
   ]
  },
  {
   "cell_type": "code",
   "execution_count": 22,
   "id": "7cc92e9e",
   "metadata": {},
   "outputs": [
    {
     "name": "stdout",
     "output_type": "stream",
     "text": [
      "2021-06-29\n"
     ]
    }
   ],
   "source": [
    "# date 를 2021-06-29로 출력\n",
    "\n",
    "year = date[:4]\n",
    "month = date[4:6]\n",
    "day = date[6:]\n",
    "\n",
    "print(year,month,day, sep=\"-\")"
   ]
  },
  {
   "cell_type": "code",
   "execution_count": 41,
   "id": "a897d635",
   "metadata": {},
   "outputs": [
    {
     "name": "stdout",
     "output_type": "stream",
     "text": [
      "남자 입니다.\n"
     ]
    }
   ],
   "source": [
    "# 주민번호의 8번째 자리수를 사용해서 남,여 판별(1,3 : 남자 2,4: 여자)\n",
    "\n",
    "str3 = \"901204-1234567\"\n",
    "\n",
    "gender = int(str3[7])\n",
    "\n",
    "if(gender == 1):\n",
    "    print(\"남자 입니다.\")\n",
    "elif(gender == 3):\n",
    "    print(\"남자 입니다.\")\n",
    "elif(gender == 2):\n",
    "    print(\"여자 입니다.\")\n",
    "elif(gender == 4):\n",
    "    print(\"여자 입니다.\")\n",
    "else:\n",
    "    print(\"잘못된 번호입니다.\")"
   ]
  },
  {
   "cell_type": "code",
   "execution_count": 40,
   "id": "f801f4e7",
   "metadata": {},
   "outputs": [
    {
     "name": "stdout",
     "output_type": "stream",
     "text": [
      "여자\n"
     ]
    }
   ],
   "source": [
    "no = str[7]\n",
    "\n",
    "if no == \"1\" or no == \"3\":\n",
    "    print(\"남자\")\n",
    "else:\n",
    "    print(\"여자\")"
   ]
  },
  {
   "cell_type": "code",
   "execution_count": 35,
   "id": "2de57b00",
   "metadata": {},
   "outputs": [
    {
     "name": "stdout",
     "output_type": "stream",
     "text": [
      "남자\n"
     ]
    }
   ],
   "source": [
    "if int(str3[7]) % 2 == 1:\n",
    "    print(\"남자\")\n",
    "else:\n",
    "    print(\"여자\")"
   ]
  },
  {
   "cell_type": "code",
   "execution_count": 42,
   "id": "dfa5db0f",
   "metadata": {},
   "outputs": [
    {
     "name": "stdout",
     "output_type": "stream",
     "text": [
      "대$한$민$국$"
     ]
    }
   ],
   "source": [
    "str4 = \"대한민국\"\n",
    "\n",
    "for s in str4:\n",
    "    print(s+\"$\",end=\"\")"
   ]
  },
  {
   "cell_type": "code",
   "execution_count": 54,
   "id": "eaf9ed69",
   "metadata": {},
   "outputs": [
    {
     "name": "stdout",
     "output_type": "stream",
     "text": [
      "숫자를 입력하세요 : 1234321\n",
      "♥ \n",
      "♥ ♥ \n",
      "♥ ♥ ♥ \n",
      "♥ ♥ ♥ ♥ \n",
      "♥ ♥ ♥ \n",
      "♥ ♥ \n",
      "♥ \n"
     ]
    }
   ],
   "source": [
    "# 사용자한테 숫자를 입력받은 후 숫자만큼 하트를 출력\n",
    "# 54321\n",
    "\n",
    "# ♥♥♥♥♥\n",
    "# ♥♥♥♥\n",
    "# ♥♥♥\n",
    "# ♥♥\n",
    "# ♥\n",
    "\n",
    "hstr = input(\"숫자를 입력하세요 : \")\n",
    "\n",
    "for i in range(0, len(hstr)):\n",
    "    for s in range(0, int(hstr[i])):\n",
    "        print(\"♥\", end=\" \")\n",
    "    print()"
   ]
  },
  {
   "cell_type": "code",
   "execution_count": null,
   "id": "95b7b7cf",
   "metadata": {},
   "outputs": [],
   "source": []
  },
  {
   "cell_type": "markdown",
   "id": "67d8e03a",
   "metadata": {},
   "source": [
    "3.문자열 함수"
   ]
  },
  {
   "cell_type": "code",
   "execution_count": 43,
   "id": "18a59768",
   "metadata": {},
   "outputs": [
    {
     "name": "stdout",
     "output_type": "stream",
     "text": [
      "17\n"
     ]
    }
   ],
   "source": [
    "# len() : 문자열 길이\n",
    "\n",
    "print(len(str1))"
   ]
  },
  {
   "cell_type": "code",
   "execution_count": 56,
   "id": "3ff7ec52",
   "metadata": {},
   "outputs": [
    {
     "name": "stdout",
     "output_type": "stream",
     "text": [
      "a 문자열에 포함된 b 개수 : 2\n",
      "a 문자열에 포함된 b 개수 : 2\n",
      "a 문자열에 포함된 b 개수 : 2\n"
     ]
    }
   ],
   "source": [
    "# count() : 문자열에 포함된 특정 문자열 개수\n",
    "\n",
    "a = \"hobby\"\n",
    "\n",
    "print(\"a 문자열에 포함된 b 개수 :\",a.count(\"b\"))\n",
    "print(\"a 문자열에 포함된 b 개수 : %d\" % a.count(\"b\"))\n",
    "print(\"a 문자열에 포함된 b 개수 : {}\".format(a.count(\"b\")))"
   ]
  },
  {
   "cell_type": "code",
   "execution_count": 65,
   "id": "ed323ac4",
   "metadata": {},
   "outputs": [
    {
     "name": "stdout",
     "output_type": "stream",
     "text": [
      "b 가 시작되는 첫번째 위치 :  10\n",
      "k 가 시작되는 첫번째 위치 :  -1\n"
     ]
    }
   ],
   "source": [
    "# find() : 문자가 시작되는 위치 찾기\n",
    "\n",
    "str1 = \"Python is best choice\"\n",
    "print(\"b 가 시작되는 첫번째 위치 : \",str1.find(\"b\"))\n",
    "print(\"k 가 시작되는 첫번째 위치 : \",str1.find(\"k\")) #없는 값을 찾으려 하면 -1"
   ]
  },
  {
   "cell_type": "code",
   "execution_count": 69,
   "id": "0cf31275",
   "metadata": {},
   "outputs": [
    {
     "name": "stdout",
     "output_type": "stream",
     "text": [
      "b 가 시작되는 첫번째 위치 :  10\n"
     ]
    }
   ],
   "source": [
    "# index() : find() 같은 역할 단, 찾는 문자열이 없는 경우 ValueError\n",
    "\n",
    "print(\"b 가 시작되는 첫번째 위치 : \",str1.index(\"b\"))\n",
    "#print(\"k 가 시작되는 첫번째 위치 : \",str1.index(\"k\"))"
   ]
  },
  {
   "cell_type": "code",
   "execution_count": 70,
   "id": "a80df1d4",
   "metadata": {},
   "outputs": [
    {
     "name": "stdout",
     "output_type": "stream",
     "text": [
      "True\n",
      "False\n"
     ]
    }
   ],
   "source": [
    "# startswith() : 해당 문자열로 시작하는지 여부\n",
    "# endswith() : 해당문자열로 종료하는지 여부\n",
    "\n",
    "str1 = \"Python is Easy programming\"\n",
    "print(str1.startswith(\"P\"))\n",
    "\n",
    "print(str1.endswith(\"P\"))"
   ]
  },
  {
   "cell_type": "code",
   "execution_count": 71,
   "id": "9c1bece7",
   "metadata": {},
   "outputs": [
    {
     "data": {
      "text/plain": [
       "'a,b,c,d'"
      ]
     },
     "execution_count": 71,
     "metadata": {},
     "output_type": "execute_result"
    }
   ],
   "source": [
    "# join() : 문자열 삽입\n",
    "\n",
    "a = \",\"\n",
    "\n",
    "a.join(\"abcd\")"
   ]
  },
  {
   "cell_type": "code",
   "execution_count": 74,
   "id": "c76cc817",
   "metadata": {},
   "outputs": [
    {
     "name": "stdout",
     "output_type": "stream",
     "text": [
      "ABCDE\n",
      "abcde\n"
     ]
    }
   ],
   "source": [
    "# upper() : 대문자로 변경\n",
    "# lower() : 소문자로 변경\n",
    "\n",
    "a = \"abcde\"\n",
    "print(a.upper())\n",
    "\n",
    "b = \"ABCDE\"\n",
    "print(b.lower())"
   ]
  },
  {
   "cell_type": "code",
   "execution_count": 76,
   "id": "a7958d3b",
   "metadata": {},
   "outputs": [
    {
     "name": "stdout",
     "output_type": "stream",
     "text": [
      "hi\n",
      "hi\n",
      "hi\n"
     ]
    }
   ],
   "source": [
    "# strip() - 양쪽 공백 제거 / rstrip() - 오른쪽 공백 제거 /lstrip() - 왼쪽 공백 제거\n",
    "\n",
    "str1 = \"      hi\"\n",
    "print(str1.lstrip())\n",
    "\n",
    "str2 = \"hi       \"\n",
    "print(str2.rstrip())\n",
    "\n",
    "str3 = \"     hi     \"\n",
    "print(str3.strip())"
   ]
  },
  {
   "cell_type": "code",
   "execution_count": 77,
   "id": "38423840",
   "metadata": {},
   "outputs": [
    {
     "name": "stdout",
     "output_type": "stream",
     "text": [
      "Your leg is too short\n"
     ]
    }
   ],
   "source": [
    "# replace() : 문자열 변경\n",
    "\n",
    "str1 = \"Life is too short\"\n",
    "print(str1.replace(\"Life\",\"Your leg\"))"
   ]
  },
  {
   "cell_type": "code",
   "execution_count": 80,
   "id": "b6469e20",
   "metadata": {},
   "outputs": [
    {
     "name": "stdout",
     "output_type": "stream",
     "text": [
      "['Life', 'is', 'too', 'short']\n",
      "['a', 'b', 'c', 'd']\n",
      "['하나', '둘', '셋']\n"
     ]
    }
   ],
   "source": [
    "# split() : 문자열 나누기\n",
    "\n",
    "print(str1.split()) #공백 기준으로 문자열 나눔(list 구조로 반환)\n",
    "\n",
    "str2 = \"a:b:c:d\"\n",
    "\n",
    "print(str2.split(\":\"))\n",
    "\n",
    "str3 = \"하나\\n둘\\n셋\"\n",
    "print(str3.splitlines()) # str3.split(\"\\n\")"
   ]
  },
  {
   "cell_type": "code",
   "execution_count": 82,
   "id": "3c912fa1",
   "metadata": {},
   "outputs": [
    {
     "name": "stdout",
     "output_type": "stream",
     "text": [
      "True\n",
      "True\n",
      "True\n",
      "True\n",
      "True\n"
     ]
    }
   ],
   "source": [
    "# 문자열 구성 파악\n",
    "\n",
    "print(\"1234\".isdigit())\n",
    "print(\"abcd\".isalpha())\n",
    "print(\"abc123\".isalnum())\n",
    "print(\"abcd\".islower())\n",
    "print(\"ABCD\".isupper())"
   ]
  },
  {
   "cell_type": "code",
   "execution_count": 88,
   "id": "022bae0f",
   "metadata": {},
   "outputs": [
    {
     "name": "stdout",
     "output_type": "stream",
     "text": [
      "kENNry\n",
      "kENNry\n"
     ]
    }
   ],
   "source": [
    "name = \"KennRY\"\n",
    "\n",
    "# 대문자는 소문자로, 소문자는 대문자로 출력\n",
    "\n",
    "for s in name:\n",
    "    if s.islower():\n",
    "        print(s.upper(),end=\"\")\n",
    "    else:\n",
    "        print(s.lower(),end=\"\")\n",
    "print()\n",
    "print(name.swapcase())"
   ]
  },
  {
   "cell_type": "code",
   "execution_count": 92,
   "id": "f5bf83b7",
   "metadata": {},
   "outputs": [
    {
     "name": "stdout",
     "output_type": "stream",
     "text": [
      "날짜를 입력하세요(년/월/일) : 2021/06/29\n"
     ]
    },
    {
     "ename": "TypeError",
     "evalue": "'str' object is not callable",
     "output_type": "error",
     "traceback": [
      "\u001b[1;31m---------------------------------------------------------------------------\u001b[0m",
      "\u001b[1;31mTypeError\u001b[0m                                 Traceback (most recent call last)",
      "\u001b[1;32m<ipython-input-92-d447f1b1ce91>\u001b[0m in \u001b[0;36m<module>\u001b[1;34m\u001b[0m\n\u001b[0;32m      6\u001b[0m \u001b[0myear\u001b[0m \u001b[1;33m=\u001b[0m \u001b[0mint\u001b[0m\u001b[1;33m(\u001b[0m\u001b[0mdate1\u001b[0m\u001b[1;33m[\u001b[0m\u001b[1;33m:\u001b[0m\u001b[0mpos\u001b[0m\u001b[1;33m]\u001b[0m\u001b[1;33m)\u001b[0m \u001b[1;33m+\u001b[0m \u001b[1;36m10\u001b[0m \u001b[1;31m#2021 + 10 = 2031\u001b[0m\u001b[1;33m\u001b[0m\u001b[1;33m\u001b[0m\u001b[0m\n\u001b[0;32m      7\u001b[0m \u001b[1;33m\u001b[0m\u001b[0m\n\u001b[1;32m----> 8\u001b[1;33m \u001b[0mprint\u001b[0m\u001b[1;33m(\u001b[0m\u001b[1;34m\"입력한 날짜의 10년 후는 ? %s\"\u001b[0m \u001b[1;33m%\u001b[0m \u001b[1;33m(\u001b[0m\u001b[0mstr\u001b[0m\u001b[1;33m(\u001b[0m\u001b[0myear\u001b[0m\u001b[1;33m)\u001b[0m\u001b[1;33m+\u001b[0m\u001b[1;34m\"년\"\u001b[0m\u001b[1;33m+\u001b[0m\u001b[0mdate1\u001b[0m\u001b[1;33m[\u001b[0m\u001b[1;36m5\u001b[0m\u001b[1;33m:\u001b[0m\u001b[1;36m7\u001b[0m\u001b[1;33m]\u001b[0m\u001b[1;33m+\u001b[0m\u001b[1;34m\"월\"\u001b[0m\u001b[1;33m+\u001b[0m\u001b[0mdate1\u001b[0m\u001b[1;33m[\u001b[0m\u001b[1;36m8\u001b[0m\u001b[1;33m:\u001b[0m\u001b[1;33m]\u001b[0m\u001b[1;33m+\u001b[0m\u001b[1;34m\"일\"\u001b[0m\u001b[1;33m)\u001b[0m\u001b[1;33m)\u001b[0m\u001b[1;33m\u001b[0m\u001b[1;33m\u001b[0m\u001b[0m\n\u001b[0m",
      "\u001b[1;31mTypeError\u001b[0m: 'str' object is not callable"
     ]
    }
   ],
   "source": [
    "# 년/월/일 형태로 입력받은 후 10년 후의 날짜를 출력하여 보여주기\n",
    "# 2021/06/29 => 2031/06/29\n",
    "\n",
    "date1 = input(\"날짜를 입력하세요(년/월/일) : \")\n",
    "pos = date1.find(\"/\") #4\n",
    "year = int(date1[:pos]) + 10 #2021 + 10 = 2031\n",
    "\n",
    "print(\"입력한 날짜의 10년 후는 ? %s\" % (str(year)+\"년\"+date1[5:7]+\"월\"+date1[8:]+\"일\"))"
   ]
  },
  {
   "cell_type": "code",
   "execution_count": null,
   "id": "dca84c82",
   "metadata": {},
   "outputs": [],
   "source": []
  }
 ],
 "metadata": {
  "kernelspec": {
   "display_name": "Python 3",
   "language": "python",
   "name": "python3"
  },
  "language_info": {
   "codemirror_mode": {
    "name": "ipython",
    "version": 3
   },
   "file_extension": ".py",
   "mimetype": "text/x-python",
   "name": "python",
   "nbconvert_exporter": "python",
   "pygments_lexer": "ipython3",
   "version": "3.8.8"
  }
 },
 "nbformat": 4,
 "nbformat_minor": 5
}
