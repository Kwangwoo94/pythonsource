{
 "cells": [
  {
   "cell_type": "markdown",
   "id": "98b6703c",
   "metadata": {},
   "source": [
    "- set()\n",
    "- 중복을 허용하지 않음\n",
    "- 순서가 없음"
   ]
  },
  {
   "cell_type": "code",
   "execution_count": 1,
   "id": "10124c30",
   "metadata": {},
   "outputs": [],
   "source": [
    "set1 = set()"
   ]
  },
  {
   "cell_type": "code",
   "execution_count": 2,
   "id": "08baa043",
   "metadata": {},
   "outputs": [
    {
     "data": {
      "text/plain": [
       "{1, 2, 3, 4}"
      ]
     },
     "execution_count": 2,
     "metadata": {},
     "output_type": "execute_result"
    }
   ],
   "source": [
    "set2 = set([1,2,3,4])\n",
    "set2"
   ]
  },
  {
   "cell_type": "code",
   "execution_count": 4,
   "id": "72d2e7ca",
   "metadata": {},
   "outputs": [
    {
     "data": {
      "text/plain": [
       "{'H', 'e', 'l', 'o'}"
      ]
     },
     "execution_count": 4,
     "metadata": {},
     "output_type": "execute_result"
    }
   ],
   "source": [
    "set3 = set(\"Hello\")\n",
    "set3"
   ]
  },
  {
   "cell_type": "code",
   "execution_count": null,
   "id": "5dc528ec",
   "metadata": {},
   "outputs": [],
   "source": []
  },
  {
   "cell_type": "code",
   "execution_count": 5,
   "id": "75bccdb3",
   "metadata": {},
   "outputs": [
    {
     "name": "stdout",
     "output_type": "stream",
     "text": [
      "{1, 2, 3, 4, 5}\n"
     ]
    }
   ],
   "source": [
    "tuple1 = (1,2,3,4,5)\n",
    "\n",
    "# set으로 변경\n",
    "\n",
    "print(set(tuple1))"
   ]
  },
  {
   "cell_type": "code",
   "execution_count": 6,
   "id": "b77b4686",
   "metadata": {},
   "outputs": [
    {
     "name": "stdout",
     "output_type": "stream",
     "text": [
      "{'age', 'name', 'no'}\n"
     ]
    }
   ],
   "source": [
    "dict1 = {\"no\":1,\"name\":\"hong\",\"age\":24}\n",
    "\n",
    "# dict의 key 값만 set으로 변경\n",
    "\n",
    "print(set(dict1))"
   ]
  },
  {
   "cell_type": "markdown",
   "id": "45a17ab9",
   "metadata": {},
   "source": [
    "- set index개념은 없음\n",
    "- index가 있다는 건 순서가 있어야 가능"
   ]
  },
  {
   "cell_type": "code",
   "execution_count": 7,
   "id": "7cf453af",
   "metadata": {},
   "outputs": [
    {
     "ename": "TypeError",
     "evalue": "'set' object is not subscriptable",
     "output_type": "error",
     "traceback": [
      "\u001b[1;31m---------------------------------------------------------------------------\u001b[0m",
      "\u001b[1;31mTypeError\u001b[0m                                 Traceback (most recent call last)",
      "\u001b[1;32m<ipython-input-7-386ffbc759d6>\u001b[0m in \u001b[0;36m<module>\u001b[1;34m\u001b[0m\n\u001b[1;32m----> 1\u001b[1;33m \u001b[0mset2\u001b[0m\u001b[1;33m[\u001b[0m\u001b[1;36m0\u001b[0m\u001b[1;33m]\u001b[0m\u001b[1;33m\u001b[0m\u001b[1;33m\u001b[0m\u001b[0m\n\u001b[0m",
      "\u001b[1;31mTypeError\u001b[0m: 'set' object is not subscriptable"
     ]
    }
   ],
   "source": [
    "set2[0]"
   ]
  },
  {
   "cell_type": "code",
   "execution_count": 10,
   "id": "f8f0a1d2",
   "metadata": {},
   "outputs": [
    {
     "name": "stdout",
     "output_type": "stream",
     "text": [
      "1\n",
      "2\n"
     ]
    }
   ],
   "source": [
    "# 인덱스가 가능한 타입으로 변환\n",
    "\n",
    "list1 = list(set2)\n",
    "print(list1[0])\n",
    "\n",
    "t1 = tuple(set2)\n",
    "print(t1[1])"
   ]
  },
  {
   "cell_type": "code",
   "execution_count": 11,
   "id": "245d2c4e",
   "metadata": {},
   "outputs": [
    {
     "data": {
      "text/plain": [
       "{4, 5, 6}"
      ]
     },
     "execution_count": 11,
     "metadata": {},
     "output_type": "execute_result"
    }
   ],
   "source": [
    "s1 = set([1,2,3,4,5,6])\n",
    "s2 = set([4,5,6,7,8,9])\n",
    "\n",
    "s1 & s2 # 교집합"
   ]
  },
  {
   "cell_type": "code",
   "execution_count": 12,
   "id": "12685928",
   "metadata": {},
   "outputs": [
    {
     "data": {
      "text/plain": [
       "{4, 5, 6}"
      ]
     },
     "execution_count": 12,
     "metadata": {},
     "output_type": "execute_result"
    }
   ],
   "source": [
    "s1.intersection(s2) #교집합 함수"
   ]
  },
  {
   "cell_type": "code",
   "execution_count": null,
   "id": "afc31019",
   "metadata": {},
   "outputs": [],
   "source": []
  },
  {
   "cell_type": "code",
   "execution_count": 13,
   "id": "a085c1e8",
   "metadata": {},
   "outputs": [
    {
     "data": {
      "text/plain": [
       "{1, 2, 3, 4, 5, 6, 7, 8, 9}"
      ]
     },
     "execution_count": 13,
     "metadata": {},
     "output_type": "execute_result"
    }
   ],
   "source": [
    "s1 | s2 # 합집합"
   ]
  },
  {
   "cell_type": "code",
   "execution_count": 14,
   "id": "f6783215",
   "metadata": {},
   "outputs": [
    {
     "data": {
      "text/plain": [
       "{1, 2, 3, 4, 5, 6, 7, 8, 9}"
      ]
     },
     "execution_count": 14,
     "metadata": {},
     "output_type": "execute_result"
    }
   ],
   "source": [
    "s1.union(s2) #합집합 함수"
   ]
  },
  {
   "cell_type": "code",
   "execution_count": null,
   "id": "a7452cc4",
   "metadata": {},
   "outputs": [],
   "source": []
  },
  {
   "cell_type": "code",
   "execution_count": 15,
   "id": "5217d88d",
   "metadata": {},
   "outputs": [
    {
     "data": {
      "text/plain": [
       "{1, 2, 3}"
      ]
     },
     "execution_count": 15,
     "metadata": {},
     "output_type": "execute_result"
    }
   ],
   "source": [
    "s1 - s2 #차집합"
   ]
  },
  {
   "cell_type": "code",
   "execution_count": 16,
   "id": "ae50d7c7",
   "metadata": {},
   "outputs": [
    {
     "data": {
      "text/plain": [
       "{1, 2, 3}"
      ]
     },
     "execution_count": 16,
     "metadata": {},
     "output_type": "execute_result"
    }
   ],
   "source": [
    "s1.difference(s2) #차집합 함수"
   ]
  },
  {
   "cell_type": "markdown",
   "id": "2657f2f5",
   "metadata": {},
   "source": [
    "- 값 1개 추가하기"
   ]
  },
  {
   "cell_type": "code",
   "execution_count": 17,
   "id": "576c025c",
   "metadata": {},
   "outputs": [
    {
     "data": {
      "text/plain": [
       "{1, 2, 3, 4, 5, 6}"
      ]
     },
     "execution_count": 17,
     "metadata": {},
     "output_type": "execute_result"
    }
   ],
   "source": [
    "s1.add(4)\n",
    "s1"
   ]
  },
  {
   "cell_type": "markdown",
   "id": "e5be59b2",
   "metadata": {},
   "source": [
    "- 값 여러개 추가"
   ]
  },
  {
   "cell_type": "code",
   "execution_count": 18,
   "id": "9d0e4547",
   "metadata": {},
   "outputs": [
    {
     "data": {
      "text/plain": [
       "{1, 2, 3, 4, 5, 6, 7}"
      ]
     },
     "execution_count": 18,
     "metadata": {},
     "output_type": "execute_result"
    }
   ],
   "source": [
    "s1.update([5,6,7])\n",
    "s1"
   ]
  },
  {
   "cell_type": "markdown",
   "id": "d5c01437",
   "metadata": {},
   "source": [
    "- 특정 값 제거하기"
   ]
  },
  {
   "cell_type": "code",
   "execution_count": 19,
   "id": "e878b8ae",
   "metadata": {},
   "outputs": [
    {
     "data": {
      "text/plain": [
       "{1, 3, 4, 5, 6, 7}"
      ]
     },
     "execution_count": 19,
     "metadata": {},
     "output_type": "execute_result"
    }
   ],
   "source": [
    "s1.remove(2)\n",
    "s1"
   ]
  },
  {
   "cell_type": "code",
   "execution_count": null,
   "id": "24819ac9",
   "metadata": {},
   "outputs": [],
   "source": []
  },
  {
   "cell_type": "markdown",
   "id": "479d762e",
   "metadata": {},
   "source": [
    "### [참고] 자료형의 참과 거짓"
   ]
  },
  {
   "cell_type": "markdown",
   "id": "e6ec9d43",
   "metadata": {},
   "source": [
    "- 문자열 : 값이 있으면 참, 없으면 거짓(ex : \"python\",\"\")\n",
    "\n",
    "- 리스트 : [1,2,3],[]\n",
    "- 튜플 : (1,2,3),()\n",
    "- 딕셔너리 : {\"name\":\"hong\"},{}\n",
    "- 숫자형 : 0이 아닌 숫자(참), 0(거짓), None"
   ]
  },
  {
   "cell_type": "code",
   "execution_count": 20,
   "id": "0b75f3ad",
   "metadata": {},
   "outputs": [],
   "source": [
    "a = [1,2,3,4]\n",
    "\n",
    "while a:\n",
    "    a.pop()"
   ]
  },
  {
   "cell_type": "code",
   "execution_count": null,
   "id": "b93d103b",
   "metadata": {},
   "outputs": [],
   "source": []
  }
 ],
 "metadata": {
  "kernelspec": {
   "display_name": "Python 3",
   "language": "python",
   "name": "python3"
  },
  "language_info": {
   "codemirror_mode": {
    "name": "ipython",
    "version": 3
   },
   "file_extension": ".py",
   "mimetype": "text/x-python",
   "name": "python",
   "nbconvert_exporter": "python",
   "pygments_lexer": "ipython3",
   "version": "3.8.8"
  }
 },
 "nbformat": 4,
 "nbformat_minor": 5
}
