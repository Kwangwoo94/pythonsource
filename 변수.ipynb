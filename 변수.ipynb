{
 "cells": [
  {
   "cell_type": "markdown",
   "id": "5293d142",
   "metadata": {},
   "source": [
    "### 변수 타입을 선언하는 키워드는 없음"
   ]
  },
  {
   "cell_type": "code",
   "execution_count": 5,
   "id": "c12b9f8f",
   "metadata": {},
   "outputs": [
    {
     "name": "stdout",
     "output_type": "stream",
     "text": [
      "Life is too short, You need Python\n",
      "Life is too short, You need Python\n",
      "Life is too short, You need Python\n",
      "Life is too short, You need Python\n"
     ]
    }
   ],
   "source": [
    "#문자열\n",
    "\n",
    "str1 = \"Life is too short, You need Python\"\n",
    "str2 = 'Life is too short, You need Python'\n",
    "str3 = '''Life is too short, You need Python'''\n",
    "str4 = \"\"\"Life is too short, You need Python\"\"\"\n",
    "\n",
    "print(str1)\n",
    "print(str2)\n",
    "print(str3)\n",
    "print(str4)"
   ]
  },
  {
   "cell_type": "code",
   "execution_count": 6,
   "id": "9113f4a5",
   "metadata": {},
   "outputs": [
    {
     "name": "stdout",
     "output_type": "stream",
     "text": [
      "3\n",
      "3.14\n"
     ]
    }
   ],
   "source": [
    "# 정수 / 실수\n",
    "\n",
    "a = 3\n",
    "b = 3.14\n",
    "\n",
    "print(a)\n",
    "print(b)"
   ]
  },
  {
   "cell_type": "code",
   "execution_count": 7,
   "id": "c70cef43",
   "metadata": {},
   "outputs": [
    {
     "name": "stdout",
     "output_type": "stream",
     "text": [
      "10 15\n"
     ]
    }
   ],
   "source": [
    "# 두 개의 변수에 다른 값 대입\n",
    "\n",
    "a, b = 10, 15\n",
    "print(a,b)"
   ]
  },
  {
   "cell_type": "code",
   "execution_count": 8,
   "id": "3489feb6",
   "metadata": {},
   "outputs": [
    {
     "name": "stdout",
     "output_type": "stream",
     "text": [
      "15 10\n"
     ]
    }
   ],
   "source": [
    "# a, b 값을 서로 바꿔넣기\n",
    "\n",
    "a,b = b,a\n",
    "print(a,b)"
   ]
  },
  {
   "cell_type": "code",
   "execution_count": null,
   "id": "4bd28cd1",
   "metadata": {},
   "outputs": [],
   "source": []
  },
  {
   "cell_type": "markdown",
   "id": "832cc587",
   "metadata": {},
   "source": [
    "### 연산자"
   ]
  },
  {
   "cell_type": "code",
   "execution_count": 19,
   "id": "1700a099",
   "metadata": {},
   "outputs": [
    {
     "name": "stdout",
     "output_type": "stream",
     "text": [
      "a + b =  7\n",
      "a - b =  -1\n",
      "a * b =  12\n",
      "a / b =  0.75\n",
      "a // b =  0\n",
      "a % b =  3\n",
      "a ** b =  81\n"
     ]
    }
   ],
   "source": [
    "a = 3\n",
    "b = 4\n",
    "\n",
    "print(\"a + b = \",a+b)\n",
    "print(\"a - b = \",a-b)\n",
    "print(\"a * b = \",a*b)\n",
    "print(\"a / b = \",a/b)\n",
    "print(\"a // b = \",a//b)\n",
    "print(\"a % b = \",a%b)\n",
    "print(\"a ** b = \",a**b)"
   ]
  },
  {
   "cell_type": "code",
   "execution_count": 23,
   "id": "700c8ab9",
   "metadata": {},
   "outputs": [
    {
     "ename": "TypeError",
     "evalue": "can only concatenate str (not \"int\") to str",
     "output_type": "error",
     "traceback": [
      "\u001b[1;31m---------------------------------------------------------------------------\u001b[0m",
      "\u001b[1;31mTypeError\u001b[0m                                 Traceback (most recent call last)",
      "\u001b[1;32m<ipython-input-23-6796432bdac4>\u001b[0m in \u001b[0;36m<module>\u001b[1;34m\u001b[0m\n\u001b[0;32m      1\u001b[0m \u001b[0mstr1\u001b[0m \u001b[1;33m=\u001b[0m \u001b[1;34m\"100\"\u001b[0m\u001b[1;33m\u001b[0m\u001b[1;33m\u001b[0m\u001b[0m\n\u001b[1;32m----> 2\u001b[1;33m \u001b[0mprint\u001b[0m\u001b[1;33m(\u001b[0m\u001b[0mstr1\u001b[0m\u001b[1;33m+\u001b[0m\u001b[1;36m1\u001b[0m\u001b[1;33m)\u001b[0m \u001b[1;31m# 문자 + 숫자\u001b[0m\u001b[1;33m\u001b[0m\u001b[1;33m\u001b[0m\u001b[0m\n\u001b[0m",
      "\u001b[1;31mTypeError\u001b[0m: can only concatenate str (not \"int\") to str"
     ]
    }
   ],
   "source": [
    "str1 = \"100\"\n",
    "print(str1+1) # 문자 + 숫자"
   ]
  },
  {
   "cell_type": "code",
   "execution_count": 24,
   "id": "54ae34e4",
   "metadata": {},
   "outputs": [
    {
     "name": "stdout",
     "output_type": "stream",
     "text": [
      "101\n"
     ]
    }
   ],
   "source": [
    "print(int(str1) + 1)"
   ]
  },
  {
   "cell_type": "code",
   "execution_count": 25,
   "id": "ce5f46f3",
   "metadata": {},
   "outputs": [
    {
     "name": "stdout",
     "output_type": "stream",
     "text": [
      "200.123\n",
      "10000000002\n"
     ]
    }
   ],
   "source": [
    "f1, f2, f3 = \"100\",\"100.123\",\"9999999999\"\n",
    "\n",
    "print(float(f1) + float(f2))\n",
    "print(int(f3)+3)"
   ]
  },
  {
   "cell_type": "code",
   "execution_count": 26,
   "id": "d2e325e5",
   "metadata": {},
   "outputs": [
    {
     "name": "stdout",
     "output_type": "stream",
     "text": [
      "15\n",
      "10\n",
      "50\n",
      "10.0\n",
      "2.0\n",
      "2.0\n",
      "32.0\n"
     ]
    }
   ],
   "source": [
    "a = 10\n",
    "a += 5\n",
    "print(a)\n",
    "\n",
    "a -= 5\n",
    "print(a)\n",
    "\n",
    "a *= 5\n",
    "print(a)\n",
    "\n",
    "a /= 5\n",
    "print(a)\n",
    "\n",
    "a//= 5\n",
    "print(a)\n",
    "\n",
    "a %= 5\n",
    "print(a)\n",
    "\n",
    "a **= 5\n",
    "print(a)"
   ]
  },
  {
   "cell_type": "code",
   "execution_count": 28,
   "id": "67860b00",
   "metadata": {},
   "outputs": [
    {
     "name": "stdout",
     "output_type": "stream",
     "text": [
      "동전 교환\n",
      "500원 : 15개\n",
      "100원 : 2개\n",
      "50원 : 1개\n",
      "10원 : 2개\n",
      "나머지 돈 : 7원\n"
     ]
    }
   ],
   "source": [
    "# 동전 교환하기 : 7,777 원을 500원짜리, 100원짜리, 50원짜리, 10원짜리로 교환\n",
    "\n",
    "money, c500, c100, c50, c10 = 0,0,0,0,0\n",
    "\n",
    "money = 7777\n",
    "\n",
    "c500 = money // 500\n",
    "money %= 500\n",
    "\n",
    "c100 = money // 100\n",
    "money %= 100\n",
    "\n",
    "c50 = money // 50\n",
    "money %= 50\n",
    "\n",
    "c10 = money // 10\n",
    "money %= 10\n",
    "\n",
    "print(\"동전 교환\")\n",
    "print(\"500원 : %d개\" % c500)\n",
    "print(\"100원 : %d개\" % c100)\n",
    "print(\"50원 : %d개\" % c50)\n",
    "print(\"10원 : %d개\" % c10)\n",
    "print(\"나머지 돈 : %d원\" % money)"
   ]
  },
  {
   "cell_type": "code",
   "execution_count": 30,
   "id": "a44ee509",
   "metadata": {},
   "outputs": [
    {
     "name": "stdout",
     "output_type": "stream",
     "text": [
      "지폐 교환\n",
      "50000원 : 15장\n",
      "10000원 : 2장\n",
      "5000원 : 1장\n",
      "1000원 : 2장\n",
      "나머지 돈 : 777원\n"
     ]
    }
   ],
   "source": [
    "# 777,777 : 지폐 교환하기(5만원, 만원, 5천원, 천원)\n",
    "\n",
    "money, b50000, b10000, b5000, b1000 = 0,0,0,0,0\n",
    "\n",
    "money = 777777\n",
    "\n",
    "b50000 = money // 50000\n",
    "money %= 50000\n",
    "\n",
    "b10000 = money // 10000\n",
    "money %= 10000\n",
    "\n",
    "b5000 = money // 5000\n",
    "money %= 5000\n",
    "\n",
    "b1000 = money // 1000\n",
    "money %= 1000\n",
    "\n",
    "print(\"지폐 교환\")\n",
    "print(\"50000원 : %d장\" % b50000)\n",
    "print(\"10000원 : %d장\" % b10000)\n",
    "print(\"5000원 : %d장\" % b5000)\n",
    "print(\"1000원 : %d장\" % b1000)\n",
    "print(\"나머지 돈 : %d원\" % money)"
   ]
  },
  {
   "cell_type": "code",
   "execution_count": null,
   "id": "7d69a1c7",
   "metadata": {},
   "outputs": [],
   "source": []
  },
  {
   "cell_type": "code",
   "execution_count": 31,
   "id": "67c12d13",
   "metadata": {},
   "outputs": [
    {
     "name": "stdout",
     "output_type": "stream",
     "text": [
      "False\n",
      "True\n",
      "True\n",
      "True\n",
      "False\n",
      "False\n"
     ]
    }
   ],
   "source": [
    "# 관계 연산자\n",
    "\n",
    "a,b = 10,0\n",
    "\n",
    "print(a == b)\n",
    "print(a != b)\n",
    "print(a > b)\n",
    "print(a >= b)\n",
    "print(a < b)\n",
    "print(a <= b)"
   ]
  },
  {
   "cell_type": "code",
   "execution_count": 33,
   "id": "8c9cd026",
   "metadata": {},
   "outputs": [
    {
     "ename": "SyntaxError",
     "evalue": "invalid syntax (<ipython-input-33-538b49608d21>, line 6)",
     "output_type": "error",
     "traceback": [
      "\u001b[1;36m  File \u001b[1;32m\"<ipython-input-33-538b49608d21>\"\u001b[1;36m, line \u001b[1;32m6\u001b[0m\n\u001b[1;33m    print('and : ', a > b && b > c)\u001b[0m\n\u001b[1;37m                           ^\u001b[0m\n\u001b[1;31mSyntaxError\u001b[0m\u001b[1;31m:\u001b[0m invalid syntax\n"
     ]
    }
   ],
   "source": [
    "# 논리 연산자\n",
    "\n",
    "a,b,c = 100,60,15\n",
    "\n",
    "print('and : ', a > b and b > c)\n",
    "#print('and : ', a > b && b > c) SyntaxError\n",
    "print('or : ', a > b or b < c)\n",
    "#print('or : ', a > b || b < c) SyntaxError\n",
    "print('not : ', not b < c)"
   ]
  },
  {
   "cell_type": "code",
   "execution_count": 34,
   "id": "916af497",
   "metadata": {},
   "outputs": [
    {
     "name": "stdout",
     "output_type": "stream",
     "text": [
      "& :  2\n",
      "| :  15\n",
      "& :  2\n"
     ]
    }
   ],
   "source": [
    "# 비트 연산자\n",
    "\n",
    "print(\"& : \",10 & 7) # 1010 & 0111\n",
    "print(\"| : \",10 | 7) # 1010 | 0111"
   ]
  },
  {
   "cell_type": "code",
   "execution_count": null,
   "id": "706551cd",
   "metadata": {},
   "outputs": [],
   "source": []
  },
  {
   "cell_type": "code",
   "execution_count": null,
   "id": "e8443941",
   "metadata": {},
   "outputs": [],
   "source": []
  },
  {
   "cell_type": "code",
   "execution_count": 20,
   "id": "7d13dbce",
   "metadata": {},
   "outputs": [
    {
     "name": "stdout",
     "output_type": "stream",
     "text": [
      "<class 'float'>\n"
     ]
    }
   ],
   "source": [
    "f1 = 3.5\n",
    "print(type(f1))"
   ]
  },
  {
   "cell_type": "code",
   "execution_count": 11,
   "id": "68b4489c",
   "metadata": {},
   "outputs": [
    {
     "name": "stdout",
     "output_type": "stream",
     "text": [
      "<class 'bool'>\n"
     ]
    }
   ],
   "source": [
    "b = True\n",
    "print(type(b))"
   ]
  },
  {
   "cell_type": "code",
   "execution_count": null,
   "id": "764a9728",
   "metadata": {},
   "outputs": [],
   "source": []
  },
  {
   "cell_type": "code",
   "execution_count": 13,
   "id": "34a628c0",
   "metadata": {},
   "outputs": [
    {
     "name": "stdout",
     "output_type": "stream",
     "text": [
      "1\n",
      "0\n",
      "98\n",
      "99\n"
     ]
    }
   ],
   "source": [
    "# 형변환 - int(),\n",
    "\n",
    "print(int(True)) # int(int 타입으로 변환할 값)\n",
    "print(int(False))\n",
    "print(int(98.6))\n",
    "print(int('99'))\n",
    "# print(int('99.7')) => 소수점 혹은 지수를 포함하는 문자열은 변경하지 못함"
   ]
  },
  {
   "cell_type": "code",
   "execution_count": 15,
   "id": "ea0bb2cc",
   "metadata": {},
   "outputs": [
    {
     "name": "stdout",
     "output_type": "stream",
     "text": [
      "3 <class 'str'>\n",
      "3.5 <class 'str'>\n",
      "10000.0 <class 'str'>\n"
     ]
    }
   ],
   "source": [
    "# 형변환 - str()\n",
    "\n",
    "print(str(3),type(str(3)))\n",
    "print(str(3.5),type(str(3.5)))\n",
    "print(str(1.0e4),type(str(1.0e4)))"
   ]
  },
  {
   "cell_type": "code",
   "execution_count": 16,
   "id": "002a1f25",
   "metadata": {},
   "outputs": [
    {
     "name": "stdout",
     "output_type": "stream",
     "text": [
      "1.0\n",
      "0.0\n",
      "98.0\n",
      "98.99\n",
      "10000.0\n"
     ]
    }
   ],
   "source": [
    "# 형변환 - float()\n",
    "\n",
    "print(float(True))\n",
    "print(float(False))\n",
    "print(float(98))\n",
    "print(float('98.99'))\n",
    "print(float('1.0e4'))"
   ]
  },
  {
   "cell_type": "code",
   "execution_count": 18,
   "id": "155882c8",
   "metadata": {},
   "outputs": [
    {
     "name": "stdout",
     "output_type": "stream",
     "text": [
      "True\n",
      "False\n",
      "\n",
      "True\n",
      "False\n",
      "\n",
      "True\n"
     ]
    }
   ],
   "source": [
    "# 형변환 - bool()\n",
    "\n",
    "print(bool(1))\n",
    "print(bool(0))\n",
    "print()\n",
    "print(bool(1.0))\n",
    "print(bool(0.0))\n",
    "print()\n",
    "print(bool('99'))"
   ]
  },
  {
   "cell_type": "code",
   "execution_count": null,
   "id": "0e310180",
   "metadata": {},
   "outputs": [],
   "source": []
  }
 ],
 "metadata": {
  "kernelspec": {
   "display_name": "Python 3",
   "language": "python",
   "name": "python3"
  },
  "language_info": {
   "codemirror_mode": {
    "name": "ipython",
    "version": 3
   },
   "file_extension": ".py",
   "mimetype": "text/x-python",
   "name": "python",
   "nbconvert_exporter": "python",
   "pygments_lexer": "ipython3",
   "version": "3.8.8"
  }
 },
 "nbformat": 4,
 "nbformat_minor": 5
}
