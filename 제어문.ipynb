{
 "cells": [
  {
   "cell_type": "markdown",
   "id": "bad1a3ea",
   "metadata": {},
   "source": [
    "### 조건문 : if"
   ]
  },
  {
   "cell_type": "code",
   "execution_count": 1,
   "id": "05affc93",
   "metadata": {},
   "outputs": [
    {
     "name": "stdout",
     "output_type": "stream",
     "text": [
      "Yes\n"
     ]
    }
   ],
   "source": [
    "if True:\n",
    "    print('Yes')"
   ]
  },
  {
   "cell_type": "code",
   "execution_count": 2,
   "id": "f38b5c12",
   "metadata": {},
   "outputs": [
    {
     "name": "stdout",
     "output_type": "stream",
     "text": [
      "조건문에서 들여쓰기의 중요함\n"
     ]
    }
   ],
   "source": [
    "a = 200\n",
    "\n",
    "if a < 100:\n",
    "    print(\"a는 100보다 작다\")\n",
    "    \n",
    "    \n",
    "print(\"조건문에서 들여쓰기의 중요함\")"
   ]
  },
  {
   "cell_type": "code",
   "execution_count": 3,
   "id": "d278e29a",
   "metadata": {},
   "outputs": [
    {
     "name": "stdout",
     "output_type": "stream",
     "text": [
      "a는 100과 200 사이에 있다\n"
     ]
    }
   ],
   "source": [
    "# a는 100과 200 사이에 있다\n",
    "\n",
    "if a >= 100 and a <=200:\n",
    "    print(\"a는 100과 200 사이에 있다\")\n"
   ]
  },
  {
   "cell_type": "code",
   "execution_count": 4,
   "id": "595b7a4e",
   "metadata": {},
   "outputs": [
    {
     "name": "stdout",
     "output_type": "stream",
     "text": [
      "a는 100과 200 사이에 있다\n"
     ]
    }
   ],
   "source": [
    "if  100 <= a <=200:\n",
    "    print(\"a는 100과 200 사이에 있다\")"
   ]
  },
  {
   "cell_type": "code",
   "execution_count": 5,
   "id": "40e4588e",
   "metadata": {},
   "outputs": [
    {
     "name": "stdout",
     "output_type": "stream",
     "text": [
      "가장 큰 수 : 18, 가장 작은 수 : 6\n"
     ]
    }
   ],
   "source": [
    "# 12,6,18 이라는 세 개의 숫자를 변수에 담기\n",
    "# 세 숫자 중 가장 큰 수와 가장 작은 수 출력\n",
    "\n",
    "\n",
    "a, b, c = 12,6,18\n",
    "\n",
    "max = a\n",
    "if max < b:\n",
    "    max = b\n",
    "if max < c:\n",
    "    max = c\n",
    "    \n",
    "    \n",
    "min = a\n",
    "if b < min:\n",
    "    min = b\n",
    "if c < min:\n",
    "    min = c\n",
    "    \n",
    "print(\"가장 큰 수 : {0}, 가장 작은 수 : {1}\".format(max, min))"
   ]
  },
  {
   "cell_type": "markdown",
   "id": "49a0777f",
   "metadata": {},
   "source": [
    "### 조건문 : if ~ else"
   ]
  },
  {
   "cell_type": "code",
   "execution_count": 6,
   "id": "4bfe3783",
   "metadata": {},
   "outputs": [
    {
     "name": "stdout",
     "output_type": "stream",
     "text": [
      "True\n"
     ]
    }
   ],
   "source": [
    "if True:\n",
    "    print('True')\n",
    "else:\n",
    "    print('False')"
   ]
  },
  {
   "cell_type": "code",
   "execution_count": null,
   "id": "974dba2f",
   "metadata": {},
   "outputs": [],
   "source": [
    "a = 55\n",
    "\n",
    "if a < 100:\n",
    "    print(\"a는 100보다 작다\")\n",
    "else:\n",
    "    print(\"a는 100보다 크다\")"
   ]
  },
  {
   "cell_type": "code",
   "execution_count": 7,
   "id": "768252b7",
   "metadata": {},
   "outputs": [
    {
     "name": "stdout",
     "output_type": "stream",
     "text": [
      "합격\n"
     ]
    }
   ],
   "source": [
    "# score =90, grade = \"A\"  score가 90이상이고, grade가 A이면 합격 / 불합격\n",
    "\n",
    "score,grade = 90, \"A\"\n",
    "\n",
    "if score >=90 and grade == \"A\":\n",
    "    print(\"합격\")\n",
    "else:\n",
    "    print(\"불합격\")    "
   ]
  },
  {
   "cell_type": "code",
   "execution_count": 9,
   "id": "3f1d070b",
   "metadata": {},
   "outputs": [
    {
     "name": "stdout",
     "output_type": "stream",
     "text": [
      "숫자입력 : 25\n",
      "홀수\n"
     ]
    }
   ],
   "source": [
    "# 숫자를 입력받은 후 그 숫자가 짝/홀수 인지 출력\n",
    "\n",
    "num1 = int(input(\"숫자입력 : \"))\n",
    "\n",
    "if num1 % 2 == 0:\n",
    "    print(\"짝수\")\n",
    "else:\n",
    "    print(\"홀수\")"
   ]
  },
  {
   "cell_type": "code",
   "execution_count": null,
   "id": "a8cfaa86",
   "metadata": {},
   "outputs": [],
   "source": []
  },
  {
   "cell_type": "code",
   "execution_count": 10,
   "id": "07bd3dc8",
   "metadata": {},
   "outputs": [
    {
     "name": "stdout",
     "output_type": "stream",
     "text": [
      "2021-06-28 12:51:07.770497\n"
     ]
    }
   ],
   "source": [
    "import datetime\n",
    "\n",
    "now = datetime.datetime.now()\n",
    "\n",
    "print(now)"
   ]
  },
  {
   "cell_type": "code",
   "execution_count": 11,
   "id": "ac5a1376",
   "metadata": {},
   "outputs": [
    {
     "name": "stdout",
     "output_type": "stream",
     "text": [
      "2021년 6월 28일\n",
      "12시 51분 7초\n"
     ]
    }
   ],
   "source": [
    "print(\"{}년 {}월 {}일\".format(now.year,now.month,now.day))\n",
    "print(\"{}시 {}분 {}초\".format(now.hour,now.minute,now.second))"
   ]
  },
  {
   "cell_type": "code",
   "execution_count": null,
   "id": "dd9ad6c4",
   "metadata": {},
   "outputs": [],
   "source": [
    "if now.hour < 12:\n",
    "    print(\"오전\")\n",
    "else:\n",
    "    print(\"오후\")"
   ]
  },
  {
   "cell_type": "markdown",
   "id": "5f735ef9",
   "metadata": {},
   "source": [
    "### 조건문 : 삼항연산자"
   ]
  },
  {
   "cell_type": "code",
   "execution_count": 12,
   "id": "74ea5d21",
   "metadata": {},
   "outputs": [
    {
     "name": "stdout",
     "output_type": "stream",
     "text": [
      "True는 참\n"
     ]
    }
   ],
   "source": [
    "print(\"True는 참\" if True else \"True는 거짓\")"
   ]
  },
  {
   "cell_type": "code",
   "execution_count": 13,
   "id": "289a7e2b",
   "metadata": {},
   "outputs": [
    {
     "name": "stdout",
     "output_type": "stream",
     "text": [
      "숫자입력 : 25\n",
      "홀수\n"
     ]
    }
   ],
   "source": [
    "num1 = int(input(\"숫자입력 : \"))\n",
    "\n",
    "print(\"짝수\" if num1 % 2 == 0 else \"홀수\")"
   ]
  },
  {
   "cell_type": "markdown",
   "id": "734c93f8",
   "metadata": {},
   "source": [
    "### 조건문 : 중첩 if"
   ]
  },
  {
   "cell_type": "code",
   "execution_count": 14,
   "id": "a7ff48be",
   "metadata": {},
   "outputs": [
    {
     "name": "stdout",
     "output_type": "stream",
     "text": [
      "50보다 크고 100보다 작다\n"
     ]
    }
   ],
   "source": [
    "a = 75\n",
    "\n",
    "if a > 50:\n",
    "    if a < 100:\n",
    "        print(\"50보다 크고 100보다 작다\")\n",
    "    else:\n",
    "        print(\"100보다 크다\")\n",
    "else:\n",
    "    print(\"50보다 작다\")"
   ]
  },
  {
   "cell_type": "code",
   "execution_count": 15,
   "id": "6e0abf23",
   "metadata": {},
   "outputs": [
    {
     "name": "stdout",
     "output_type": "stream",
     "text": [
      "점수 입력 :95\n",
      "A\n"
     ]
    }
   ],
   "source": [
    "score = int(input(\"점수 입력 :\"))\n",
    "\n",
    "if score >= 90:\n",
    "    print(\"A\")\n",
    "else:\n",
    "    if score >= 80:\n",
    "        print(\"B\")\n",
    "    else:\n",
    "        if score >= 70:\n",
    "            print(\"C\")\n",
    "        else:\n",
    "            if score >= 60:\n",
    "                print(\"D\")\n",
    "            else:\n",
    "                print(\"F\")"
   ]
  },
  {
   "cell_type": "markdown",
   "id": "541a045e",
   "metadata": {},
   "source": [
    "### 조건문 : 다중조건 if ~ elif ~ else"
   ]
  },
  {
   "cell_type": "code",
   "execution_count": 16,
   "id": "9c5ec771",
   "metadata": {},
   "outputs": [
    {
     "name": "stdout",
     "output_type": "stream",
     "text": [
      "등급 A\n"
     ]
    }
   ],
   "source": [
    "num = 90\n",
    "\n",
    "if num >= 90:\n",
    "    print(\"등급 A\")\n",
    "elif num >= 80:\n",
    "    print(\"등급 B\")\n",
    "elif num >= 70:\n",
    "    print(\"등급 C\")\n",
    "elif num >=60:\n",
    "    print(\"등급 D\")\n",
    "else:\n",
    "    print(\"등급 F\")"
   ]
  },
  {
   "cell_type": "code",
   "execution_count": null,
   "id": "36de0293",
   "metadata": {},
   "outputs": [],
   "source": []
  },
  {
   "cell_type": "code",
   "execution_count": null,
   "id": "17077a98",
   "metadata": {},
   "outputs": [],
   "source": [
    "# 계산기 \n",
    "# 두 개의 숫자 입력, 연산자 입력\n",
    "# 사칙연산(+,-,*,/),   //, %, **\n",
    "\n",
    "\n",
    "a = int(input('첫번째 수 입력'))\n",
    "op = input(\"연산자 입력(+,-,*,/,//,%,**)\")\n",
    "b = int(input('두번째 수 입력'))\n",
    "\n",
    "\n",
    "if op == \"+\":\n",
    "    print(a, op, b, \"=\", a+b)  # 3 + 4 = 7\n",
    "elif op == \"-\"\n",
    "    print(a, op, b, \"=\", a-b)\n",
    "elif op == \"*\"\n",
    "    print(a, op, b, \"=\", a*b)\n",
    "elif op == \"/\"\n",
    "    print(a, op, b, \"=\", a/b)\n",
    "elif op == \"//\"\n",
    "    print(a, op, b, \"=\", a//b)\n",
    "elif op == \"%\"\n",
    "    print(a, op, b, \"=\", a%b)\n",
    "elif op == \"**\"\n",
    "    print(a, op, b, \"=\", a**b)\n",
    "else:\n",
    "    print(\"연산자 확인해 주세요\")"
   ]
  },
  {
   "cell_type": "code",
   "execution_count": null,
   "id": "38f19458",
   "metadata": {},
   "outputs": [],
   "source": []
  },
  {
   "cell_type": "markdown",
   "id": "6c544d40",
   "metadata": {},
   "source": [
    "### 반복문 - while"
   ]
  },
  {
   "cell_type": "code",
   "execution_count": 1,
   "id": "ef1d441f",
   "metadata": {},
   "outputs": [
    {
     "name": "stdout",
     "output_type": "stream",
     "text": [
      "1\n",
      "2\n",
      "3\n",
      "4\n",
      "5\n",
      "6\n",
      "7\n",
      "8\n",
      "9\n",
      "10\n"
     ]
    }
   ],
   "source": [
    "i = 1\n",
    "while i < 11:\n",
    "    print(i)\n",
    "    i = i + 1"
   ]
  },
  {
   "cell_type": "code",
   "execution_count": 5,
   "id": "efdab22d",
   "metadata": {},
   "outputs": [
    {
     "name": "stdout",
     "output_type": "stream",
     "text": [
      "1 2 3 4 5 6 7 8 9 10 "
     ]
    }
   ],
   "source": [
    "i = 1\n",
    "while i < 11:\n",
    "    print(i, end=\" \")\n",
    "    i = i + 1"
   ]
  },
  {
   "cell_type": "code",
   "execution_count": 6,
   "id": "78ae4a75",
   "metadata": {},
   "outputs": [
    {
     "name": "stdout",
     "output_type": "stream",
     "text": [
      "2 4 6 8 10 12 14 16 18 20 22 24 26 28 30 32 34 36 38 40 42 44 46 48 50 52 54 56 58 60 62 64 66 68 70 72 74 76 78 80 82 84 86 88 90 92 94 96 98 100 102 "
     ]
    }
   ],
   "source": [
    "# 1~100 짝수만 출력\n",
    "\n",
    "i = 0\n",
    "while i <= 100:\n",
    "    i += 2\n",
    "    print(i, end=\" \")"
   ]
  },
  {
   "cell_type": "code",
   "execution_count": 7,
   "id": "dbf911cd",
   "metadata": {},
   "outputs": [
    {
     "name": "stdout",
     "output_type": "stream",
     "text": [
      "1 3 5 7 9 11 13 15 17 19 21 23 25 27 29 31 33 35 37 39 41 43 45 47 49 51 53 55 57 59 61 63 65 67 69 71 73 75 77 79 81 83 85 87 89 91 93 95 97 99 "
     ]
    }
   ],
   "source": [
    "# 1~100 홀수만 출력\n",
    "\n",
    "i = 1\n",
    "while i<=100:\n",
    "    print(i, end=\" \")\n",
    "    i+=2"
   ]
  },
  {
   "cell_type": "code",
   "execution_count": 9,
   "id": "fedb5093",
   "metadata": {},
   "outputs": [
    {
     "name": "stdout",
     "output_type": "stream",
     "text": [
      "1~100까지 합 5050\n"
     ]
    }
   ],
   "source": [
    "# 1~100 까지 합계를 구한 후 출력\n",
    "\n",
    "sum,i = 0,0\n",
    "\n",
    "while i < 101:    \n",
    "    sum = sum + i # sum+=i \n",
    "    i = i+1  # i+=1\n",
    "    \n",
    "    \n",
    "print(\"1~100까지 합 %d\" % sum)"
   ]
  },
  {
   "cell_type": "code",
   "execution_count": 11,
   "id": "2ecfe201",
   "metadata": {},
   "outputs": [
    {
     "name": "stdout",
     "output_type": "stream",
     "text": [
      "구구단 입력 : 4\n",
      "4 * 1 = 4\n",
      "4 * 2 = 8\n",
      "4 * 3 = 12\n",
      "4 * 4 = 16\n",
      "4 * 5 = 20\n",
      "4 * 6 = 24\n",
      "4 * 7 = 28\n",
      "4 * 8 = 32\n",
      "4 * 9 = 36\n"
     ]
    }
   ],
   "source": [
    "# 구구단 출럭 : 사용자에게 구구단 받아서 출력\n",
    "\n",
    "num = int(input(\"구구단 입력 : \"))\n",
    "\n",
    "i = 1\n",
    "while i <= 9:\n",
    "    print(\"%d * %d = %d\" % (num, i, (num*i)))\n",
    "    i += 1"
   ]
  },
  {
   "cell_type": "code",
   "execution_count": 12,
   "id": "d6d62794",
   "metadata": {},
   "outputs": [
    {
     "name": "stdout",
     "output_type": "stream",
     "text": [
      "입력 중단을 원하면 q를 입력하세요\n",
      "데이터 입력 : kddkeidkkd\n",
      "kddkeidkkd\n",
      "데이터 입력 : dkdkdkdk\n",
      "dkdkdkdk\n",
      "데이터 입력 : dkdkdkeifdfkdfkd\n",
      "dkdkdkeifdfkdfkd\n",
      "데이터 입력 : q\n",
      "q\n"
     ]
    }
   ],
   "source": [
    "# 사용자로부터 계속 입력을 받다가 사용자가 q 문자를 입력하면 종료\n",
    "\n",
    "\n",
    "print('입력 중단을 원하면 q를 입력하세요')\n",
    "data = \"\"\n",
    "\n",
    "while data != \"q\":\n",
    "    data = input(\"데이터 입력 : \")\n",
    "    print(data)"
   ]
  },
  {
   "cell_type": "code",
   "execution_count": null,
   "id": "ec8be104",
   "metadata": {},
   "outputs": [],
   "source": []
  },
  {
   "cell_type": "markdown",
   "id": "dd5fd9b6",
   "metadata": {},
   "source": [
    "### 반복문 - for"
   ]
  },
  {
   "cell_type": "code",
   "execution_count": 13,
   "id": "56aa8124",
   "metadata": {},
   "outputs": [
    {
     "name": "stdout",
     "output_type": "stream",
     "text": [
      "range(0, 5)\n"
     ]
    }
   ],
   "source": [
    "# range() : 범위지정\n",
    "\n",
    "print(range(5))"
   ]
  },
  {
   "cell_type": "code",
   "execution_count": 14,
   "id": "0e284a4b",
   "metadata": {},
   "outputs": [
    {
     "name": "stdout",
     "output_type": "stream",
     "text": [
      "[0, 1, 2, 3, 4]\n"
     ]
    }
   ],
   "source": [
    "print(list(range(5)))"
   ]
  },
  {
   "cell_type": "code",
   "execution_count": 15,
   "id": "ee24c6bc",
   "metadata": {},
   "outputs": [
    {
     "name": "stdout",
     "output_type": "stream",
     "text": [
      "[1, 2, 3, 4]\n"
     ]
    }
   ],
   "source": [
    "print(list(range(1,5)))"
   ]
  },
  {
   "cell_type": "code",
   "execution_count": 16,
   "id": "0519ed62",
   "metadata": {},
   "outputs": [
    {
     "name": "stdout",
     "output_type": "stream",
     "text": [
      "[1, 3, 5, 7, 9]\n"
     ]
    }
   ],
   "source": [
    "print(list(range(1,11,2)))"
   ]
  },
  {
   "cell_type": "code",
   "execution_count": 17,
   "id": "cf0c6e01",
   "metadata": {},
   "outputs": [
    {
     "name": "stdout",
     "output_type": "stream",
     "text": [
      "0 1 2 3 4 5 6 7 8 9 "
     ]
    }
   ],
   "source": [
    "for i in range(10):\n",
    "    print(i, end=\" \")"
   ]
  },
  {
   "cell_type": "code",
   "execution_count": 18,
   "id": "75bc35ac",
   "metadata": {},
   "outputs": [
    {
     "name": "stdout",
     "output_type": "stream",
     "text": [
      "1 2 3 4 5 6 7 8 9 10 "
     ]
    }
   ],
   "source": [
    "for i in range(1,11):\n",
    "    print(i, end=\" \")"
   ]
  },
  {
   "cell_type": "code",
   "execution_count": 19,
   "id": "19ba7946",
   "metadata": {},
   "outputs": [
    {
     "name": "stdout",
     "output_type": "stream",
     "text": [
      "1 2 3 4 5 6 7 8 9 10 11 12 13 14 15 16 17 18 19 20 21 22 23 24 25 26 27 28 29 30 31 32 33 34 35 36 37 38 39 40 41 42 43 44 45 46 47 48 49 50 51 52 53 54 55 56 57 58 59 60 61 62 63 64 65 66 67 68 69 70 71 72 73 74 75 76 77 78 79 80 81 82 83 84 85 86 87 88 89 90 91 92 93 94 95 96 97 98 99 100 "
     ]
    }
   ],
   "source": [
    "for i in range(1,101):\n",
    "    print(i, end=\" \")"
   ]
  },
  {
   "cell_type": "code",
   "execution_count": 20,
   "id": "c31e3dab",
   "metadata": {},
   "outputs": [
    {
     "name": "stdout",
     "output_type": "stream",
     "text": [
      "2 4 6 8 10 "
     ]
    }
   ],
   "source": [
    "for i in range(2,11,2):\n",
    "    print(i, end=\" \")"
   ]
  },
  {
   "cell_type": "code",
   "execution_count": 22,
   "id": "783f8c65",
   "metadata": {},
   "outputs": [
    {
     "name": "stdout",
     "output_type": "stream",
     "text": [
      "1~100 까지 합 :  5050\n"
     ]
    }
   ],
   "source": [
    "# 1~100까지 합계를 구한 후 출력\n",
    "\n",
    "sum = 0\n",
    "for i in range(101):\n",
    "    sum += i\n",
    "    \n",
    "print(\"1~100 까지 합 : \",sum)"
   ]
  },
  {
   "cell_type": "code",
   "execution_count": 23,
   "id": "2589083a",
   "metadata": {},
   "outputs": [
    {
     "name": "stdout",
     "output_type": "stream",
     "text": [
      "숫자 입력 10\n",
      "입력한 값까지 합계 : 55\n"
     ]
    }
   ],
   "source": [
    "# 1~사용자가 입력한 값까지 합계를 구한 후 출력\n",
    "\n",
    "num = int(input(\"숫자 입력 \")) + 1\n",
    "sum = 0\n",
    "for i in range(1, num):\n",
    "    sum += i\n",
    "print(\"입력한 값까지 합계 :\",sum)"
   ]
  },
  {
   "cell_type": "code",
   "execution_count": 3,
   "id": "dfb33ff5",
   "metadata": {},
   "outputs": [
    {
     "name": "stdout",
     "output_type": "stream",
     "text": [
      "45\n",
      "2500\n"
     ]
    }
   ],
   "source": [
    "# sum() : 합계\n",
    "\n",
    "print(sum(range(1,10)))\n",
    "print(sum(range(1,101,2)))"
   ]
  },
  {
   "cell_type": "code",
   "execution_count": 4,
   "id": "252785ee",
   "metadata": {},
   "outputs": [
    {
     "name": "stdout",
     "output_type": "stream",
     "text": [
      "5 4 3 2 1 0 "
     ]
    }
   ],
   "source": [
    "# 역순으로 출력\n",
    "\n",
    "for i in range(5, -1, -1):\n",
    "    print(i, end=\" \")"
   ]
  },
  {
   "cell_type": "code",
   "execution_count": 5,
   "id": "a922fbd5",
   "metadata": {},
   "outputs": [
    {
     "name": "stdout",
     "output_type": "stream",
     "text": [
      "Word :  d\n",
      "Word :  r\n",
      "Word :  e\n",
      "Word :  a\n",
      "Word :  m\n",
      "Word :  s\n"
     ]
    }
   ],
   "source": [
    "word = \"dreams\"\n",
    "\n",
    "for s in word:\n",
    "    print(\"Word : \",s)"
   ]
  },
  {
   "cell_type": "code",
   "execution_count": 6,
   "id": "480a2c5a",
   "metadata": {},
   "outputs": [
    {
     "name": "stdout",
     "output_type": "stream",
     "text": [
      "0 1 2 \n",
      "0 1 2 \n",
      "0 1 2 \n"
     ]
    }
   ],
   "source": [
    "for i in range(3):\n",
    "    for j in range(3):\n",
    "        print(j, end=\" \")\n",
    "    print()"
   ]
  },
  {
   "cell_type": "code",
   "execution_count": 7,
   "id": "04b6c71f",
   "metadata": {},
   "outputs": [
    {
     "name": "stdout",
     "output_type": "stream",
     "text": [
      "* * * \n",
      "* * * \n",
      "* * * \n"
     ]
    }
   ],
   "source": [
    "for i in range(3):\n",
    "    for j in range(3):\n",
    "        print(\"*\", end=\" \")\n",
    "    print()"
   ]
  },
  {
   "cell_type": "code",
   "execution_count": 8,
   "id": "4ff43453",
   "metadata": {},
   "outputs": [
    {
     "name": "stdout",
     "output_type": "stream",
     "text": [
      "0 1 2 3 4 \n",
      "1 2 3 4 5 \n",
      "2 3 4 5 6 \n",
      "3 4 5 6 7 \n",
      "4 5 6 7 8 \n"
     ]
    }
   ],
   "source": [
    "for i in range(5):\n",
    "    for j in range(5):\n",
    "        print(i+j, end=\" \")\n",
    "    print()"
   ]
  },
  {
   "cell_type": "code",
   "execution_count": 9,
   "id": "0e14369c",
   "metadata": {},
   "outputs": [
    {
     "name": "stdout",
     "output_type": "stream",
     "text": [
      "2 * 1 =  2\t2 * 2 =  4\t2 * 3 =  6\t2 * 4 =  8\t2 * 5 = 10\t2 * 6 = 12\t2 * 7 = 14\t2 * 8 = 16\t2 * 9 = 18\t\n",
      "3 * 1 =  3\t3 * 2 =  6\t3 * 3 =  9\t3 * 4 = 12\t3 * 5 = 15\t3 * 6 = 18\t3 * 7 = 21\t3 * 8 = 24\t3 * 9 = 27\t\n",
      "4 * 1 =  4\t4 * 2 =  8\t4 * 3 = 12\t4 * 4 = 16\t4 * 5 = 20\t4 * 6 = 24\t4 * 7 = 28\t4 * 8 = 32\t4 * 9 = 36\t\n",
      "5 * 1 =  5\t5 * 2 = 10\t5 * 3 = 15\t5 * 4 = 20\t5 * 5 = 25\t5 * 6 = 30\t5 * 7 = 35\t5 * 8 = 40\t5 * 9 = 45\t\n",
      "6 * 1 =  6\t6 * 2 = 12\t6 * 3 = 18\t6 * 4 = 24\t6 * 5 = 30\t6 * 6 = 36\t6 * 7 = 42\t6 * 8 = 48\t6 * 9 = 54\t\n",
      "7 * 1 =  7\t7 * 2 = 14\t7 * 3 = 21\t7 * 4 = 28\t7 * 5 = 35\t7 * 6 = 42\t7 * 7 = 49\t7 * 8 = 56\t7 * 9 = 63\t\n",
      "8 * 1 =  8\t8 * 2 = 16\t8 * 3 = 24\t8 * 4 = 32\t8 * 5 = 40\t8 * 6 = 48\t8 * 7 = 56\t8 * 8 = 64\t8 * 9 = 72\t\n",
      "9 * 1 =  9\t9 * 2 = 18\t9 * 3 = 27\t9 * 4 = 36\t9 * 5 = 45\t9 * 6 = 54\t9 * 7 = 63\t9 * 8 = 72\t9 * 9 = 81\t\n"
     ]
    }
   ],
   "source": [
    "# 구구단 전체 출력\n",
    "\n",
    "for i in range(2,10):\n",
    "    for j in range(1,10):\n",
    "        print(\"%d * %d = %2d\" % (i,j, (i*j)), end = \"\\t\")\n",
    "    print()"
   ]
  },
  {
   "cell_type": "code",
   "execution_count": 10,
   "id": "d52cdc42",
   "metadata": {},
   "outputs": [
    {
     "name": "stdout",
     "output_type": "stream",
     "text": [
      "1 2 3 4 "
     ]
    }
   ],
   "source": [
    "# 1 ~10 출력시 i가 5가 되면 루프 종료\n",
    "\n",
    "i = 1\n",
    "while i<=10:\n",
    "    if i == 5:\n",
    "        break\n",
    "    print(i, end=\" \")\n",
    "    i += 1"
   ]
  },
  {
   "cell_type": "code",
   "execution_count": 18,
   "id": "0363571f",
   "metadata": {},
   "outputs": [
    {
     "name": "stdout",
     "output_type": "stream",
     "text": [
      "1 2 3 4 6 7 8 9 10 "
     ]
    }
   ],
   "source": [
    "# 1 ~10 출력시 5는 출력안하기\n",
    "\n",
    "i = 1\n",
    "while i<=10:\n",
    "    if i == 5:  \n",
    "        i += 1\n",
    "        continue\n",
    "    print(i, end=\" \")\n",
    "    i += 1"
   ]
  },
  {
   "cell_type": "code",
   "execution_count": 19,
   "id": "152e9252",
   "metadata": {},
   "outputs": [
    {
     "name": "stdout",
     "output_type": "stream",
     "text": [
      "1 2 3 4 6 7 8 9 10 "
     ]
    }
   ],
   "source": [
    "for i in range(1,11):\n",
    "    if i == 5:\n",
    "        continue\n",
    "    print(i, end=\" \")    "
   ]
  },
  {
   "cell_type": "code",
   "execution_count": 20,
   "id": "0deeca76",
   "metadata": {},
   "outputs": [
    {
     "name": "stdout",
     "output_type": "stream",
     "text": [
      "*\n",
      "**\n",
      "***\n",
      "****\n",
      "*****\n"
     ]
    }
   ],
   "source": [
    "for i in range(5):\n",
    "    for j in range(5):\n",
    "        if j<=i:\n",
    "            print(\"*\", end=\"\")\n",
    "    print()"
   ]
  },
  {
   "cell_type": "code",
   "execution_count": 21,
   "id": "7492de62",
   "metadata": {},
   "outputs": [
    {
     "name": "stdout",
     "output_type": "stream",
     "text": [
      "*\n",
      "**\n",
      "***\n",
      "****\n",
      "*****\n"
     ]
    }
   ],
   "source": [
    "i= 0\n",
    "while True:\n",
    "    i+=1\n",
    "    if i>5:\n",
    "        break\n",
    "    print(\"*\"*i)"
   ]
  },
  {
   "cell_type": "code",
   "execution_count": null,
   "id": "b7b3eae6",
   "metadata": {},
   "outputs": [],
   "source": []
  },
  {
   "cell_type": "code",
   "execution_count": null,
   "id": "e7f73c1c",
   "metadata": {},
   "outputs": [],
   "source": []
  },
  {
   "cell_type": "code",
   "execution_count": null,
   "id": "a558640f",
   "metadata": {},
   "outputs": [],
   "source": []
  },
  {
   "cell_type": "code",
   "execution_count": null,
   "id": "1143fdda",
   "metadata": {},
   "outputs": [],
   "source": []
  },
  {
   "cell_type": "code",
   "execution_count": null,
   "id": "d2905f82",
   "metadata": {},
   "outputs": [],
   "source": []
  },
  {
   "cell_type": "code",
   "execution_count": null,
   "id": "867ab17d",
   "metadata": {},
   "outputs": [],
   "source": []
  },
  {
   "cell_type": "code",
   "execution_count": null,
   "id": "5611a536",
   "metadata": {},
   "outputs": [],
   "source": []
  }
 ],
 "metadata": {
  "kernelspec": {
   "display_name": "Python 3",
   "language": "python",
   "name": "python3"
  },
  "language_info": {
   "codemirror_mode": {
    "name": "ipython",
    "version": 3
   },
   "file_extension": ".py",
   "mimetype": "text/x-python",
   "name": "python",
   "nbconvert_exporter": "python",
   "pygments_lexer": "ipython3",
   "version": "3.8.8"
  }
 },
 "nbformat": 4,
 "nbformat_minor": 5
}
