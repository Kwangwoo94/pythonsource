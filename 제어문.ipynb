{
 "cells": [
  {
   "cell_type": "markdown",
   "id": "dd379c1e",
   "metadata": {},
   "source": [
    "### 조건문 : if"
   ]
  },
  {
   "cell_type": "code",
   "execution_count": 1,
   "id": "ad2216fb",
   "metadata": {},
   "outputs": [
    {
     "name": "stdout",
     "output_type": "stream",
     "text": [
      "Yes\n"
     ]
    }
   ],
   "source": [
    "if True:\n",
    "    print('Yes')"
   ]
  },
  {
   "cell_type": "code",
   "execution_count": 2,
   "id": "a6bdde4e",
   "metadata": {},
   "outputs": [
    {
     "name": "stdout",
     "output_type": "stream",
     "text": [
      "조건문에서 들여쓰기의 중요함\n"
     ]
    }
   ],
   "source": [
    "a = 200\n",
    "\n",
    "if a < 100:\n",
    "    print(\"a는 100보다 작다\")\n",
    "print(\"조건문에서 들여쓰기의 중요함\")"
   ]
  },
  {
   "cell_type": "code",
   "execution_count": 3,
   "id": "f36c7b4f",
   "metadata": {},
   "outputs": [
    {
     "name": "stdout",
     "output_type": "stream",
     "text": [
      "a는 100과 200사이에 있다.\n"
     ]
    }
   ],
   "source": [
    "# a는 100과 200 사이에 있다\n",
    "\n",
    "if a > 100 and a <= 200:\n",
    "    print(\"a는 100과 200사이에 있다.\")"
   ]
  },
  {
   "cell_type": "code",
   "execution_count": 4,
   "id": "cf9b9b11",
   "metadata": {},
   "outputs": [
    {
     "name": "stdout",
     "output_type": "stream",
     "text": [
      "a는 100과 200사이에 있다.\n"
     ]
    }
   ],
   "source": [
    "if  100 <= a <= 200:\n",
    "    print(\"a는 100과 200사이에 있다.\")"
   ]
  },
  {
   "cell_type": "code",
   "execution_count": 6,
   "id": "68e9a1e7",
   "metadata": {},
   "outputs": [
    {
     "name": "stdout",
     "output_type": "stream",
     "text": [
      "가장 큰 수 : 18,가장 작은 수 : 6\n"
     ]
    }
   ],
   "source": [
    "# 12,6,18이라는 세 개의 숫자를 변수에 담기\n",
    "# 세 숫자 중 가장 큰 수와 가장 작은 수 출력\n",
    "\n",
    "a, b, c = 12,18,6\n",
    "\n",
    "max = a\n",
    "if max < b:\n",
    "    max = b\n",
    "if max < c:\n",
    "    max = c\n",
    "    \n",
    "min = a\n",
    "if b < min:\n",
    "    min = b\n",
    "if c < min:\n",
    "    min = c\n",
    "    \n",
    "print(\"가장 큰 수 : {0},가장 작은 수 : {1}\".format(max,min))"
   ]
  },
  {
   "cell_type": "markdown",
   "id": "f093e750",
   "metadata": {},
   "source": [
    "### 조건문 : if ~ else"
   ]
  },
  {
   "cell_type": "code",
   "execution_count": 7,
   "id": "81107cdd",
   "metadata": {},
   "outputs": [
    {
     "name": "stdout",
     "output_type": "stream",
     "text": [
      "True\n"
     ]
    }
   ],
   "source": [
    "if True:\n",
    "    print('True')\n",
    "else:\n",
    "    print('False')"
   ]
  },
  {
   "cell_type": "code",
   "execution_count": 8,
   "id": "2981b7b4",
   "metadata": {},
   "outputs": [
    {
     "name": "stdout",
     "output_type": "stream",
     "text": [
      "a는 100보다 작다\n"
     ]
    }
   ],
   "source": [
    "a = 55\n",
    "\n",
    "if a < 100:\n",
    "    print(\"a는 100보다 작다\")\n",
    "else:\n",
    "    print(\"a는 100보다 크다\")"
   ]
  },
  {
   "cell_type": "code",
   "execution_count": 10,
   "id": "9290976c",
   "metadata": {},
   "outputs": [
    {
     "name": "stdout",
     "output_type": "stream",
     "text": [
      "합격\n"
     ]
    }
   ],
   "source": [
    "#  score= 90, grade=\"A\" score가 90이상이고, grade가 A이면 합격/불합격\n",
    "\n",
    "score,grade = 90,\"A\"\n",
    "\n",
    "if score >= 90 and grade == \"A\":\n",
    "    print(\"합격\")\n",
    "else:\n",
    "    print(\"불합격\")"
   ]
  },
  {
   "cell_type": "code",
   "execution_count": 11,
   "id": "425f87bf",
   "metadata": {},
   "outputs": [
    {
     "name": "stdout",
     "output_type": "stream",
     "text": [
      "숫자 입력 : 40\n",
      "짝수\n"
     ]
    }
   ],
   "source": [
    "# 숫자를 입력받은 후 그 숫자가 짝/홀수 인지 출력\n",
    "\n",
    "num1 = int(input(\"숫자 입력 : \"))\n",
    "\n",
    "if num1 % 2 == 0:\n",
    "    print(\"짝수\")\n",
    "else:\n",
    "    print(\"홀수\")"
   ]
  },
  {
   "cell_type": "code",
   "execution_count": null,
   "id": "d465f8d6",
   "metadata": {},
   "outputs": [],
   "source": []
  },
  {
   "cell_type": "code",
   "execution_count": 12,
   "id": "5b399ea1",
   "metadata": {},
   "outputs": [
    {
     "name": "stdout",
     "output_type": "stream",
     "text": [
      "2021-06-28 12:52:04.080566\n"
     ]
    }
   ],
   "source": [
    "import datetime\n",
    "\n",
    "now = datetime.datetime.now()\n",
    "\n",
    "print(now)"
   ]
  },
  {
   "cell_type": "code",
   "execution_count": 13,
   "id": "8832802b",
   "metadata": {},
   "outputs": [
    {
     "name": "stdout",
     "output_type": "stream",
     "text": [
      "2021년 6월 28일\n",
      "12시 52분 4초\n"
     ]
    }
   ],
   "source": [
    "print(\"{}년 {}월 {}일\".format(now.year,now.month,now.day))\n",
    "print(\"{}시 {}분 {}초\".format(now.hour,now.minute,now.second))"
   ]
  },
  {
   "cell_type": "code",
   "execution_count": 14,
   "id": "c5219840",
   "metadata": {},
   "outputs": [
    {
     "name": "stdout",
     "output_type": "stream",
     "text": [
      "오후\n"
     ]
    }
   ],
   "source": [
    "if now.hour < 12:\n",
    "    print(\"오전\")\n",
    "else:\n",
    "    print(\"오후\")"
   ]
  },
  {
   "cell_type": "markdown",
   "id": "a8a1ed45",
   "metadata": {},
   "source": [
    "### 조건문 : 삼항 연산자"
   ]
  },
  {
   "cell_type": "code",
   "execution_count": 15,
   "id": "11b94d5c",
   "metadata": {},
   "outputs": [
    {
     "name": "stdout",
     "output_type": "stream",
     "text": [
      "True는 참\n"
     ]
    }
   ],
   "source": [
    "print(\"True는 참\" if True else \"True는 거짓\")"
   ]
  },
  {
   "cell_type": "code",
   "execution_count": 16,
   "id": "fa393504",
   "metadata": {},
   "outputs": [
    {
     "name": "stdout",
     "output_type": "stream",
     "text": [
      "숫자 입력 : 25\n",
      "홀수\n"
     ]
    }
   ],
   "source": [
    "num1 = int(input(\"숫자 입력 : \"))\n",
    "\n",
    "print(\"짝수\" if num1 % 2 == 0 else \"홀수\")"
   ]
  },
  {
   "cell_type": "markdown",
   "id": "64bb7605",
   "metadata": {},
   "source": [
    "### 조건문 : 중첩 if"
   ]
  },
  {
   "cell_type": "code",
   "execution_count": 17,
   "id": "53aa0dcb",
   "metadata": {},
   "outputs": [
    {
     "name": "stdout",
     "output_type": "stream",
     "text": [
      "50보다 크고 100보다 작다\n"
     ]
    }
   ],
   "source": [
    "a = 75\n",
    "\n",
    "if a > 50:\n",
    "    if a < 100:\n",
    "        print(\"50보다 크고 100보다 작다\")\n",
    "    else:\n",
    "        print(\"100보다 크다\")\n",
    "else:\n",
    "    print(\"50보다 작다\")"
   ]
  },
  {
   "cell_type": "code",
   "execution_count": 18,
   "id": "c54ee45c",
   "metadata": {},
   "outputs": [
    {
     "name": "stdout",
     "output_type": "stream",
     "text": [
      "정수 입력 : 85\n",
      "B\n"
     ]
    }
   ],
   "source": [
    "score = int(input(\"정수 입력 : \"))\n",
    "\n",
    "if score >= 90:\n",
    "    print(\"A\")\n",
    "else:\n",
    "    if score >= 80:\n",
    "        print(\"B\")\n",
    "    else:\n",
    "        if score >= 70:\n",
    "            print(\"C\")\n",
    "        else:\n",
    "            if score >= 60:\n",
    "                print(\"D\")\n",
    "            else:\n",
    "                print(\"F\")\n",
    "    "
   ]
  },
  {
   "cell_type": "markdown",
   "id": "b85c86d7",
   "metadata": {},
   "source": [
    "### 조건문 : 다중조건 if ~ elif ~ else"
   ]
  },
  {
   "cell_type": "code",
   "execution_count": 19,
   "id": "9acff771",
   "metadata": {},
   "outputs": [
    {
     "name": "stdout",
     "output_type": "stream",
     "text": [
      "등급 A\n"
     ]
    }
   ],
   "source": [
    "num = 90\n",
    "\n",
    "if num >= 90:\n",
    "    print(\"등급 A\")\n",
    "elif num >= 80:\n",
    "    print(\"등급 B\")\n",
    "elif num >= 70:\n",
    "    print(\"등급 C\")\n",
    "elif num >= 60:\n",
    "    print(\"등급 D\")\n",
    "else:\n",
    "    print(\"등급 F\")"
   ]
  },
  {
   "cell_type": "code",
   "execution_count": null,
   "id": "a7358a39",
   "metadata": {},
   "outputs": [],
   "source": []
  },
  {
   "cell_type": "code",
   "execution_count": 20,
   "id": "6bfe9536",
   "metadata": {},
   "outputs": [
    {
     "name": "stdout",
     "output_type": "stream",
     "text": [
      "첫번째 숫자 입력 : 50\n",
      "두번째 숫자 입력 : 20\n",
      "연산자 입력 : *\n",
      "1000\n"
     ]
    }
   ],
   "source": [
    "# 계산기\n",
    "# 두 개의 숫자 입력, 연산자 입력\n",
    "# 사칙연산(+,-,*,/), //,%,**\n",
    "\n",
    "num1 = int(input(\"첫번째 숫자 입력 : \"))\n",
    "num2 = int(input(\"두번째 숫자 입력 : \"))\n",
    "\n",
    "calc = input(\"연산자 입력(+,-,*,/,//,%,**) : \")\n",
    "\n",
    "if calc == \"+\":\n",
    "    print(num1 + num2)\n",
    "elif calc == \"-\":\n",
    "    print(num1 - num2)\n",
    "elif calc == \"*\":\n",
    "    print(num1 * num2)\n",
    "elif calc == \"/\":\n",
    "    print(num1 / num2)\n",
    "elif calc == \"//\":\n",
    "    print(num1 // num2)\n",
    "elif calc == \"%\":\n",
    "    print(num1 % num2)\n",
    "elif calc == \"**\":\n",
    "    print(num1 ** num2)\n",
    "else:\n",
    "    print(\"연산자를 확인해 주세요\")\n",
    "\n",
    "\n"
   ]
  },
  {
   "cell_type": "code",
   "execution_count": null,
   "id": "6b353af8",
   "metadata": {},
   "outputs": [],
   "source": []
  },
  {
   "cell_type": "code",
   "execution_count": null,
   "id": "6aa36477",
   "metadata": {},
   "outputs": [],
   "source": []
  },
  {
   "cell_type": "code",
   "execution_count": null,
   "id": "0487f945",
   "metadata": {},
   "outputs": [],
   "source": []
  },
  {
   "cell_type": "code",
   "execution_count": null,
   "id": "b4a10cac",
   "metadata": {},
   "outputs": [],
   "source": []
  }
 ],
 "metadata": {
  "kernelspec": {
   "display_name": "Python 3",
   "language": "python",
   "name": "python3"
  },
  "language_info": {
   "codemirror_mode": {
    "name": "ipython",
    "version": 3
   },
   "file_extension": ".py",
   "mimetype": "text/x-python",
   "name": "python",
   "nbconvert_exporter": "python",
   "pygments_lexer": "ipython3",
   "version": "3.8.8"
  }
 },
 "nbformat": 4,
 "nbformat_minor": 5
}
