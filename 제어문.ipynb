{
 "cells": [
  {
   "cell_type": "markdown",
   "id": "dd379c1e",
   "metadata": {},
   "source": [
    "### 조건문 : if"
   ]
  },
  {
   "cell_type": "code",
   "execution_count": 1,
   "id": "ad2216fb",
   "metadata": {},
   "outputs": [
    {
     "name": "stdout",
     "output_type": "stream",
     "text": [
      "Yes\n"
     ]
    }
   ],
   "source": [
    "if True:\n",
    "    print('Yes')"
   ]
  },
  {
   "cell_type": "code",
   "execution_count": 2,
   "id": "a6bdde4e",
   "metadata": {},
   "outputs": [
    {
     "name": "stdout",
     "output_type": "stream",
     "text": [
      "조건문에서 들여쓰기의 중요함\n"
     ]
    }
   ],
   "source": [
    "a = 200\n",
    "\n",
    "if a < 100:\n",
    "    print(\"a는 100보다 작다\")\n",
    "print(\"조건문에서 들여쓰기의 중요함\")"
   ]
  },
  {
   "cell_type": "code",
   "execution_count": 3,
   "id": "f36c7b4f",
   "metadata": {},
   "outputs": [
    {
     "name": "stdout",
     "output_type": "stream",
     "text": [
      "a는 100과 200사이에 있다.\n"
     ]
    }
   ],
   "source": [
    "# a는 100과 200 사이에 있다\n",
    "\n",
    "if a > 100 and a <= 200:\n",
    "    print(\"a는 100과 200사이에 있다.\")"
   ]
  },
  {
   "cell_type": "code",
   "execution_count": 4,
   "id": "cf9b9b11",
   "metadata": {},
   "outputs": [
    {
     "name": "stdout",
     "output_type": "stream",
     "text": [
      "a는 100과 200사이에 있다.\n"
     ]
    }
   ],
   "source": [
    "if  100 <= a <= 200:\n",
    "    print(\"a는 100과 200사이에 있다.\")"
   ]
  },
  {
   "cell_type": "code",
   "execution_count": 6,
   "id": "68e9a1e7",
   "metadata": {},
   "outputs": [
    {
     "name": "stdout",
     "output_type": "stream",
     "text": [
      "가장 큰 수 : 18,가장 작은 수 : 6\n"
     ]
    }
   ],
   "source": [
    "# 12,6,18이라는 세 개의 숫자를 변수에 담기\n",
    "# 세 숫자 중 가장 큰 수와 가장 작은 수 출력\n",
    "\n",
    "a, b, c = 12,18,6\n",
    "\n",
    "max = a\n",
    "if max < b:\n",
    "    max = b\n",
    "if max < c:\n",
    "    max = c\n",
    "    \n",
    "min = a\n",
    "if b < min:\n",
    "    min = b\n",
    "if c < min:\n",
    "    min = c\n",
    "    \n",
    "print(\"가장 큰 수 : {0},가장 작은 수 : {1}\".format(max,min))"
   ]
  },
  {
   "cell_type": "markdown",
   "id": "f093e750",
   "metadata": {},
   "source": [
    "### 조건문 : if ~ else"
   ]
  },
  {
   "cell_type": "code",
   "execution_count": 7,
   "id": "81107cdd",
   "metadata": {},
   "outputs": [
    {
     "name": "stdout",
     "output_type": "stream",
     "text": [
      "True\n"
     ]
    }
   ],
   "source": [
    "if True:\n",
    "    print('True')\n",
    "else:\n",
    "    print('False')"
   ]
  },
  {
   "cell_type": "code",
   "execution_count": 8,
   "id": "2981b7b4",
   "metadata": {},
   "outputs": [
    {
     "name": "stdout",
     "output_type": "stream",
     "text": [
      "a는 100보다 작다\n"
     ]
    }
   ],
   "source": [
    "a = 55\n",
    "\n",
    "if a < 100:\n",
    "    print(\"a는 100보다 작다\")\n",
    "else:\n",
    "    print(\"a는 100보다 크다\")"
   ]
  },
  {
   "cell_type": "code",
   "execution_count": 10,
   "id": "9290976c",
   "metadata": {},
   "outputs": [
    {
     "name": "stdout",
     "output_type": "stream",
     "text": [
      "합격\n"
     ]
    }
   ],
   "source": [
    "#  score= 90, grade=\"A\" score가 90이상이고, grade가 A이면 합격/불합격\n",
    "\n",
    "score,grade = 90,\"A\"\n",
    "\n",
    "if score >= 90 and grade == \"A\":\n",
    "    print(\"합격\")\n",
    "else:\n",
    "    print(\"불합격\")"
   ]
  },
  {
   "cell_type": "code",
   "execution_count": 11,
   "id": "425f87bf",
   "metadata": {},
   "outputs": [
    {
     "name": "stdout",
     "output_type": "stream",
     "text": [
      "숫자 입력 : 40\n",
      "짝수\n"
     ]
    }
   ],
   "source": [
    "# 숫자를 입력받은 후 그 숫자가 짝/홀수 인지 출력\n",
    "\n",
    "num1 = int(input(\"숫자 입력 : \"))\n",
    "\n",
    "if num1 % 2 == 0:\n",
    "    print(\"짝수\")\n",
    "else:\n",
    "    print(\"홀수\")"
   ]
  },
  {
   "cell_type": "code",
   "execution_count": null,
   "id": "d465f8d6",
   "metadata": {},
   "outputs": [],
   "source": []
  },
  {
   "cell_type": "code",
   "execution_count": 12,
   "id": "5b399ea1",
   "metadata": {},
   "outputs": [
    {
     "name": "stdout",
     "output_type": "stream",
     "text": [
      "2021-06-28 12:52:04.080566\n"
     ]
    }
   ],
   "source": [
    "import datetime\n",
    "\n",
    "now = datetime.datetime.now()\n",
    "\n",
    "print(now)"
   ]
  },
  {
   "cell_type": "code",
   "execution_count": 13,
   "id": "8832802b",
   "metadata": {},
   "outputs": [
    {
     "name": "stdout",
     "output_type": "stream",
     "text": [
      "2021년 6월 28일\n",
      "12시 52분 4초\n"
     ]
    }
   ],
   "source": [
    "print(\"{}년 {}월 {}일\".format(now.year,now.month,now.day))\n",
    "print(\"{}시 {}분 {}초\".format(now.hour,now.minute,now.second))"
   ]
  },
  {
   "cell_type": "code",
   "execution_count": 14,
   "id": "c5219840",
   "metadata": {},
   "outputs": [
    {
     "name": "stdout",
     "output_type": "stream",
     "text": [
      "오후\n"
     ]
    }
   ],
   "source": [
    "if now.hour < 12:\n",
    "    print(\"오전\")\n",
    "else:\n",
    "    print(\"오후\")"
   ]
  },
  {
   "cell_type": "markdown",
   "id": "a8a1ed45",
   "metadata": {},
   "source": [
    "### 조건문 : 삼항 연산자"
   ]
  },
  {
   "cell_type": "code",
   "execution_count": 15,
   "id": "11b94d5c",
   "metadata": {},
   "outputs": [
    {
     "name": "stdout",
     "output_type": "stream",
     "text": [
      "True는 참\n"
     ]
    }
   ],
   "source": [
    "print(\"True는 참\" if True else \"True는 거짓\")"
   ]
  },
  {
   "cell_type": "code",
   "execution_count": 16,
   "id": "fa393504",
   "metadata": {},
   "outputs": [
    {
     "name": "stdout",
     "output_type": "stream",
     "text": [
      "숫자 입력 : 25\n",
      "홀수\n"
     ]
    }
   ],
   "source": [
    "num1 = int(input(\"숫자 입력 : \"))\n",
    "\n",
    "print(\"짝수\" if num1 % 2 == 0 else \"홀수\")"
   ]
  },
  {
   "cell_type": "markdown",
   "id": "64bb7605",
   "metadata": {},
   "source": [
    "### 조건문 : 중첩 if"
   ]
  },
  {
   "cell_type": "code",
   "execution_count": 17,
   "id": "53aa0dcb",
   "metadata": {},
   "outputs": [
    {
     "name": "stdout",
     "output_type": "stream",
     "text": [
      "50보다 크고 100보다 작다\n"
     ]
    }
   ],
   "source": [
    "a = 75\n",
    "\n",
    "if a > 50:\n",
    "    if a < 100:\n",
    "        print(\"50보다 크고 100보다 작다\")\n",
    "    else:\n",
    "        print(\"100보다 크다\")\n",
    "else:\n",
    "    print(\"50보다 작다\")"
   ]
  },
  {
   "cell_type": "code",
   "execution_count": 18,
   "id": "c54ee45c",
   "metadata": {},
   "outputs": [
    {
     "name": "stdout",
     "output_type": "stream",
     "text": [
      "정수 입력 : 85\n",
      "B\n"
     ]
    }
   ],
   "source": [
    "score = int(input(\"정수 입력 : \"))\n",
    "\n",
    "if score >= 90:\n",
    "    print(\"A\")\n",
    "else:\n",
    "    if score >= 80:\n",
    "        print(\"B\")\n",
    "    else:\n",
    "        if score >= 70:\n",
    "            print(\"C\")\n",
    "        else:\n",
    "            if score >= 60:\n",
    "                print(\"D\")\n",
    "            else:\n",
    "                print(\"F\")\n",
    "    "
   ]
  },
  {
   "cell_type": "markdown",
   "id": "b85c86d7",
   "metadata": {},
   "source": [
    "### 조건문 : 다중조건 if ~ elif ~ else"
   ]
  },
  {
   "cell_type": "code",
   "execution_count": 19,
   "id": "9acff771",
   "metadata": {},
   "outputs": [
    {
     "name": "stdout",
     "output_type": "stream",
     "text": [
      "등급 A\n"
     ]
    }
   ],
   "source": [
    "num = 90\n",
    "\n",
    "if num >= 90:\n",
    "    print(\"등급 A\")\n",
    "elif num >= 80:\n",
    "    print(\"등급 B\")\n",
    "elif num >= 70:\n",
    "    print(\"등급 C\")\n",
    "elif num >= 60:\n",
    "    print(\"등급 D\")\n",
    "else:\n",
    "    print(\"등급 F\")"
   ]
  },
  {
   "cell_type": "code",
   "execution_count": null,
   "id": "a7358a39",
   "metadata": {},
   "outputs": [],
   "source": []
  },
  {
   "cell_type": "code",
   "execution_count": 20,
   "id": "6bfe9536",
   "metadata": {},
   "outputs": [
    {
     "name": "stdout",
     "output_type": "stream",
     "text": [
      "첫번째 숫자 입력 : 50\n",
      "두번째 숫자 입력 : 20\n",
      "연산자 입력 : *\n",
      "1000\n"
     ]
    }
   ],
   "source": [
    "# 계산기\n",
    "# 두 개의 숫자 입력, 연산자 입력\n",
    "# 사칙연산(+,-,*,/), //,%,**\n",
    "\n",
    "num1 = int(input(\"첫번째 숫자 입력 : \"))\n",
    "num2 = int(input(\"두번째 숫자 입력 : \"))\n",
    "\n",
    "calc = input(\"연산자 입력(+,-,*,/,//,%,**) : \")\n",
    "\n",
    "if calc == \"+\":\n",
    "    print(num1 + num2)\n",
    "elif calc == \"-\":\n",
    "    print(num1 - num2)\n",
    "elif calc == \"*\":\n",
    "    print(num1 * num2)\n",
    "elif calc == \"/\":\n",
    "    print(num1 / num2)\n",
    "elif calc == \"//\":\n",
    "    print(num1 // num2)\n",
    "elif calc == \"%\":\n",
    "    print(num1 % num2)\n",
    "elif calc == \"**\":\n",
    "    print(num1 ** num2)\n",
    "else:\n",
    "    print(\"연산자를 확인해 주세요\")\n",
    "\n",
    "\n"
   ]
  },
  {
   "cell_type": "code",
   "execution_count": null,
   "id": "6b353af8",
   "metadata": {},
   "outputs": [],
   "source": []
  },
  {
   "cell_type": "markdown",
   "id": "c1f38c20",
   "metadata": {},
   "source": [
    "### 반복문 - while"
   ]
  },
  {
   "cell_type": "code",
   "execution_count": 1,
   "id": "0487f945",
   "metadata": {},
   "outputs": [
    {
     "name": "stdout",
     "output_type": "stream",
     "text": [
      "1\n",
      "2\n",
      "3\n",
      "4\n",
      "5\n",
      "6\n",
      "7\n",
      "8\n",
      "9\n",
      "10\n"
     ]
    }
   ],
   "source": [
    "i = 1\n",
    "while i < 11:\n",
    "    print(i)\n",
    "    i = i + 1"
   ]
  },
  {
   "cell_type": "code",
   "execution_count": 3,
   "id": "b4a10cac",
   "metadata": {},
   "outputs": [
    {
     "name": "stdout",
     "output_type": "stream",
     "text": [
      "1 2 3 4 5 6 7 8 9 10 "
     ]
    }
   ],
   "source": [
    "i = 1\n",
    "while i < 11:\n",
    "    print(i, end=\" \")\n",
    "    i = i + 1"
   ]
  },
  {
   "cell_type": "code",
   "execution_count": 4,
   "id": "80ffe95d",
   "metadata": {},
   "outputs": [
    {
     "name": "stdout",
     "output_type": "stream",
     "text": [
      "2 4 6 8 10 12 14 16 18 20 22 24 26 28 30 32 34 36 38 40 42 44 46 48 50 52 54 56 58 60 62 64 66 68 70 72 74 76 78 80 82 84 86 88 90 92 94 96 98 100 102 "
     ]
    }
   ],
   "source": [
    "# 1 ~ 100 짝수만 출력\n",
    "\n",
    "i = 0\n",
    "while i <= 100:\n",
    "    i += 2\n",
    "    print(i, end=\"\")"
   ]
  },
  {
   "cell_type": "code",
   "execution_count": 3,
   "id": "66e7c0fe",
   "metadata": {},
   "outputs": [
    {
     "name": "stdout",
     "output_type": "stream",
     "text": [
      "1 3 5 7 9 11 13 15 17 19 21 23 25 27 29 31 33 35 37 39 41 43 45 47 49 51 53 55 57 59 61 63 65 67 69 71 73 75 77 79 81 83 85 87 89 91 93 95 97 99 "
     ]
    }
   ],
   "source": [
    "# 1~100 홀수만 출력\n",
    "\n",
    "i = 1\n",
    "while i < 100:\n",
    "    print(i, end=\" \")\n",
    "    i += 2"
   ]
  },
  {
   "cell_type": "code",
   "execution_count": 2,
   "id": "4b1b1b33",
   "metadata": {},
   "outputs": [
    {
     "name": "stdout",
     "output_type": "stream",
     "text": [
      "1~100까지의 합 : 5151 \n"
     ]
    }
   ],
   "source": [
    "# 1~100 까지 합계를 구한 후 출력\n",
    "\n",
    "hap, i = 0,0\n",
    "\n",
    "while i < 101:\n",
    "    i = i+1\n",
    "    hap = hap + i\n",
    "print(\"1~100까지의 합 : %d \" % hap)"
   ]
  },
  {
   "cell_type": "code",
   "execution_count": 1,
   "id": "dbc6cff4",
   "metadata": {},
   "outputs": [
    {
     "name": "stdout",
     "output_type": "stream",
     "text": [
      "원하는 구구단 입력 : 2\n",
      "2 * 1 = 2\n",
      "2 * 2 = 4\n",
      "2 * 3 = 6\n",
      "2 * 4 = 8\n",
      "2 * 5 = 10\n",
      "2 * 6 = 12\n",
      "2 * 7 = 14\n",
      "2 * 8 = 16\n",
      "2 * 9 = 18\n"
     ]
    }
   ],
   "source": [
    "# 구구 단 출력: 사용자에게 구구단 받아서 출력\n",
    "\n",
    "num = int(input(\"원하는 구구단 입력 : \"))\n",
    "\n",
    "i = 1\n",
    "while i <= 9:\n",
    "    print(\"%d * %d = %d\" % (num, i,(num * i)))\n",
    "    i += 1"
   ]
  },
  {
   "cell_type": "code",
   "execution_count": 24,
   "id": "f2e7de82",
   "metadata": {},
   "outputs": [
    {
     "name": "stdout",
     "output_type": "stream",
     "text": [
      "입력 중단을 원하면 q를 입력하세요\n",
      "입력하기 : d\n",
      "d\n",
      "입력하기 : d\n",
      "d\n",
      "입력하기 : d\n",
      "d\n",
      "입력하기 : d\n",
      "d\n",
      "입력하기 : f\n",
      "f\n",
      "입력하기 : d\n",
      "d\n",
      "입력하기 : q\n",
      "q\n"
     ]
    }
   ],
   "source": [
    "# 사용자로부터 계속 입력을 받다가 사용자가 q 문자를 입력하면 종료\n",
    "print(\"입력 중단을 원하면 q를 입력하세요\")\n",
    "\n",
    "str = \"\"\n",
    "\n",
    "while str != \"q\":\n",
    "    str = input(\"입력하기 : \")\n",
    "    print(str)"
   ]
  },
  {
   "cell_type": "code",
   "execution_count": null,
   "id": "24ac4c9a",
   "metadata": {},
   "outputs": [],
   "source": []
  },
  {
   "cell_type": "markdown",
   "id": "85c54591",
   "metadata": {},
   "source": [
    "### 반복문 - for"
   ]
  },
  {
   "cell_type": "code",
   "execution_count": 25,
   "id": "dd903bc1",
   "metadata": {},
   "outputs": [
    {
     "name": "stdout",
     "output_type": "stream",
     "text": [
      "range(0, 5)\n"
     ]
    }
   ],
   "source": [
    "# range() : 범위 지정\n",
    "\n",
    "print(range(5))"
   ]
  },
  {
   "cell_type": "code",
   "execution_count": 26,
   "id": "540b7bea",
   "metadata": {},
   "outputs": [
    {
     "name": "stdout",
     "output_type": "stream",
     "text": [
      "[0, 1, 2, 3, 4]\n"
     ]
    }
   ],
   "source": [
    "print(list(range(5)))"
   ]
  },
  {
   "cell_type": "code",
   "execution_count": 27,
   "id": "c94227ba",
   "metadata": {},
   "outputs": [
    {
     "name": "stdout",
     "output_type": "stream",
     "text": [
      "[1, 2, 3, 4]\n"
     ]
    }
   ],
   "source": [
    "print(list(range(1,5)))"
   ]
  },
  {
   "cell_type": "code",
   "execution_count": 28,
   "id": "42b25802",
   "metadata": {},
   "outputs": [
    {
     "name": "stdout",
     "output_type": "stream",
     "text": [
      "[1, 3, 5, 7, 9]\n"
     ]
    }
   ],
   "source": [
    "print(list(range(1,11,2)))"
   ]
  },
  {
   "cell_type": "code",
   "execution_count": 29,
   "id": "29ff7648",
   "metadata": {},
   "outputs": [
    {
     "name": "stdout",
     "output_type": "stream",
     "text": [
      "0 1 2 3 4 5 6 7 8 9 "
     ]
    }
   ],
   "source": [
    "for i in range(10):\n",
    "    print(i, end = \" \")"
   ]
  },
  {
   "cell_type": "code",
   "execution_count": 30,
   "id": "1ecf783e",
   "metadata": {},
   "outputs": [
    {
     "name": "stdout",
     "output_type": "stream",
     "text": [
      "1 2 3 4 5 6 7 8 9 10 "
     ]
    }
   ],
   "source": [
    "for i in range(1,11):\n",
    "    print(i, end = \" \")"
   ]
  },
  {
   "cell_type": "code",
   "execution_count": 31,
   "id": "6f3f5fa0",
   "metadata": {},
   "outputs": [
    {
     "name": "stdout",
     "output_type": "stream",
     "text": [
      "1 2 3 4 5 6 7 8 9 10 11 12 13 14 15 16 17 18 19 20 21 22 23 24 25 26 27 28 29 30 31 32 33 34 35 36 37 38 39 40 41 42 43 44 45 46 47 48 49 50 51 52 53 54 55 56 57 58 59 60 61 62 63 64 65 66 67 68 69 70 71 72 73 74 75 76 77 78 79 80 81 82 83 84 85 86 87 88 89 90 91 92 93 94 95 96 97 98 99 100 "
     ]
    }
   ],
   "source": [
    "for i in range(1,101):\n",
    "    print(i, end = \" \")"
   ]
  },
  {
   "cell_type": "code",
   "execution_count": 32,
   "id": "77e9e3d9",
   "metadata": {},
   "outputs": [
    {
     "name": "stdout",
     "output_type": "stream",
     "text": [
      "2 4 6 8 10 "
     ]
    }
   ],
   "source": [
    "for i in range(2,11,2):\n",
    "    print(i, end = \" \")"
   ]
  },
  {
   "cell_type": "code",
   "execution_count": 36,
   "id": "15176075",
   "metadata": {},
   "outputs": [
    {
     "name": "stdout",
     "output_type": "stream",
     "text": [
      "1~100까지 합 :  5050\n"
     ]
    }
   ],
   "source": [
    "# 1~100까지 합계를 구한 후 출력\n",
    "\n",
    "hap = 0\n",
    "\n",
    "for i in range(101):\n",
    "    hap += i\n",
    "\n",
    "print(\"1~100까지 합 : \",hap)"
   ]
  },
  {
   "cell_type": "code",
   "execution_count": 41,
   "id": "97ca0759",
   "metadata": {},
   "outputs": [
    {
     "name": "stdout",
     "output_type": "stream",
     "text": [
      "합계를 원하는 값을 입력하세요 : 100\n",
      "1~100까지의 합 :  5050\n"
     ]
    }
   ],
   "source": [
    "# 1~사용자가 입력한 값까지 합계를 구한 후 출력\n",
    "num = int(input(\"합계를 원하는 값을 입력하세요 : \"))\n",
    "\n",
    "hap = 0\n",
    "\n",
    "for i in range(num+1):\n",
    "    hap += i\n",
    "\n",
    "print(\"1~%d까지의 합 : \" %num, hap)"
   ]
  },
  {
   "cell_type": "code",
   "execution_count": 4,
   "id": "9cc04cb2",
   "metadata": {},
   "outputs": [
    {
     "name": "stdout",
     "output_type": "stream",
     "text": [
      "45\n"
     ]
    }
   ],
   "source": [
    "# sum() : 합계 구하는 함수\n",
    "\n",
    "print(sum(range(1,10)))"
   ]
  },
  {
   "cell_type": "code",
   "execution_count": 3,
   "id": "77e5ebdc",
   "metadata": {},
   "outputs": [
    {
     "name": "stdout",
     "output_type": "stream",
     "text": [
      "5 4 3 2 1 0 "
     ]
    }
   ],
   "source": [
    "# 역순으로 출력\n",
    "\n",
    "for i in range(5,-1,-1):\n",
    "    print(i, end=\" \")"
   ]
  },
  {
   "cell_type": "code",
   "execution_count": 5,
   "id": "358cf4d8",
   "metadata": {},
   "outputs": [
    {
     "name": "stdout",
     "output_type": "stream",
     "text": [
      "Word :  d\n",
      "Word :  r\n",
      "Word :  e\n",
      "Word :  a\n",
      "Word :  m\n",
      "Word :  s\n"
     ]
    }
   ],
   "source": [
    "word = \"dreams\"\n",
    "\n",
    "for s in word:\n",
    "    print(\"Word : \",s)"
   ]
  },
  {
   "cell_type": "code",
   "execution_count": 8,
   "id": "a4b17a41",
   "metadata": {},
   "outputs": [
    {
     "name": "stdout",
     "output_type": "stream",
     "text": [
      "* * * \n",
      "* * * \n",
      "* * * \n"
     ]
    }
   ],
   "source": [
    "# 이중 for 문\n",
    "\n",
    "for i in range(3):\n",
    "    for j in range(3):\n",
    "        print(\"*\", end=\" \")\n",
    "    print()"
   ]
  },
  {
   "cell_type": "code",
   "execution_count": 9,
   "id": "7df66dc1",
   "metadata": {},
   "outputs": [
    {
     "name": "stdout",
     "output_type": "stream",
     "text": [
      "0 1 2 3 4 \n",
      "1 2 3 4 5 \n",
      "2 3 4 5 6 \n",
      "3 4 5 6 7 \n",
      "4 5 6 7 8 \n"
     ]
    }
   ],
   "source": [
    "for i in range(5):\n",
    "    for j in range(5):\n",
    "        print(i+j, end=\" \")\n",
    "    print()"
   ]
  },
  {
   "cell_type": "code",
   "execution_count": 10,
   "id": "ec326a0f",
   "metadata": {},
   "outputs": [
    {
     "name": "stdout",
     "output_type": "stream",
     "text": [
      "2 * 1 = 2\t2 * 2 = 4\t2 * 3 = 6\t2 * 4 = 8\t2 * 5 = 10\t2 * 6 = 12\t2 * 7 = 14\t2 * 8 = 16\t2 * 9 = 18\t\n",
      "3 * 1 = 3\t3 * 2 = 6\t3 * 3 = 9\t3 * 4 = 12\t3 * 5 = 15\t3 * 6 = 18\t3 * 7 = 21\t3 * 8 = 24\t3 * 9 = 27\t\n",
      "4 * 1 = 4\t4 * 2 = 8\t4 * 3 = 12\t4 * 4 = 16\t4 * 5 = 20\t4 * 6 = 24\t4 * 7 = 28\t4 * 8 = 32\t4 * 9 = 36\t\n",
      "5 * 1 = 5\t5 * 2 = 10\t5 * 3 = 15\t5 * 4 = 20\t5 * 5 = 25\t5 * 6 = 30\t5 * 7 = 35\t5 * 8 = 40\t5 * 9 = 45\t\n",
      "6 * 1 = 6\t6 * 2 = 12\t6 * 3 = 18\t6 * 4 = 24\t6 * 5 = 30\t6 * 6 = 36\t6 * 7 = 42\t6 * 8 = 48\t6 * 9 = 54\t\n",
      "7 * 1 = 7\t7 * 2 = 14\t7 * 3 = 21\t7 * 4 = 28\t7 * 5 = 35\t7 * 6 = 42\t7 * 7 = 49\t7 * 8 = 56\t7 * 9 = 63\t\n",
      "8 * 1 = 8\t8 * 2 = 16\t8 * 3 = 24\t8 * 4 = 32\t8 * 5 = 40\t8 * 6 = 48\t8 * 7 = 56\t8 * 8 = 64\t8 * 9 = 72\t\n",
      "9 * 1 = 9\t9 * 2 = 18\t9 * 3 = 27\t9 * 4 = 36\t9 * 5 = 45\t9 * 6 = 54\t9 * 7 = 63\t9 * 8 = 72\t9 * 9 = 81\t\n"
     ]
    }
   ],
   "source": [
    "# 구구단 전체 출력\n",
    "\n",
    "for i in range(2,10):\n",
    "    for j in range(1,10):\n",
    "        print(\"%d * %d = %d\" % (i,j,(i*j)), end = \"\\t\")\n",
    "    print()"
   ]
  },
  {
   "cell_type": "code",
   "execution_count": 11,
   "id": "45470fdd",
   "metadata": {},
   "outputs": [
    {
     "name": "stdout",
     "output_type": "stream",
     "text": [
      "1 2 3 4 "
     ]
    }
   ],
   "source": [
    "#1~10 출력시 i가 5가 되면 루프 종료\n",
    "i=1\n",
    "while i <= 10:\n",
    "    if i == 5:\n",
    "        break\n",
    "    print(i, end=\" \")\n",
    "    i += 1"
   ]
  },
  {
   "cell_type": "code",
   "execution_count": 15,
   "id": "4726b074",
   "metadata": {},
   "outputs": [
    {
     "name": "stdout",
     "output_type": "stream",
     "text": [
      "1 2 3 4 6 7 8 9 10 "
     ]
    }
   ],
   "source": [
    "# 1~10 출력시 5는 출력안하기\n",
    "i=1\n",
    "while i <= 10:\n",
    "    if i == 5:\n",
    "        i += 1\n",
    "        continue\n",
    "    print(i, end=\" \")\n",
    "    i += 1"
   ]
  },
  {
   "cell_type": "code",
   "execution_count": 16,
   "id": "9336608a",
   "metadata": {},
   "outputs": [
    {
     "name": "stdout",
     "output_type": "stream",
     "text": [
      "1 2 3 4 6 7 8 9 10 "
     ]
    }
   ],
   "source": [
    "for i in range(1,11):\n",
    "    if i == 5:\n",
    "        continue\n",
    "    print(i,end=\" \")"
   ]
  },
  {
   "cell_type": "code",
   "execution_count": 14,
   "id": "478e436e",
   "metadata": {},
   "outputs": [
    {
     "name": "stdout",
     "output_type": "stream",
     "text": [
      "*\n",
      "**\n",
      "***\n",
      "****\n",
      "*****\n"
     ]
    }
   ],
   "source": [
    "for i in range(5):\n",
    "    for j in range(i+1):\n",
    "        print(\"*\", end=\"\")\n",
    "    print()"
   ]
  },
  {
   "cell_type": "code",
   "execution_count": 18,
   "id": "01f46e0a",
   "metadata": {},
   "outputs": [
    {
     "name": "stdout",
     "output_type": "stream",
     "text": [
      "*\n",
      "**\n",
      "***\n",
      "****\n",
      "*****\n"
     ]
    }
   ],
   "source": [
    "for i in range(5):\n",
    "    for j in range(5):\n",
    "        if j <= i:\n",
    "            print(\"*\",end=\"\")\n",
    "    print()"
   ]
  },
  {
   "cell_type": "code",
   "execution_count": 20,
   "id": "4d1dc2de",
   "metadata": {},
   "outputs": [
    {
     "name": "stdout",
     "output_type": "stream",
     "text": [
      "*\n",
      "**\n",
      "***\n",
      "****\n",
      "*****\n"
     ]
    }
   ],
   "source": [
    "i = 0\n",
    "while True:\n",
    "    i+=1\n",
    "    if i > 5:\n",
    "        break\n",
    "    print(\"*\"*i)"
   ]
  },
  {
   "cell_type": "code",
   "execution_count": null,
   "id": "aa94d139",
   "metadata": {},
   "outputs": [],
   "source": []
  },
  {
   "cell_type": "code",
   "execution_count": null,
   "id": "6d59ff01",
   "metadata": {},
   "outputs": [],
   "source": []
  },
  {
   "cell_type": "code",
   "execution_count": null,
   "id": "238d7a0e",
   "metadata": {},
   "outputs": [],
   "source": []
  }
 ],
 "metadata": {
  "kernelspec": {
   "display_name": "Python 3",
   "language": "python",
   "name": "python3"
  },
  "language_info": {
   "codemirror_mode": {
    "name": "ipython",
    "version": 3
   },
   "file_extension": ".py",
   "mimetype": "text/x-python",
   "name": "python",
   "nbconvert_exporter": "python",
   "pygments_lexer": "ipython3",
   "version": "3.8.8"
  }
 },
 "nbformat": 4,
 "nbformat_minor": 5
}
