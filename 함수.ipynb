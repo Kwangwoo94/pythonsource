{
 "cells": [
  {
   "cell_type": "markdown",
   "id": "b63b2df3",
   "metadata": {},
   "source": [
    "- 입력값을 가지고 어떤일을 수행한 후 결과물\n",
    "\n",
    "```\n",
    "def 함수명():\n",
    "    해야할 일 나열\n",
    "```"
   ]
  },
  {
   "cell_type": "code",
   "execution_count": 1,
   "id": "efda37c3",
   "metadata": {},
   "outputs": [],
   "source": [
    "def hello():\n",
    "    print(\"Hello!!!\")"
   ]
  },
  {
   "cell_type": "code",
   "execution_count": 2,
   "id": "15e62ab9",
   "metadata": {},
   "outputs": [
    {
     "name": "stdout",
     "output_type": "stream",
     "text": [
      "Hello!!!\n"
     ]
    }
   ],
   "source": [
    "hello()"
   ]
  },
  {
   "cell_type": "code",
   "execution_count": 3,
   "id": "2a7bc5fb",
   "metadata": {},
   "outputs": [],
   "source": [
    "def hello():\n",
    "    return \"Hello!!!\""
   ]
  },
  {
   "cell_type": "code",
   "execution_count": 4,
   "id": "c069f272",
   "metadata": {},
   "outputs": [
    {
     "name": "stdout",
     "output_type": "stream",
     "text": [
      "Hello!!!\n"
     ]
    }
   ],
   "source": [
    "print(hello())"
   ]
  },
  {
   "cell_type": "code",
   "execution_count": 5,
   "id": "6d094339",
   "metadata": {},
   "outputs": [
    {
     "name": "stdout",
     "output_type": "stream",
     "text": [
      "Hello!!!hong\n"
     ]
    }
   ],
   "source": [
    "str = hello()\n",
    "\n",
    "str += \"hong\"\n",
    "\n",
    "print(str)"
   ]
  },
  {
   "cell_type": "code",
   "execution_count": null,
   "id": "fbda9124",
   "metadata": {},
   "outputs": [],
   "source": []
  },
  {
   "cell_type": "markdown",
   "id": "13ab5def",
   "metadata": {},
   "source": [
    "- 전달인자 처리"
   ]
  },
  {
   "cell_type": "code",
   "execution_count": 6,
   "id": "b25cfc65",
   "metadata": {},
   "outputs": [],
   "source": [
    "def add(a,b):\n",
    "    print(a + b)"
   ]
  },
  {
   "cell_type": "code",
   "execution_count": 7,
   "id": "1b8504c3",
   "metadata": {},
   "outputs": [
    {
     "ename": "TypeError",
     "evalue": "add() missing 2 required positional arguments: 'a' and 'b'",
     "output_type": "error",
     "traceback": [
      "\u001b[1;31m---------------------------------------------------------------------------\u001b[0m",
      "\u001b[1;31mTypeError\u001b[0m                                 Traceback (most recent call last)",
      "\u001b[1;32m<ipython-input-7-d5d29de3ed94>\u001b[0m in \u001b[0;36m<module>\u001b[1;34m\u001b[0m\n\u001b[1;32m----> 1\u001b[1;33m \u001b[0madd\u001b[0m\u001b[1;33m(\u001b[0m\u001b[1;33m)\u001b[0m\u001b[1;33m\u001b[0m\u001b[1;33m\u001b[0m\u001b[0m\n\u001b[0m",
      "\u001b[1;31mTypeError\u001b[0m: add() missing 2 required positional arguments: 'a' and 'b'"
     ]
    }
   ],
   "source": [
    "add()"
   ]
  },
  {
   "cell_type": "code",
   "execution_count": 8,
   "id": "e2a1ad4e",
   "metadata": {},
   "outputs": [
    {
     "name": "stdout",
     "output_type": "stream",
     "text": [
      "8\n"
     ]
    }
   ],
   "source": [
    "add(5,3)"
   ]
  },
  {
   "cell_type": "code",
   "execution_count": 9,
   "id": "c2c256bf",
   "metadata": {},
   "outputs": [],
   "source": [
    "def add(a,b):\n",
    "    return a + b"
   ]
  },
  {
   "cell_type": "code",
   "execution_count": 10,
   "id": "3703847c",
   "metadata": {},
   "outputs": [
    {
     "name": "stdout",
     "output_type": "stream",
     "text": [
      "13\n"
     ]
    }
   ],
   "source": [
    "print(add(8,5))"
   ]
  },
  {
   "cell_type": "code",
   "execution_count": 11,
   "id": "5422f46b",
   "metadata": {},
   "outputs": [
    {
     "name": "stdout",
     "output_type": "stream",
     "text": [
      "15\n"
     ]
    }
   ],
   "source": [
    "hap = add(7,8)\n",
    "\n",
    "print(hap)"
   ]
  },
  {
   "cell_type": "code",
   "execution_count": null,
   "id": "c6a0996a",
   "metadata": {},
   "outputs": [],
   "source": []
  },
  {
   "cell_type": "markdown",
   "id": "01d21aa1",
   "metadata": {},
   "source": [
    "-기본 파라메터 : 인자에 기본값을 주는 형태(함수 호출시 값이 넘어오면 넘어오는 값으로 사용하고, 안 넘어오는 경우에는 기본값을 사용)"
   ]
  },
  {
   "cell_type": "code",
   "execution_count": 13,
   "id": "a8bd6c6f",
   "metadata": {},
   "outputs": [],
   "source": [
    "def print_n_times(value, n=2):\n",
    "    for i in range(n):\n",
    "        print(value)"
   ]
  },
  {
   "cell_type": "code",
   "execution_count": 14,
   "id": "60081e62",
   "metadata": {},
   "outputs": [
    {
     "name": "stdout",
     "output_type": "stream",
     "text": [
      "안녕하세요\n",
      "안녕하세요\n"
     ]
    }
   ],
   "source": [
    "print_n_times(\"안녕하세요\")"
   ]
  },
  {
   "cell_type": "code",
   "execution_count": 15,
   "id": "89d6b0d8",
   "metadata": {},
   "outputs": [
    {
     "name": "stdout",
     "output_type": "stream",
     "text": [
      "반갑습니다\n",
      "반갑습니다\n",
      "반갑습니다\n",
      "반갑습니다\n",
      "반갑습니다\n"
     ]
    }
   ],
   "source": [
    "print_n_times(\"반갑습니다\",5)"
   ]
  },
  {
   "cell_type": "code",
   "execution_count": 36,
   "id": "182974b7",
   "metadata": {},
   "outputs": [],
   "source": [
    "# 초기값 인수는 맨 마지막에 사용\n",
    "\n",
    "def say_myself(name,old,man=True):\n",
    "    print(\"내 이름은 %s입니다.\" % name)\n",
    "    print(\"내 나이는 %d입니다.\" % old)\n",
    "    \n",
    "    if man:\n",
    "        print(\"남자\")\n",
    "    else:\n",
    "        print(\"여자\")"
   ]
  },
  {
   "cell_type": "code",
   "execution_count": null,
   "id": "2d3ea9ed",
   "metadata": {},
   "outputs": [],
   "source": []
  },
  {
   "cell_type": "markdown",
   "id": "409103a7",
   "metadata": {},
   "source": [
    "- 가변 파라메터 : 값을 넘기지 않아도 에러가 안남\n",
    "    - 가변 파라메터는 하나만 사용\n",
    "    - 가변 파라메터 다음에는 일반 매개 변수는 올 수 없음\n",
    "    - *args"
   ]
  },
  {
   "cell_type": "code",
   "execution_count": 16,
   "id": "3ea91376",
   "metadata": {},
   "outputs": [],
   "source": [
    "def add_many(*args):\n",
    "    print(args)"
   ]
  },
  {
   "cell_type": "code",
   "execution_count": 17,
   "id": "13916b0b",
   "metadata": {},
   "outputs": [
    {
     "name": "stdout",
     "output_type": "stream",
     "text": [
      "({'dessert': 'macaroon', 'wine': 'merlot'},)\n"
     ]
    }
   ],
   "source": [
    "add_many({\"dessert\":\"macaroon\",\"wine\":\"merlot\"})"
   ]
  },
  {
   "cell_type": "code",
   "execution_count": 18,
   "id": "4aa19d3b",
   "metadata": {},
   "outputs": [
    {
     "name": "stdout",
     "output_type": "stream",
     "text": [
      "('35', 25, '14', '15')\n"
     ]
    }
   ],
   "source": [
    "add_many(\"35\",25,\"14\",\"15\")"
   ]
  },
  {
   "cell_type": "code",
   "execution_count": 20,
   "id": "9a6c5655",
   "metadata": {},
   "outputs": [
    {
     "name": "stdout",
     "output_type": "stream",
     "text": [
      "([1, 2, 3, 4, 5],)\n"
     ]
    }
   ],
   "source": [
    "add_many([1,2,3,4,5])"
   ]
  },
  {
   "cell_type": "code",
   "execution_count": 21,
   "id": "c3b51af6",
   "metadata": {},
   "outputs": [
    {
     "name": "stdout",
     "output_type": "stream",
     "text": [
      "()\n"
     ]
    }
   ],
   "source": [
    "add_many()"
   ]
  },
  {
   "cell_type": "code",
   "execution_count": null,
   "id": "8ae1c381",
   "metadata": {},
   "outputs": [],
   "source": []
  },
  {
   "cell_type": "code",
   "execution_count": 22,
   "id": "c878575f",
   "metadata": {},
   "outputs": [],
   "source": [
    "def sum_many(*args):\n",
    "    result = 0\n",
    "    for i in args:\n",
    "        result = result + i\n",
    "    return result"
   ]
  },
  {
   "cell_type": "code",
   "execution_count": 23,
   "id": "b43b6576",
   "metadata": {},
   "outputs": [
    {
     "data": {
      "text/plain": [
       "230"
      ]
     },
     "execution_count": 23,
     "metadata": {},
     "output_type": "execute_result"
    }
   ],
   "source": [
    "sum_many(15,63,75,25,13,27,9,3)"
   ]
  },
  {
   "cell_type": "code",
   "execution_count": 24,
   "id": "ffc3b95a",
   "metadata": {},
   "outputs": [
    {
     "data": {
      "text/plain": [
       "101"
      ]
     },
     "execution_count": 24,
     "metadata": {},
     "output_type": "execute_result"
    }
   ],
   "source": [
    "sum_many(33,32,36)"
   ]
  },
  {
   "cell_type": "code",
   "execution_count": 25,
   "id": "ec8f1a7f",
   "metadata": {},
   "outputs": [
    {
     "data": {
      "text/plain": [
       "0"
      ]
     },
     "execution_count": 25,
     "metadata": {},
     "output_type": "execute_result"
    }
   ],
   "source": [
    "sum_many()"
   ]
  },
  {
   "cell_type": "code",
   "execution_count": null,
   "id": "a7ebdbe3",
   "metadata": {},
   "outputs": [],
   "source": []
  },
  {
   "cell_type": "code",
   "execution_count": 26,
   "id": "8cd1f7aa",
   "metadata": {},
   "outputs": [],
   "source": [
    "def args_func(*args):\n",
    "    print(\"args : \",args)\n",
    "    \n",
    "    for arg in args:\n",
    "        print(arg)\n",
    "    \n",
    "    for k,v in enumerate(args):\n",
    "        print(k,v)"
   ]
  },
  {
   "cell_type": "code",
   "execution_count": 27,
   "id": "bee1bdd7",
   "metadata": {},
   "outputs": [
    {
     "name": "stdout",
     "output_type": "stream",
     "text": [
      "args :  ('Kim',)\n",
      "Kim\n",
      "0 Kim\n"
     ]
    }
   ],
   "source": [
    "args_func(\"Kim\")"
   ]
  },
  {
   "cell_type": "code",
   "execution_count": 28,
   "id": "7edd4631",
   "metadata": {},
   "outputs": [
    {
     "name": "stdout",
     "output_type": "stream",
     "text": [
      "args :  ('Kim', 'Test', 'Python')\n",
      "Kim\n",
      "Test\n",
      "Python\n",
      "0 Kim\n",
      "1 Test\n",
      "2 Python\n"
     ]
    }
   ],
   "source": [
    "args_func(\"Kim\",\"Test\",\"Python\")"
   ]
  },
  {
   "cell_type": "code",
   "execution_count": null,
   "id": "3cccc086",
   "metadata": {},
   "outputs": [],
   "source": []
  },
  {
   "cell_type": "code",
   "execution_count": 31,
   "id": "196f2e85",
   "metadata": {},
   "outputs": [],
   "source": [
    "def sum_mul(choice,*args):\n",
    "    if choice == \"add\":\n",
    "        result = 0\n",
    "        for i in args:\n",
    "            result = result + i\n",
    "    elif choice == \"mul\":\n",
    "        result = 0\n",
    "        for i in args:\n",
    "            result *= i\n",
    "    return result"
   ]
  },
  {
   "cell_type": "code",
   "execution_count": 32,
   "id": "e45b2fd6",
   "metadata": {},
   "outputs": [
    {
     "data": {
      "text/plain": [
       "15"
      ]
     },
     "execution_count": 32,
     "metadata": {},
     "output_type": "execute_result"
    }
   ],
   "source": [
    "sum_mul(\"add\",1,2,3,4,5)"
   ]
  },
  {
   "cell_type": "code",
   "execution_count": 33,
   "id": "883ab9ba",
   "metadata": {},
   "outputs": [
    {
     "data": {
      "text/plain": [
       "0"
      ]
     },
     "execution_count": 33,
     "metadata": {},
     "output_type": "execute_result"
    }
   ],
   "source": [
    "sum_mul(\"mul\",1,2,3,4,5)"
   ]
  },
  {
   "cell_type": "code",
   "execution_count": null,
   "id": "a83484af",
   "metadata": {},
   "outputs": [],
   "source": []
  },
  {
   "cell_type": "markdown",
   "id": "1d3c8e77",
   "metadata": {},
   "source": [
    "- **kwargs : 딕셔너리 형태"
   ]
  },
  {
   "cell_type": "code",
   "execution_count": 37,
   "id": "f8f2ca46",
   "metadata": {},
   "outputs": [],
   "source": [
    "def example_mul(arg1,arg2,*args,**kwargs):\n",
    "    print(arg1,arg2,args,kwargs)"
   ]
  },
  {
   "cell_type": "code",
   "execution_count": 38,
   "id": "8891c27a",
   "metadata": {},
   "outputs": [
    {
     "name": "stdout",
     "output_type": "stream",
     "text": [
      "10 20 () {}\n"
     ]
    }
   ],
   "source": [
    "example_mul(10,20)"
   ]
  },
  {
   "cell_type": "code",
   "execution_count": 39,
   "id": "8d93bee2",
   "metadata": {},
   "outputs": [
    {
     "name": "stdout",
     "output_type": "stream",
     "text": [
      "10 20 ('choi', 'kim') {}\n"
     ]
    }
   ],
   "source": [
    "example_mul(10,20,\"choi\",\"kim\")"
   ]
  },
  {
   "cell_type": "code",
   "execution_count": 40,
   "id": "ab1e9b37",
   "metadata": {},
   "outputs": [
    {
     "name": "stdout",
     "output_type": "stream",
     "text": [
      "10 20 ('choi', 'kim') {'age': 25, 'name': 'park'}\n"
     ]
    }
   ],
   "source": [
    "example_mul(10,20,\"choi\",\"kim\",age=25,name=\"park\")"
   ]
  },
  {
   "cell_type": "markdown",
   "id": "176b3112",
   "metadata": {},
   "source": [
    "### 다중 리턴"
   ]
  },
  {
   "cell_type": "code",
   "execution_count": 41,
   "id": "7ec46cde",
   "metadata": {},
   "outputs": [],
   "source": [
    "def func_mul(x):\n",
    "    y1 = x * 100\n",
    "    y2 = x * 200\n",
    "    y3 = x * 300\n",
    "    \n",
    "    return y1,y2,y3"
   ]
  },
  {
   "cell_type": "code",
   "execution_count": 42,
   "id": "8bad6fe7",
   "metadata": {},
   "outputs": [
    {
     "name": "stdout",
     "output_type": "stream",
     "text": [
      "(10000, 20000, 30000)\n"
     ]
    }
   ],
   "source": [
    "print(func_mul(100))"
   ]
  },
  {
   "cell_type": "code",
   "execution_count": 43,
   "id": "94f3d371",
   "metadata": {},
   "outputs": [
    {
     "name": "stdout",
     "output_type": "stream",
     "text": [
      "20000 40000 60000\n"
     ]
    }
   ],
   "source": [
    "y1,y2,y3 = func_mul(200)\n",
    "print(y1,y2,y3)"
   ]
  },
  {
   "cell_type": "code",
   "execution_count": 44,
   "id": "943b5b17",
   "metadata": {},
   "outputs": [],
   "source": [
    "def func_mul2(x):\n",
    "    y1 = x * 100\n",
    "    y2 = x * 200\n",
    "    y3 = x * 300\n",
    "    \n",
    "    return [y1,y2,y3]"
   ]
  },
  {
   "cell_type": "code",
   "execution_count": 46,
   "id": "083951b9",
   "metadata": {},
   "outputs": [
    {
     "name": "stdout",
     "output_type": "stream",
     "text": [
      "[10000, 20000, 30000]\n"
     ]
    }
   ],
   "source": [
    "print(func_mul2(100))"
   ]
  },
  {
   "cell_type": "code",
   "execution_count": 47,
   "id": "d645d66a",
   "metadata": {},
   "outputs": [],
   "source": [
    "# 두 개의 인자를 받아서 다중리턴하기\n",
    "# 덧셈,곱셈\n",
    "\n",
    "def sum_and_mul(a, b):\n",
    "    return a*b,a+b"
   ]
  },
  {
   "cell_type": "code",
   "execution_count": 48,
   "id": "c5651252",
   "metadata": {},
   "outputs": [
    {
     "name": "stdout",
     "output_type": "stream",
     "text": [
      "(32, 12)\n"
     ]
    }
   ],
   "source": [
    "print(sum_and_mul(4,8))"
   ]
  },
  {
   "cell_type": "code",
   "execution_count": 49,
   "id": "82f0a92f",
   "metadata": {},
   "outputs": [],
   "source": [
    "result1, result2 = sum_and_mul(4,8)"
   ]
  },
  {
   "cell_type": "code",
   "execution_count": null,
   "id": "2929401a",
   "metadata": {},
   "outputs": [],
   "source": []
  },
  {
   "cell_type": "code",
   "execution_count": 50,
   "id": "36de7bc1",
   "metadata": {},
   "outputs": [],
   "source": [
    "def say_nick(nick):\n",
    "    if nick == \"바보\":\n",
    "        return\n",
    "    print(\"나의 별명은 %s\" % nick)"
   ]
  },
  {
   "cell_type": "code",
   "execution_count": 51,
   "id": "f3f8f6ca",
   "metadata": {},
   "outputs": [],
   "source": [
    "say_nick(\"바보\")"
   ]
  },
  {
   "cell_type": "code",
   "execution_count": 52,
   "id": "07423f4c",
   "metadata": {},
   "outputs": [
    {
     "name": "stdout",
     "output_type": "stream",
     "text": [
      "나의 별명은 야호\n"
     ]
    }
   ],
   "source": [
    "say_nick(\"야호\")"
   ]
  },
  {
   "cell_type": "markdown",
   "id": "f304b8f1",
   "metadata": {},
   "source": [
    "### 변수의 유효범위"
   ]
  },
  {
   "cell_type": "code",
   "execution_count": 53,
   "id": "576ddb40",
   "metadata": {},
   "outputs": [],
   "source": [
    "a = 1\n",
    "\n",
    "def vartest(a):\n",
    "    a = a+1"
   ]
  },
  {
   "cell_type": "code",
   "execution_count": 54,
   "id": "57399608",
   "metadata": {},
   "outputs": [],
   "source": [
    "vartest(1)"
   ]
  },
  {
   "cell_type": "code",
   "execution_count": 55,
   "id": "16fe3451",
   "metadata": {},
   "outputs": [
    {
     "name": "stdout",
     "output_type": "stream",
     "text": [
      "1\n"
     ]
    }
   ],
   "source": [
    "print(a)"
   ]
  },
  {
   "cell_type": "code",
   "execution_count": 57,
   "id": "478ac44b",
   "metadata": {},
   "outputs": [],
   "source": [
    "def func2():\n",
    "    a += 3\n",
    "    return a"
   ]
  },
  {
   "cell_type": "code",
   "execution_count": 58,
   "id": "a80ed6d3",
   "metadata": {},
   "outputs": [
    {
     "ename": "UnboundLocalError",
     "evalue": "local variable 'a' referenced before assignment",
     "output_type": "error",
     "traceback": [
      "\u001b[1;31m---------------------------------------------------------------------------\u001b[0m",
      "\u001b[1;31mUnboundLocalError\u001b[0m                         Traceback (most recent call last)",
      "\u001b[1;32m<ipython-input-58-901e506540a2>\u001b[0m in \u001b[0;36m<module>\u001b[1;34m\u001b[0m\n\u001b[1;32m----> 1\u001b[1;33m \u001b[0mprint\u001b[0m\u001b[1;33m(\u001b[0m\u001b[0mfunc2\u001b[0m\u001b[1;33m(\u001b[0m\u001b[1;33m)\u001b[0m\u001b[1;33m)\u001b[0m\u001b[1;33m\u001b[0m\u001b[1;33m\u001b[0m\u001b[0m\n\u001b[0m",
      "\u001b[1;32m<ipython-input-57-8134b89dea40>\u001b[0m in \u001b[0;36mfunc2\u001b[1;34m()\u001b[0m\n\u001b[0;32m      1\u001b[0m \u001b[1;32mdef\u001b[0m \u001b[0mfunc2\u001b[0m\u001b[1;33m(\u001b[0m\u001b[1;33m)\u001b[0m\u001b[1;33m:\u001b[0m\u001b[1;33m\u001b[0m\u001b[1;33m\u001b[0m\u001b[0m\n\u001b[1;32m----> 2\u001b[1;33m     \u001b[0ma\u001b[0m \u001b[1;33m+=\u001b[0m \u001b[1;36m3\u001b[0m\u001b[1;33m\u001b[0m\u001b[1;33m\u001b[0m\u001b[0m\n\u001b[0m\u001b[0;32m      3\u001b[0m     \u001b[1;32mreturn\u001b[0m \u001b[0ma\u001b[0m\u001b[1;33m\u001b[0m\u001b[1;33m\u001b[0m\u001b[0m\n",
      "\u001b[1;31mUnboundLocalError\u001b[0m: local variable 'a' referenced before assignment"
     ]
    }
   ],
   "source": [
    "# 함수 내부에서 함수 외부에 있는 변수를 참조하지 못함\n",
    "\n",
    "print(func2())"
   ]
  },
  {
   "cell_type": "code",
   "execution_count": 59,
   "id": "13559633",
   "metadata": {},
   "outputs": [],
   "source": [
    "def func2():\n",
    "    global a #비추천\n",
    "    a += 3\n",
    "    return a"
   ]
  },
  {
   "cell_type": "code",
   "execution_count": 60,
   "id": "30a23426",
   "metadata": {},
   "outputs": [
    {
     "name": "stdout",
     "output_type": "stream",
     "text": [
      "4\n"
     ]
    }
   ],
   "source": [
    "print(func2())"
   ]
  },
  {
   "cell_type": "code",
   "execution_count": 61,
   "id": "9a4df8a6",
   "metadata": {},
   "outputs": [],
   "source": [
    "a = 1\n",
    "\n",
    "def vartest(a):\n",
    "    a = a+1\n",
    "    return a"
   ]
  },
  {
   "cell_type": "code",
   "execution_count": 62,
   "id": "d9df9799",
   "metadata": {},
   "outputs": [
    {
     "data": {
      "text/plain": [
       "2"
      ]
     },
     "execution_count": 62,
     "metadata": {},
     "output_type": "execute_result"
    }
   ],
   "source": [
    "a = vartest(a)\n",
    "a"
   ]
  },
  {
   "cell_type": "markdown",
   "id": "84c63848",
   "metadata": {},
   "source": [
    "### 연습문제"
   ]
  },
  {
   "cell_type": "code",
   "execution_count": 63,
   "id": "3eafd2ca",
   "metadata": {},
   "outputs": [],
   "source": [
    "# 두 개의 인자와 연산자를 받아 사칙연산을 수행하는 fourResult 함수를 작성\n",
    "\n",
    "def fourResult(num1,num2,op):\n",
    "    if op == \"+\":\n",
    "        return num1+num2\n",
    "    elif op == \"-\":\n",
    "        return num1-num2\n",
    "    elif op == \"*\":\n",
    "        return num1*num2\n",
    "    elif op == \"/\":\n",
    "        return num1//num2"
   ]
  },
  {
   "cell_type": "code",
   "execution_count": 65,
   "id": "9846f661",
   "metadata": {},
   "outputs": [
    {
     "name": "stdout",
     "output_type": "stream",
     "text": [
      "6 + 3 = 9\n",
      "6 - 3 = 3\n",
      "6 * 3 = 18\n",
      "6 / 3 = 2\n"
     ]
    }
   ],
   "source": [
    "a, b = 6, 3\n",
    "\n",
    "print(\"{} {} {} = {}\".format(a,\"+\",b,fourResult(a,b,\"+\")))\n",
    "print(\"{} {} {} = {}\".format(a,\"-\",b,fourResult(a,b,\"-\")))\n",
    "print(\"{} {} {} = {}\".format(a,\"*\",b,fourResult(a,b,\"*\")))\n",
    "print(\"{} {} {} = {}\".format(a,\"/\",b,fourResult(a,b,\"/\")))"
   ]
  },
  {
   "cell_type": "code",
   "execution_count": null,
   "id": "4e807956",
   "metadata": {},
   "outputs": [],
   "source": []
  },
  {
   "cell_type": "code",
   "execution_count": 66,
   "id": "6dc3a281",
   "metadata": {},
   "outputs": [
    {
     "name": "stdout",
     "output_type": "stream",
     "text": [
      "첫번째 수 : 8\n",
      "두번째 수 : 4\n",
      "연산자 : +\n",
      "8 + 4 = 12\n"
     ]
    }
   ],
   "source": [
    "# 위에서 작성한 함수를 변경하여 사용자로부터 입력받은 숫자를 사칙연산해주는\n",
    "# 함수로 변경\n",
    "\n",
    "num1 = int(input(\"첫번째 수 : \"))\n",
    "num2 = int(input(\"두번째 수 : \"))\n",
    "op = input(\"연산자 : \")\n",
    "\n",
    "\n",
    "print(\"%d %s %d = %d\" % (num1,op,num2,fourResult(num1,num2,op)))"
   ]
  },
  {
   "cell_type": "code",
   "execution_count": 67,
   "id": "760ef060",
   "metadata": {},
   "outputs": [],
   "source": [
    "# 1~100까지 숫자 중에서 소수를 구하여 리턴하는 함수 작성\n",
    "\n",
    "prime_list = []\n",
    "\n",
    "def isPrime(x):\n",
    "    cnt = 0\n",
    "    \n",
    "    for i in range(1, x+1):\n",
    "        if x % i == 0:\n",
    "            cnt += 1\n",
    "    \n",
    "    if cnt == 2:\n",
    "        prime_list.append(x)"
   ]
  },
  {
   "cell_type": "code",
   "execution_count": 68,
   "id": "7396ef49",
   "metadata": {},
   "outputs": [],
   "source": [
    "for j in range(1,101):\n",
    "    isPrime(j)"
   ]
  },
  {
   "cell_type": "code",
   "execution_count": 70,
   "id": "d172fb5d",
   "metadata": {},
   "outputs": [
    {
     "name": "stdout",
     "output_type": "stream",
     "text": [
      "[2, 3, 5, 7, 11, 13, 17, 19, 23, 29, 31, 37, 41, 43, 47, 53, 59, 61, 67, 71, 73, 79, 83, 89, 97]\n"
     ]
    }
   ],
   "source": [
    "print(prime_list)"
   ]
  },
  {
   "cell_type": "code",
   "execution_count": 72,
   "id": "d7fb33cc",
   "metadata": {},
   "outputs": [],
   "source": [
    "# 파보나치 수열 0,1,1,2,3,5,8,13...\n",
    "# 입력을 정수 n으로 받았을때 n 이하까지 수열을 출력하는 함수\n",
    "\n",
    "\n",
    "# 재귀함수 : 함수 안에서 자신의 함수를 다시 한번 호출\n",
    "\n",
    "def fib(n):\n",
    "    if n == 0:                  #n이 0일 때는 0을 리턴\n",
    "        return n\n",
    "    if n == 1:                 #n이 1일 때는 1을 리턴\n",
    "        return n\n",
    "    return fib(n-1) + fib(n-2) #n이 2이상일 때는 그 이전의 두 값을 더하여 리턴\n"
   ]
  },
  {
   "cell_type": "code",
   "execution_count": 73,
   "id": "f1c859a2",
   "metadata": {},
   "outputs": [
    {
     "name": "stdout",
     "output_type": "stream",
     "text": [
      "0 1 1 2 3 5 "
     ]
    }
   ],
   "source": [
    "for i in range(6):\n",
    "    print(fib(i),end=\" \")"
   ]
  },
  {
   "cell_type": "code",
   "execution_count": 74,
   "id": "16c921c0",
   "metadata": {},
   "outputs": [],
   "source": [
    "import random\n",
    "\n",
    "def getNumber():\n",
    "    return random.randrange(1,46) # 1~45 사이의 숫자를 돌려줌"
   ]
  },
  {
   "cell_type": "code",
   "execution_count": 79,
   "id": "a0944231",
   "metadata": {},
   "outputs": [
    {
     "name": "stdout",
     "output_type": "stream",
     "text": [
      "[1, 27, 18, 25, 12, 35]\n"
     ]
    }
   ],
   "source": [
    "lotto = []\n",
    "\n",
    "while True:\n",
    "    num = getNumber()\n",
    "    \n",
    "    if lotto.count(num) == 0:\n",
    "        lotto.append(num)\n",
    "    \n",
    "    if len(lotto) >= 6:\n",
    "        break\n",
    "\n",
    "print(lotto)"
   ]
  },
  {
   "cell_type": "code",
   "execution_count": null,
   "id": "45f58837",
   "metadata": {},
   "outputs": [],
   "source": []
  },
  {
   "cell_type": "code",
   "execution_count": null,
   "id": "947a07ac",
   "metadata": {},
   "outputs": [],
   "source": []
  }
 ],
 "metadata": {
  "kernelspec": {
   "display_name": "Python 3",
   "language": "python",
   "name": "python3"
  },
  "language_info": {
   "codemirror_mode": {
    "name": "ipython",
    "version": 3
   },
   "file_extension": ".py",
   "mimetype": "text/x-python",
   "name": "python",
   "nbconvert_exporter": "python",
   "pygments_lexer": "ipython3",
   "version": "3.8.8"
  }
 },
 "nbformat": 4,
 "nbformat_minor": 5
}
